{
 "cells": [
  {
   "cell_type": "markdown",
   "metadata": {
    "collapsed": true
   },
   "source": [
    "# Exercise: Chicago Food Deserts\n",
    "\n",
    "#### Summary\n",
    "\n",
    "Looking at census tracts in Chicago to find food deserts - places without a good source of food.\n",
    "\n",
    "#### Data Source(s)\n",
    "\n",
    "All data from the city of Chicago\n",
    "\n",
    "#### Files\n",
    "\n",
    "- `Boundaries - Census Tracts - 2010.zip`, census tracts in Chicago from [here](https://data.cityofchicago.org/Facilities-Geographic-Boundaries/Boundaries-Census-Tracts-2010/5jrd-6zik)\n",
    "- `Grocery_Stores_-_2013.csv`, grocery stores in Chicago from [here](https://data.cityofchicago.org/Community-Economic-Development/Grocery-Stores-2013/53t8-wyrc)\n",
    "\n",
    "#### Data dictionary\n",
    "\n",
    "Visit the \"here\" links above. Scroll down a little and click 'Show All' to see every column.\n",
    "\n",
    "#### Skills\n",
    "\n",
    "- Opening shapefiles\n",
    "- Opening CSV files as geography\n",
    "- Reprojecting\n",
    "- Buffers"
   ]
  },
  {
   "cell_type": "markdown",
   "metadata": {
    "collapsed": true
   },
   "source": [
    "## Import what you'll need to do geographic work\n",
    "\n",
    "Probably pandas, geopandas, and the shapely thing that lets you make Points"
   ]
  },
  {
   "cell_type": "code",
   "execution_count": null,
   "metadata": {
    "collapsed": true
   },
   "outputs": [],
   "source": []
  },
  {
   "cell_type": "markdown",
   "metadata": {},
   "source": [
    "## Read in the census tract boundaries for Chicago\n",
    "\n",
    "Give it a name that makes sense, like `tracts`."
   ]
  },
  {
   "cell_type": "code",
   "execution_count": null,
   "metadata": {
    "collapsed": true
   },
   "outputs": [],
   "source": []
  },
  {
   "cell_type": "code",
   "execution_count": null,
   "metadata": {
    "collapsed": true
   },
   "outputs": [],
   "source": []
  },
  {
   "cell_type": "markdown",
   "metadata": {},
   "source": [
    "### Confirm that you have 10 columns and 801 rows"
   ]
  },
  {
   "cell_type": "code",
   "execution_count": null,
   "metadata": {
    "collapsed": true
   },
   "outputs": [],
   "source": []
  },
  {
   "cell_type": "markdown",
   "metadata": {},
   "source": [
    "### What does the data look like? What columns do you have?"
   ]
  },
  {
   "cell_type": "code",
   "execution_count": null,
   "metadata": {
    "collapsed": true
   },
   "outputs": [],
   "source": []
  },
  {
   "cell_type": "markdown",
   "metadata": {},
   "source": [
    "### Plot it to see if it looks okay"
   ]
  },
  {
   "cell_type": "code",
   "execution_count": null,
   "metadata": {
    "collapsed": true
   },
   "outputs": [],
   "source": []
  },
  {
   "cell_type": "markdown",
   "metadata": {},
   "source": [
    "## Read in the grocery store data for Chicago\n",
    "\n",
    "Note that you'll be reading in a **csv, not a shapefile**. This takes an extra conversion step to turn it into a GeoDataFrame - hopefully you have an easy cut-and-paste from last class!\n",
    "\n",
    "Give it a name that makes sense, like `grocery_stores`."
   ]
  },
  {
   "cell_type": "code",
   "execution_count": null,
   "metadata": {
    "collapsed": true
   },
   "outputs": [],
   "source": []
  },
  {
   "cell_type": "markdown",
   "metadata": {},
   "source": [
    "### Confirm that you have 506 rows"
   ]
  },
  {
   "cell_type": "code",
   "execution_count": null,
   "metadata": {
    "collapsed": true
   },
   "outputs": [],
   "source": []
  },
  {
   "cell_type": "markdown",
   "metadata": {},
   "source": [
    "### Plot to make sure it looks okay"
   ]
  },
  {
   "cell_type": "code",
   "execution_count": null,
   "metadata": {
    "collapsed": true
   },
   "outputs": [],
   "source": []
  },
  {
   "cell_type": "code",
   "execution_count": null,
   "metadata": {
    "collapsed": true
   },
   "outputs": [],
   "source": []
  },
  {
   "cell_type": "markdown",
   "metadata": {},
   "source": [
    "## Plot the grocery stores on top of the census tracts.\n",
    "\n",
    "- Make it look somewhat nice, with a nice grey background and grocery stores that stand out.\n",
    "- Be sure the CRSes are the same!"
   ]
  },
  {
   "cell_type": "code",
   "execution_count": null,
   "metadata": {
    "collapsed": true
   },
   "outputs": [],
   "source": []
  },
  {
   "cell_type": "markdown",
   "metadata": {},
   "source": [
    "## Which census tracts don't have a grocery store?\n",
    "\n",
    "Just in case you forgot, `~` means \"does NOT\" in pandas. So for example, you might think the following code means **\"plot all of the tracts that do NOT contain a grocery store\"**.\n",
    "\n",
    "```pyhon\n",
    "tracts[~tracts.contains(grocery_stores)].plot()\n",
    "```\n",
    "\n",
    "Try it. It doesn't work."
   ]
  },
  {
   "cell_type": "code",
   "execution_count": null,
   "metadata": {
    "collapsed": true
   },
   "outputs": [],
   "source": []
  },
  {
   "cell_type": "markdown",
   "metadata": {},
   "source": [
    "It actually means **\"plot all of the tracts that do not contain *every* grocery store\"**. Since no census tract contains every grocery store, it won't work."
   ]
  },
  {
   "cell_type": "markdown",
   "metadata": {},
   "source": [
    "## Geographic relationships\n",
    "\n",
    "There are [a lot of other spatial relationships](http://geopandas.org/reference.html), such as:\n",
    "\n",
    "* **contains:** each object’s interior contains the boundary and interior of the other object and their boundaries do not touch at all\n",
    "* **intersects:** the boundary and interior of each object intersects in any way with those of the other\n",
    "* **touches:** if the objects have at least one point in common and their interiors do not intersect with any part of the other\n",
    "* **within:** if each object’s boundary and interior intersect only with the interior of the other (not its boundary or exterior)\n",
    "* **disjoint:** the boundary and interior of each object does not intersect at all with those of the other\n",
    "* **crosses:** the interior of each object intersects the interior of the other but does not contain it, and the dimension of the intersection is less than the dimension of the one or the other.\n",
    "\n",
    "Rewrite those to make sense."
   ]
  },
  {
   "cell_type": "markdown",
   "metadata": {},
   "source": [
    "### Plot the census tracts that do not contain ANY grocery stores"
   ]
  },
  {
   "cell_type": "code",
   "execution_count": null,
   "metadata": {
    "collapsed": true
   },
   "outputs": [],
   "source": []
  },
  {
   "cell_type": "markdown",
   "metadata": {},
   "source": [
    "**But wait: that's not what we're doing!** We're interested in (kind of) people who are **half a mile** from a grocery store.\n",
    "\n",
    "## Which census tracts are far from a grocery store? Introducing buffer!\n",
    "\n",
    "`.buffer()` draws a buffer around a point, line, or shape. You can use it to say, \"show me things within XXX distance of YYY\". Try to take the grocery stores, draw a half-mile buffer around them, and plot it.\n",
    "\n",
    "**It won't look pretty.**"
   ]
  },
  {
   "cell_type": "code",
   "execution_count": null,
   "metadata": {
    "collapsed": true
   },
   "outputs": [],
   "source": []
  },
  {
   "cell_type": "markdown",
   "metadata": {},
   "source": [
    "## That... doesn't work.\n",
    "\n",
    "Unfortunately `.buffer` uses the units of the current CRS, and the current CRS is **EPSG:4326**. What units is it using? You'll need to ask Google."
   ]
  },
  {
   "cell_type": "code",
   "execution_count": null,
   "metadata": {
    "collapsed": true
   },
   "outputs": [],
   "source": []
  },
  {
   "cell_type": "markdown",
   "metadata": {},
   "source": [
    "## Reprojecting to be able to use meters\n",
    "\n",
    "Luckily we can use Mercator, the projection we should all dislike because it looks so ugly, to get units of meters.\n",
    "\n",
    "You can use the epsg of `3395` if you'd like, or use `{'proj': 'merc'}` - either one is fine.\n",
    "\n",
    "**How many meters is half a mile?**\n",
    "\n",
    "- Reproject grocery stores to be Mercator (permanently)\n",
    "- Create a half-mile buffer, \n",
    "- and map it."
   ]
  },
  {
   "cell_type": "code",
   "execution_count": null,
   "metadata": {
    "collapsed": true
   },
   "outputs": [],
   "source": []
  },
  {
   "cell_type": "code",
   "execution_count": null,
   "metadata": {
    "collapsed": true
   },
   "outputs": [],
   "source": []
  },
  {
   "cell_type": "markdown",
   "metadata": {},
   "source": [
    "## Finding our food deserts\n",
    "\n",
    "First, make a map of **every census tract** and **every grocery store**, along with a **buffer zone** around the grocery stores. You'll need to make sure they're in the **same projection**, and you might want to save the buffer to a new variable (`buffered_grocery_stores`, maybe?). You'll also probably want the buffer zone to be plotted with `alpha=0.5` or something like that to make it a bit transparent.\n",
    "\n",
    "Actually, just **permanently reproject `tracts` to be Mercator**."
   ]
  },
  {
   "cell_type": "code",
   "execution_count": null,
   "metadata": {
    "collapsed": true
   },
   "outputs": [],
   "source": []
  },
  {
   "cell_type": "markdown",
   "metadata": {},
   "source": [
    "## Now add to that the census tracts that do NOT touch one of our buffers.\n",
    "\n",
    "It... doesn't seem to look right, once again."
   ]
  },
  {
   "cell_type": "code",
   "execution_count": null,
   "metadata": {
    "collapsed": true
   },
   "outputs": [],
   "source": []
  },
  {
   "cell_type": "markdown",
   "metadata": {},
   "source": [
    "## The sad way of doing it\n",
    "\n",
    "If you want to do this right, we need to do it **one tract at a time**, and say \"hey, do you intersect with any buffers?\"\n",
    "\n",
    "First, let's pull out a single tract."
   ]
  },
  {
   "cell_type": "code",
   "execution_count": null,
   "metadata": {
    "collapsed": true
   },
   "outputs": [],
   "source": [
    "tract = tracts.loc[99]\n",
    "tract.geometry"
   ]
  },
  {
   "cell_type": "markdown",
   "metadata": {},
   "source": [
    "Then, ask it which grocery store buffers it interacts with. **I'm using `.head()` so I don't have to see a big long list**."
   ]
  },
  {
   "cell_type": "code",
   "execution_count": null,
   "metadata": {
    "collapsed": true
   },
   "outputs": [],
   "source": [
    "buffered_grocery_stores.intersects(tract.geometry).head()"
   ]
  },
  {
   "cell_type": "markdown",
   "metadata": {},
   "source": [
    "Instead of a big long list of `True` and `False` for every single comparison, I can say **\"hey, were any of those True?\"**"
   ]
  },
  {
   "cell_type": "code",
   "execution_count": null,
   "metadata": {
    "collapsed": true
   },
   "outputs": [],
   "source": [
    "buffered_grocery_stores.intersects(tract.geometry).any()"
   ]
  },
  {
   "cell_type": "markdown",
   "metadata": {},
   "source": [
    "### Using .intersects and .any() with a .apply\n",
    "\n",
    "So now we get to the real ugly part: go through every single tract, see if it intersects, and map accordingly."
   ]
  },
  {
   "cell_type": "code",
   "execution_count": null,
   "metadata": {
    "collapsed": true
   },
   "outputs": [],
   "source": [
    "# returns YES if the row intersects with ANY of the grocery stores\n",
    "def does_intersect(row):\n",
    "    return buffered_grocery_stores.intersects(row.geometry).any()\n",
    "\n",
    "# Go through every row, testing for an intersection\n",
    "# notice the ~ to make it negative\n",
    "tracts[~tracts.apply(does_intersect, axis=1)].plot()"
   ]
  },
  {
   "cell_type": "markdown",
   "metadata": {},
   "source": [
    "## Stop crying, please: we can fix this with `.unary_union`\n",
    "\n",
    "The problem right now is that we're comparing **every single tract** to **every single buffer**. But what if there was only **one buffer** instead of a few hundred?"
   ]
  },
  {
   "cell_type": "code",
   "execution_count": null,
   "metadata": {
    "collapsed": true
   },
   "outputs": [],
   "source": [
    "buffered_grocery_stores.unary_union"
   ]
  },
  {
   "cell_type": "markdown",
   "metadata": {},
   "source": [
    "Look at that!!!! **`.unary_union`** takes a bunch of polygons or whatever and turns them into ONE NICE SIMPLE POYLGON.\n",
    "\n",
    "And we can use that with our `.intersects` now, really super easily."
   ]
  },
  {
   "cell_type": "code",
   "execution_count": null,
   "metadata": {
    "collapsed": true
   },
   "outputs": [],
   "source": [
    "tracts[~tracts.intersects(buffered_grocery_stores.unary_union)].plot()"
   ]
  },
  {
   "cell_type": "markdown",
   "metadata": {},
   "source": [
    "## Plot that on top of the map you made before, with all of the circles\n",
    "\n",
    "You'll want to do it AFTER you plot all of the tracts but BEFORE you plot the grocery stores."
   ]
  },
  {
   "cell_type": "code",
   "execution_count": null,
   "metadata": {
    "collapsed": true
   },
   "outputs": [],
   "source": []
  },
  {
   "cell_type": "markdown",
   "metadata": {},
   "source": [
    "## Okay actually though I have bad news\n",
    "\n",
    "Usually when you do these comparisons, you aren't saying \"does ANY part of this census tract touch a buffer zone,\" you're saying \"does the CENTER of this census tract touch a buffer zone?\"\n",
    "\n",
    "**How do we find the center of the census tracts?** It isn't terrible, really."
   ]
  },
  {
   "cell_type": "markdown",
   "metadata": {},
   "source": [
    "## Getting the center of the census tracts\n",
    "\n",
    "The important thing is that they aren't called centers, they're called **centroids**.\n",
    "\n",
    "And you find them by just typing....... `centroid`."
   ]
  },
  {
   "cell_type": "code",
   "execution_count": null,
   "metadata": {
    "collapsed": true
   },
   "outputs": [],
   "source": []
  },
  {
   "cell_type": "markdown",
   "metadata": {},
   "source": [
    "## Which centroids aren't inside of a buffer?\n",
    "\n",
    "Well, we do the exact same as before, but we ask something like \"which centroids are NOT within the grocery store buffer zone?\", and then we feed that right back to `tracts`."
   ]
  },
  {
   "cell_type": "code",
   "execution_count": null,
   "metadata": {
    "collapsed": true
   },
   "outputs": [],
   "source": []
  },
  {
   "cell_type": "markdown",
   "metadata": {},
   "source": [
    "## And then we just map it all over again"
   ]
  },
  {
   "cell_type": "code",
   "execution_count": null,
   "metadata": {
    "collapsed": true
   },
   "outputs": [],
   "source": []
  },
  {
   "cell_type": "markdown",
   "metadata": {},
   "source": [
    "## And if we want to get technical and make your brain hurt more\n",
    "\n",
    "There are two kinds of grocery stores, A and B, and B should have a half-mile radius and A should have a one-mile radius."
   ]
  },
  {
   "cell_type": "code",
   "execution_count": null,
   "metadata": {
    "collapsed": true
   },
   "outputs": [],
   "source": [
    "def make_fancy_buffer(row):\n",
    "    if row['BUFFER SIZE'] == 'A':\n",
    "        return row.geometry.buffer(1600)\n",
    "    elif row['BUFFER SIZE'] == 'B':\n",
    "        return row.geometry.buffer(800)\n",
    "    \n",
    "fancy_buffer = grocery_stores.apply(make_fancy_buffer, axis=1)\n",
    "\n",
    "# We need to convert it into a GeoSeries because pandas thinks its a normal series\n",
    "fancy_buffer = gpd.GeoSeries(fancy_buffer)"
   ]
  },
  {
   "cell_type": "markdown",
   "metadata": {},
   "source": [
    "### Make the many-layered map again, but this time use `fancy_buffer` instead of `grocery_stores_buffer`"
   ]
  },
  {
   "cell_type": "code",
   "execution_count": null,
   "metadata": {
    "collapsed": true
   },
   "outputs": [],
   "source": []
  },
  {
   "cell_type": "code",
   "execution_count": null,
   "metadata": {
    "collapsed": true
   },
   "outputs": [],
   "source": []
  }
 ],
 "metadata": {
  "kernelspec": {
   "display_name": "Python 3",
   "language": "python",
   "name": "python3"
  },
  "language_info": {
   "codemirror_mode": {
    "name": "ipython",
    "version": 3
   },
   "file_extension": ".py",
   "mimetype": "text/x-python",
   "name": "python",
   "nbconvert_exporter": "python",
   "pygments_lexer": "ipython3",
   "version": "3.6.1"
  }
 },
 "nbformat": 4,
 "nbformat_minor": 2
}
