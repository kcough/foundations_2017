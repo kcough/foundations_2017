{
 "cells": [
  {
   "cell_type": "markdown",
   "metadata": {},
   "source": [
    "## Class Notes\n",
    "### Wednesday, June 28\n",
    "\n",
    "**Matplotlib** : matplotlib.org/contents.html - documentation\n",
    "\n",
    "**Bokeh**: making interactive charts\n",
    "\n",
    "**Seaborn**: statistical visualization\n",
    "\n",
    "**ggpy**: for plotting in Python, like ggplot for R"
   ]
  },
  {
   "cell_type": "code",
   "execution_count": null,
   "metadata": {
    "collapsed": true
   },
   "outputs": [],
   "source": []
  }
 ],
 "metadata": {
  "kernelspec": {
   "display_name": "Python 3",
   "language": "python",
   "name": "python3"
  },
  "language_info": {
   "codemirror_mode": {
    "name": "ipython",
    "version": 3
   },
   "file_extension": ".py",
   "mimetype": "text/x-python",
   "name": "python",
   "nbconvert_exporter": "python",
   "pygments_lexer": "ipython3",
   "version": "3.6.1"
  }
 },
 "nbformat": 4,
 "nbformat_minor": 2
}
