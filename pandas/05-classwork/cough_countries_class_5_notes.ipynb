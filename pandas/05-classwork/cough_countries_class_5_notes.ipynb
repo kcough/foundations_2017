{
 "cells": [
  {
   "cell_type": "code",
   "execution_count": null,
   "metadata": {
    "collapsed": true
   },
   "outputs": [],
   "source": [
    "#if you want to see what's in a directory, use ls in terminal...what's the python way to do this?\n",
    "#we had to do pip install pandas in the terminal before we did this!\n",
    "import pandas as pd\n",
    "#or you can do !pip install pandas"
   ]
  },
  {
   "cell_type": "code",
   "execution_count": null,
   "metadata": {
    "collapsed": true
   },
   "outputs": [],
   "source": [
    "#always read in files using 'df' or 'dataframe'\n",
    "df = pd.read_csv(\"countries.csv\")\n",
    "df"
   ]
  },
  {
   "cell_type": "code",
   "execution_count": null,
   "metadata": {
    "collapsed": true
   },
   "outputs": [],
   "source": [
    "df.shape\n",
    "df.dtypes\n",
    "#first thing you should do is df.shape to see rows and columns"
   ]
  },
  {
   "cell_type": "code",
   "execution_count": null,
   "metadata": {
    "collapsed": true
   },
   "outputs": [],
   "source": [
    "#let's look at the first few rows\n",
    "df.head()"
   ]
  },
  {
   "cell_type": "code",
   "execution_count": null,
   "metadata": {
    "collapsed": true
   },
   "outputs": [],
   "source": [
    "#and now the last\n",
    "df.tail()"
   ]
  },
  {
   "cell_type": "code",
   "execution_count": null,
   "metadata": {
    "collapsed": true
   },
   "outputs": [],
   "source": [
    "df.columns\n",
    "#let's look at a few columns"
   ]
  },
  {
   "cell_type": "code",
   "execution_count": null,
   "metadata": {
    "collapsed": true
   },
   "outputs": [],
   "source": [
    "df.dtypes\n",
    "#here we can see what kinds of things these are"
   ]
  },
  {
   "cell_type": "code",
   "execution_count": null,
   "metadata": {
    "collapsed": true
   },
   "outputs": [],
   "source": [
    "df.sort_values(by='Population', ascending=False)\n",
    "\n",
    "#to tell it to go in descending order tell it not to go ascending\n",
    "#true and Flase are boolean values\n"
   ]
  },
  {
   "cell_type": "code",
   "execution_count": null,
   "metadata": {
    "collapsed": true
   },
   "outputs": [],
   "source": [
    "df[\"Population\"]\n",
    "#a column is called a series\n",
    "#this is like we have a list of dictionaries. "
   ]
  },
  {
   "cell_type": "code",
   "execution_count": null,
   "metadata": {
    "collapsed": true
   },
   "outputs": [],
   "source": [
    "#if you want a sum: \n",
    "sum(df[\"Population\"])\n",
    "#or\n",
    "df[\"Population\"].sum()\n"
   ]
  },
  {
   "cell_type": "code",
   "execution_count": null,
   "metadata": {
    "collapsed": true
   },
   "outputs": [],
   "source": [
    "df[\"Population\"].std()\n",
    "#standard deviation"
   ]
  },
  {
   "cell_type": "code",
   "execution_count": null,
   "metadata": {
    "collapsed": true
   },
   "outputs": [],
   "source": [
    "df[\"Population\"].max()\n",
    "#max"
   ]
  },
  {
   "cell_type": "code",
   "execution_count": null,
   "metadata": {
    "collapsed": true
   },
   "outputs": [],
   "source": [
    "#if you want to get a bunch of basic info about the dataset...\n",
    "df[\"Population\"].describe()\n",
    "#use .astype(int) to turn it into an integer\n",
    "df[\"Population\"].describe().astype(int)\n"
   ]
  },
  {
   "cell_type": "code",
   "execution_count": null,
   "metadata": {
    "collapsed": true
   },
   "outputs": [],
   "source": [
    "df['Continent'].value_counts()"
   ]
  },
  {
   "cell_type": "code",
   "execution_count": null,
   "metadata": {
    "collapsed": true
   },
   "outputs": [],
   "source": [
    "df['Continent'].value_counts().plot(kind='bar')\n",
    "#it defaults to line chart .plot()\n",
    "#if you put a\n",
    "#this doesn't work because in order to make this work, we have to tell it to use matplotlib and put the chart there\n",
    "#%matplotlib inline\n",
    "#the % is called 'magic' you are saying, jupyter i'm giving a different command"
   ]
  },
  {
   "cell_type": "code",
   "execution_count": null,
   "metadata": {
    "collapsed": true
   },
   "outputs": [],
   "source": [
    "df['Continent'].value_counts().plot(kind='barh')\n",
    "#make it horizontal\n"
   ]
  },
  {
   "cell_type": "raw",
   "metadata": {},
   "source": [
    "#let's make a scatterplot with gdp and life expectancy\n",
    "df.plot(kind='scatter',x='GDP_per_capita', y='life_expectancy')"
   ]
  },
  {
   "cell_type": "code",
   "execution_count": null,
   "metadata": {
    "collapsed": true
   },
   "outputs": [],
   "source": [
    "#let's do exploratory data analysis\n",
    "#first have a hypothesis\n",
    "df.groupby(\"Continent\")[\"GDP_per_capita\"]\n",
    "#use brackets to get a column\n",
    "#what do we want to know about the column?\n",
    "#how about the mean?\n",
    "#what (column to group by), [what column you want info about], .what kind of info you want()\n",
    "df.groupby(\"Continent\")[\"GDP_per_capita\"].describe()"
   ]
  },
  {
   "cell_type": "code",
   "execution_count": null,
   "metadata": {
    "collapsed": true
   },
   "outputs": [],
   "source": [
    "df.mean()\n",
    "#group by is a method. when you use square brackets you're asking for one column\n",
    "#we're saying groupby this column('column name')[\"give us this column because we want to do something to it]\n",
    "#.theactionyouwanttotake()"
   ]
  },
  {
   "cell_type": "code",
   "execution_count": null,
   "metadata": {
    "collapsed": true
   },
   "outputs": [],
   "source": [
    "df.mean()['GDP_per_capita']"
   ]
  },
  {
   "cell_type": "code",
   "execution_count": null,
   "metadata": {
    "collapsed": true
   },
   "outputs": [],
   "source": [
    "patient = {'temperature':108}\n",
    "patient['temperature']>104"
   ]
  },
  {
   "cell_type": "code",
   "execution_count": null,
   "metadata": {
    "collapsed": true
   },
   "outputs": [],
   "source": [
    "#let's look at continent\n",
    "df['Continent']"
   ]
  },
  {
   "cell_type": "code",
   "execution_count": null,
   "metadata": {
    "collapsed": true
   },
   "outputs": [],
   "source": [
    "#how do you say, is your continent asia?\n",
    "df['Continent'] == 'Asia'\n",
    "#if you only do one = sign you're overwriting your data!\n",
    "#df[   ] on the outside\n",
    "#[comparison] on the inside\n",
    "#this will make it read 'Asia'for everywhere that that's true\n",
    "df[df['Continent'] == 'Asia']"
   ]
  },
  {
   "cell_type": "code",
   "execution_count": null,
   "metadata": {
    "collapsed": true
   },
   "outputs": [],
   "source": [
    "#I want all the countries where gdp_per_capita is above average\n",
    "df[df['GDP_per_capita'] > df['GDP_per_capita'].mean()]"
   ]
  },
  {
   "cell_type": "code",
   "execution_count": null,
   "metadata": {
    "collapsed": true
   },
   "outputs": [],
   "source": [
    "df[(df['Continent'] == 'Asia') & (df['GDP_per_capita'] > df['GDP_per_capita'].mean())]\n",
    "#this gives us countries in asia where GDP is above the mean"
   ]
  },
  {
   "cell_type": "code",
   "execution_count": null,
   "metadata": {
    "collapsed": true
   },
   "outputs": [],
   "source": [
    "#let's convert population to millions and save it\n",
    "df['millions'] = df['Population']/1000000\n",
    "#check to see if it worked\n",
    "df.head()"
   ]
  },
  {
   "cell_type": "code",
   "execution_count": null,
   "metadata": {
    "collapsed": true
   },
   "outputs": [],
   "source": [
    "#make a new column of gdp. multiply gdp_per_capita * population in millions / 1000000\n",
    "df['GDP_millions'] = df['GDP_per_capita']*df['Population'] / 1000000\n",
    "df.head()"
   ]
  },
  {
   "cell_type": "code",
   "execution_count": null,
   "metadata": {
    "collapsed": true
   },
   "outputs": [],
   "source": [
    "#you can do this:\n",
    "df.GDP_per_capita * df.Population\n",
    "#but when you have column names with spaces this won't work"
   ]
  },
  {
   "cell_type": "code",
   "execution_count": null,
   "metadata": {
    "collapsed": true
   },
   "outputs": [],
   "source": [
    "#can also do this\n",
    "df[(df.Continent == 'Asia') & (df.GDP_per_capita > df.GDP_per_capita.mean())]"
   ]
  },
  {
   "cell_type": "code",
   "execution_count": null,
   "metadata": {
    "collapsed": true
   },
   "outputs": [],
   "source": [
    "df.merge?\n",
    "#using the ? will show you things"
   ]
  },
  {
   "cell_type": "code",
   "execution_count": null,
   "metadata": {
    "collapsed": true
   },
   "outputs": [],
   "source": [
    "#let's say you want to take the column GDP_per_capita and group it by the continent.\n",
    "df.groupby(\"Continent\")['GDP_per_capita'].mean()\n",
    "#here continent isn't in brackets because you're passing 'continent' to the method 'groupby' but you're not\n",
    "#doing anything to continent"
   ]
  },
  {
   "cell_type": "code",
   "execution_count": null,
   "metadata": {
    "collapsed": true
   },
   "outputs": [],
   "source": [
    "df[['Continent','Population']]\n",
    "#to choose only a couple of columns"
   ]
  },
  {
   "cell_type": "code",
   "execution_count": null,
   "metadata": {
    "collapsed": true
   },
   "outputs": [],
   "source": []
  }
 ],
 "metadata": {
  "kernelspec": {
   "display_name": "Python 3",
   "language": "python",
   "name": "python3"
  },
  "language_info": {
   "codemirror_mode": {
    "name": "ipython",
    "version": 3
   },
   "file_extension": ".py",
   "mimetype": "text/x-python",
   "name": "python",
   "nbconvert_exporter": "python",
   "pygments_lexer": "ipython3",
   "version": "3.6.1"
  }
 },
 "nbformat": 4,
 "nbformat_minor": 2
}
