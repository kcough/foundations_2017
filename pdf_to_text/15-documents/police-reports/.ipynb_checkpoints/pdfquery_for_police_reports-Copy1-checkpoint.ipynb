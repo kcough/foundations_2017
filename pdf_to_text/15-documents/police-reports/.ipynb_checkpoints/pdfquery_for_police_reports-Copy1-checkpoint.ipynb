{
 "cells": [
  {
   "cell_type": "markdown",
   "metadata": {},
   "source": [
    "### Class notes, Monday July 10th 2017"
   ]
  },
  {
   "cell_type": "markdown",
   "metadata": {},
   "source": [
    "# While in the appropriate directory, run !ls to see the files"
   ]
  },
  {
   "cell_type": "code",
   "execution_count": 2,
   "metadata": {},
   "outputs": [
    {
     "name": "stdout",
     "output_type": "stream",
     "text": [
      "becerra.pdf                       output.txt\r\n",
      "dillon.pdf                        pdfquery_for_police_reports.ipynb\r\n"
     ]
    }
   ],
   "source": [
    "!ls"
   ]
  },
  {
   "cell_type": "markdown",
   "metadata": {},
   "source": [
    "# Open PDFQuery homepage\n",
    "\n",
    "and this:\n",
    "https://github.com/jcushman/pdfquery"
   ]
  },
  {
   "cell_type": "code",
   "execution_count": 3,
   "metadata": {
    "collapsed": true
   },
   "outputs": [],
   "source": [
    "import pdfquery\n"
   ]
  },
  {
   "cell_type": "code",
   "execution_count": 4,
   "metadata": {
    "collapsed": true
   },
   "outputs": [],
   "source": [
    "pdf = pdfquery.PDFQuery('becerra.pdf')\n",
    "pdf.load()"
   ]
  },
  {
   "cell_type": "code",
   "execution_count": 6,
   "metadata": {},
   "outputs": [
    {
     "data": {
      "text/plain": [
       "[<LTTextLineHorizontal>, <LTTextLineHorizontal>, <LTTextLineHorizontal>, <LTTextLineHorizontal>, <LTTextLineHorizontal>, <LTTextLineHorizontal>, <LTTextLineHorizontal>]"
      ]
     },
     "execution_count": 6,
     "metadata": {},
     "output_type": "execute_result"
    }
   ],
   "source": [
    "label = pdf.pq('LTTextLineHorizontal:contains(\"DRIVER\")')\n",
    "label\n",
    "#find me text that contains 'driver'"
   ]
  },
  {
   "cell_type": "code",
   "execution_count": 7,
   "metadata": {},
   "outputs": [
    {
     "data": {
      "text/plain": [
       "\"DRIVER' S LICENSE NO. WITH A FLORIDA TAG OF GMI—S61. THE DRIVER PULLED OVER TO THE SHOULDER AT THE 91 MILE MARKER EAST BOUND AND DRIVER CONTACT......... I MADE THEN CONTACT WITH THE DRIVER IDENTIFIED AS LEOPOLDO BECERRA DOB 6/ 27/ 67 DRIVER' S LICENSE, REGISTRATION AND INSURANCE CARD. LEOPOLDO SPOKE VERY LITTLE ENGLISH, TOLD ME THAT I CONTACTED THE CCSO DISPATCHER AND HAD HIM RUN THROUGH NCIC/ FCIC FOR HIS DRIVERS STATUS AND IF HE HAD ANY WARRANTS. DISPATCH ADVISED ME THAT HE HELD A REVOKED DRIVER S LICENSE DATED\""
      ]
     },
     "execution_count": 7,
     "metadata": {},
     "output_type": "execute_result"
    }
   ],
   "source": [
    "label.text()"
   ]
  },
  {
   "cell_type": "code",
   "execution_count": 8,
   "metadata": {},
   "outputs": [
    {
     "data": {
      "text/plain": [
       "{'Unnamed0': 'FLO110000',\n",
       " 'Unnamed1': 'A # 00211657',\n",
       " 'Unnamed2': 'LASTNAME, FIRSTNAME MIDDLE',\n",
       " 'Unnamed3': ''}"
      ]
     },
     "execution_count": 8,
     "metadata": {},
     "output_type": "execute_result"
    }
   ],
   "source": [
    "#find me text that contains something inside a bounding box\n",
    "# use this: https://jsoma.github.io/kull/#/\n",
    "\n",
    "pdf = pdfquery.PDFQuery('becerra.pdf')\n",
    "\n",
    "pdf.extract([\n",
    "('with_formatter', 'text'),\n",
    "('Unnamed0', 'LTPage[pageid=\\'1\\'] LTTextLineHorizontal:overlaps_bbox(\"281,610,388,627\")'),\n",
    "('Unnamed1', 'LTPage[pageid=\\'1\\'] LTTextLineHorizontal:overlaps_bbox(\"418,611,487,628\")'),\n",
    "('Unnamed2', 'LTPage[pageid=\\'1\\'] LTTextLineHorizontal:overlaps_bbox(\"11,576,118,594\")'),\n",
    "('Unnamed3', 'LTPage[pageid=\\'1\\'] LTTextLineHorizontal:overlaps_bbox(\"362,573,386,591\")')\n",
    "])"
   ]
  },
  {
   "cell_type": "markdown",
   "metadata": {},
   "source": [
    "## When you have tesseract\n",
    "there are these things caleld ZONE FILES (.UZN). "
   ]
  }
 ],
 "metadata": {
  "kernelspec": {
   "display_name": "Python 3",
   "language": "python",
   "name": "python3"
  },
  "language_info": {
   "codemirror_mode": {
    "name": "ipython",
    "version": 3
   },
   "file_extension": ".py",
   "mimetype": "text/x-python",
   "name": "python",
   "nbconvert_exporter": "python",
   "pygments_lexer": "ipython3",
   "version": "3.6.1"
  }
 },
 "nbformat": 4,
 "nbformat_minor": 2
}
