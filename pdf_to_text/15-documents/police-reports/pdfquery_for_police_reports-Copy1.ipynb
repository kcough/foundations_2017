{
 "cells": [
  {
   "cell_type": "markdown",
   "metadata": {},
   "source": [
    "### Class notes, Monday July 10th 2017"
   ]
  },
  {
   "cell_type": "markdown",
   "metadata": {},
   "source": [
    "# While in the appropriate directory, run !ls to see the files"
   ]
  },
  {
   "cell_type": "code",
   "execution_count": 2,
   "metadata": {},
   "outputs": [
    {
     "name": "stdout",
     "output_type": "stream",
     "text": [
      "becerra.pdf                       output.txt\r\n",
      "dillon.pdf                        pdfquery_for_police_reports.ipynb\r\n"
     ]
    }
   ],
   "source": [
    "!ls"
   ]
  },
  {
   "cell_type": "markdown",
   "metadata": {},
   "source": [
    "# Open PDFQuery homepage\n",
    "\n",
    "and this:\n",
    "https://github.com/jcushman/pdfquery"
   ]
  },
  {
   "cell_type": "code",
   "execution_count": 1,
   "metadata": {
    "collapsed": true
   },
   "outputs": [],
   "source": [
    "import pdfquery\n"
   ]
  },
  {
   "cell_type": "code",
   "execution_count": 2,
   "metadata": {
    "collapsed": true
   },
   "outputs": [],
   "source": [
    "pdf = pdfquery.PDFQuery('/Users/kaitlincough/Documents/lede/foundation/pdf_to_text/franklin_county_sheriff/request_doc.pdf')\n",
    "pdf.load()"
   ]
  },
  {
   "cell_type": "code",
   "execution_count": 4,
   "metadata": {},
   "outputs": [
    {
     "data": {
      "text/plain": [
       "{'commend': '',\n",
       " 'county': '',\n",
       " 'event_date_time': '',\n",
       " 'event_location': '',\n",
       " 'owner': '',\n",
       " 'property_related_to_event': '',\n",
       " 'report_date_time': '',\n",
       " 'report_no': '',\n",
       " 'type': ''}"
      ]
     },
     "execution_count": 4,
     "metadata": {},
     "output_type": "execute_result"
    }
   ],
   "source": [
    "#find me text that contains something inside a bounding box\n",
    "# use this: https://jsoma.github.io/kull/#/\n",
    "pdf = pdfquery.PDFQuery('/Users/kaitlincough/Documents/lede/foundation/pdf_to_text/franklin_county_sheriff/request_doc.pdf')\n",
    "\n",
    "pdf.extract([\n",
    "    ('with_formatter', 'text'),\n",
    "    ('report_no', 'LTPage[pageid=\\'1\\'] LTTextLineHorizontal:overlaps_bbox(\"89,682,142,672\")'),\n",
    "    ('type', 'LTPage[pageid=\\'1\\'] LTTextLineHorizontal:overlaps_bbox(\"68,669,96,658\")'),\n",
    "    ('commend', 'LTPage[pageid=\\'1\\'] LTTextLineHorizontal:overlaps_bbox(\"88,656,154,643\")'),\n",
    "    ('report_date_time', 'LTPage[pageid=\\'1\\'] LTTextLineHorizontal:overlaps_bbox(\"396,675,470,663\")'),\n",
    "    ('event_date_time', 'LTPage[pageid=\\'1\\'] LTTextLineHorizontal:overlaps_bbox(\"397,661,558,645\")'),\n",
    "    ('event_location', 'LTPage[pageid=\\'1\\'] LTTextLineHorizontal:overlaps_bbox(\"35,595,162,562\")'),\n",
    "    ('county', 'LTPage[pageid=\\'1\\'] LTTextLineHorizontal:overlaps_bbox(\"344,581,423,568\")'),\n",
    "    ('property_related_to_event', 'LTPage[pageid=\\'1\\'] LTTextLineHorizontal:overlaps_bbox(\"63,429,111,416\")'),\n",
    "    ('owner', 'LTPage[pageid=\\'1\\'] LTTextLineHorizontal:overlaps_bbox(\"62,388,146,372\")')\n",
    "])"
   ]
  },
  {
   "cell_type": "markdown",
   "metadata": {},
   "source": [
    "## When you have tesseract\n",
    "there are these things caleld ZONE FILES (.UZN). "
   ]
  }
 ],
 "metadata": {
  "kernelspec": {
   "display_name": "Python 3",
   "language": "python",
   "name": "python3"
  },
  "language_info": {
   "codemirror_mode": {
    "name": "ipython",
    "version": 3
   },
   "file_extension": ".py",
   "mimetype": "text/x-python",
   "name": "python",
   "nbconvert_exporter": "python",
   "pygments_lexer": "ipython3",
   "version": "3.6.1"
  }
 },
 "nbformat": 4,
 "nbformat_minor": 2
}
