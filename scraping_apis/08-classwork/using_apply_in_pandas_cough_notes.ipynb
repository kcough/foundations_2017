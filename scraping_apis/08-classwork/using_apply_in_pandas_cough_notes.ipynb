{
 "cells": [
  {
   "cell_type": "markdown",
   "metadata": {},
   "source": [
    "## Class notes \n",
    "June 14 2017\n",
    "Using Apply in Pandas"
   ]
  },
  {
   "cell_type": "code",
   "execution_count": 2,
   "metadata": {
    "collapsed": true
   },
   "outputs": [],
   "source": [
    "import pandas as pd"
   ]
  },
  {
   "cell_type": "code",
   "execution_count": 3,
   "metadata": {},
   "outputs": [
    {
     "data": {
      "text/html": [
       "<div>\n",
       "<style>\n",
       "    .dataframe thead tr:only-child th {\n",
       "        text-align: right;\n",
       "    }\n",
       "\n",
       "    .dataframe thead th {\n",
       "        text-align: left;\n",
       "    }\n",
       "\n",
       "    .dataframe tbody tr th {\n",
       "        vertical-align: top;\n",
       "    }\n",
       "</style>\n",
       "<table border=\"1\" class=\"dataframe\">\n",
       "  <thead>\n",
       "    <tr style=\"text-align: right;\">\n",
       "      <th></th>\n",
       "      <th>borough</th>\n",
       "      <th>cats</th>\n",
       "      <th>population</th>\n",
       "    </tr>\n",
       "  </thead>\n",
       "  <tbody>\n",
       "    <tr>\n",
       "      <th>0</th>\n",
       "      <td>Manhattan</td>\n",
       "      <td>107</td>\n",
       "      <td>1400</td>\n",
       "    </tr>\n",
       "    <tr>\n",
       "      <th>1</th>\n",
       "      <td>Brooklyn</td>\n",
       "      <td>205</td>\n",
       "      <td>3412</td>\n",
       "    </tr>\n",
       "    <tr>\n",
       "      <th>2</th>\n",
       "      <td>Bronx</td>\n",
       "      <td>33</td>\n",
       "      <td>323</td>\n",
       "    </tr>\n",
       "  </tbody>\n",
       "</table>\n",
       "</div>"
      ],
      "text/plain": [
       "     borough  cats  population\n",
       "0  Manhattan   107        1400\n",
       "1   Brooklyn   205        3412\n",
       "2      Bronx    33         323"
      ]
     },
     "execution_count": 3,
     "metadata": {},
     "output_type": "execute_result"
    }
   ],
   "source": [
    "df = pd.read_csv(\"boros.csv\")\n",
    "df.head()"
   ]
  },
  {
   "cell_type": "code",
   "execution_count": 4,
   "metadata": {},
   "outputs": [
    {
     "data": {
      "text/plain": [
       "0    0.076429\n",
       "1    0.060082\n",
       "2    0.102167\n",
       "dtype: float64"
      ]
     },
     "execution_count": 4,
     "metadata": {},
     "output_type": "execute_result"
    }
   ],
   "source": [
    "df['cats']/df['population']\n",
    "#calculating cats per capita"
   ]
  },
  {
   "cell_type": "code",
   "execution_count": 6,
   "metadata": {},
   "outputs": [
    {
     "data": {
      "text/html": [
       "<div>\n",
       "<style>\n",
       "    .dataframe thead tr:only-child th {\n",
       "        text-align: right;\n",
       "    }\n",
       "\n",
       "    .dataframe thead th {\n",
       "        text-align: left;\n",
       "    }\n",
       "\n",
       "    .dataframe tbody tr th {\n",
       "        vertical-align: top;\n",
       "    }\n",
       "</style>\n",
       "<table border=\"1\" class=\"dataframe\">\n",
       "  <thead>\n",
       "    <tr style=\"text-align: right;\">\n",
       "      <th></th>\n",
       "      <th>borough</th>\n",
       "      <th>cats</th>\n",
       "      <th>population</th>\n",
       "      <th>cats_per_capita</th>\n",
       "    </tr>\n",
       "  </thead>\n",
       "  <tbody>\n",
       "    <tr>\n",
       "      <th>0</th>\n",
       "      <td>Manhattan</td>\n",
       "      <td>107</td>\n",
       "      <td>1400</td>\n",
       "      <td>0.076429</td>\n",
       "    </tr>\n",
       "    <tr>\n",
       "      <th>1</th>\n",
       "      <td>Brooklyn</td>\n",
       "      <td>205</td>\n",
       "      <td>3412</td>\n",
       "      <td>0.060082</td>\n",
       "    </tr>\n",
       "    <tr>\n",
       "      <th>2</th>\n",
       "      <td>Bronx</td>\n",
       "      <td>33</td>\n",
       "      <td>323</td>\n",
       "      <td>0.102167</td>\n",
       "    </tr>\n",
       "  </tbody>\n",
       "</table>\n",
       "</div>"
      ],
      "text/plain": [
       "     borough  cats  population  cats_per_capita\n",
       "0  Manhattan   107        1400         0.076429\n",
       "1   Brooklyn   205        3412         0.060082\n",
       "2      Bronx    33         323         0.102167"
      ]
     },
     "execution_count": 6,
     "metadata": {},
     "output_type": "execute_result"
    }
   ],
   "source": [
    "#let's save it in a new column.\n",
    "df['cats_per_capita'] = df['cats']/df['population']\n",
    "df.head()"
   ]
  },
  {
   "cell_type": "code",
   "execution_count": null,
   "metadata": {
    "collapsed": true
   },
   "outputs": [],
   "source": [
    "#now we want a word there, a qualification: cats_per_capita >= 10 = high; cats_per_capita =< 10 = low\n",
    "if cats_per_capita < 0.10:\n",
    "    print('low')\n",
    "else:\n",
    "    print('high')"
   ]
  },
  {
   "cell_type": "code",
   "execution_count": 12,
   "metadata": {},
   "outputs": [
    {
     "name": "stdout",
     "output_type": "stream",
     "text": [
      "high\n",
      "low\n",
      "low\n",
      "low\n",
      "high\n",
      "low\n"
     ]
    }
   ],
   "source": [
    "#let's say we have a list of cat_pops. \n",
    "\n",
    "cat_pops = [0.07, 0.01,0.05,0.06,0.10, 0.01]\n",
    "for each_element in cat_pops:\n",
    "    if each_element < 0.07:\n",
    "        print('low')\n",
    "    else:\n",
    "        print('high')"
   ]
  },
  {
   "cell_type": "markdown",
   "metadata": {},
   "source": [
    "# Functions & Returns\n",
    "\n",
    "The things below (len, max and sum) are all functions. When they give you something back it's called **RETURNING** something.\n",
    "\n",
    "# Returns \n",
    "((don't forget this word))\n",
    "\n",
    "## Think of every single row coming in as a dictionary. \n",
    "So when you say row['some_name'] it has to be one of the columns that is defined in our data frame or it won't work."
   ]
  },
  {
   "cell_type": "code",
   "execution_count": 22,
   "metadata": {},
   "outputs": [
    {
     "data": {
      "text/plain": [
       "9"
      ]
     },
     "execution_count": 22,
     "metadata": {},
     "output_type": "execute_result"
    }
   ],
   "source": [
    "len('Hello')\n",
    "max([3,4,5,6,7])\n",
    "sum([3,3,3])"
   ]
  },
  {
   "cell_type": "code",
   "execution_count": 23,
   "metadata": {},
   "outputs": [
    {
     "data": {
      "text/plain": [
       "0    0.076429\n",
       "1    0.060082\n",
       "2    0.102167\n",
       "dtype: float64"
      ]
     },
     "execution_count": 23,
     "metadata": {},
     "output_type": "execute_result"
    }
   ],
   "source": [
    "#This is a FUNCTION\n",
    "#if you give your FUNCTION a ROW of your DATAFRAME\n",
    "#it will give you the number of cats per capita\n",
    "def cats_per_capita(row): #note that the name cats_per_capita is ARBITRARY. you could call it hotdogs. \n",
    "    return row['cats']/row['population']\n",
    "#note the word RETURN. you type the word return and then you give something back.\n",
    "#what if you want it to return nothing?! Type return 0. It'll return 0.\n",
    "df.apply(cats_per_capita, axis=1)\n",
    "\n",
    "#note that this is the same as df['cats]/df['population]"
   ]
  },
  {
   "cell_type": "markdown",
   "metadata": {},
   "source": [
    "Above we're saying hey data frame, I want you to run the exact code for every row in our data frame.\n",
    "Think about row as being a dictionary. **Always use the word row to avoid confusion**"
   ]
  },
  {
   "cell_type": "code",
   "execution_count": 24,
   "metadata": {},
   "outputs": [
    {
     "name": "stdout",
     "output_type": "stream",
     "text": [
      "I am looking at 0.01\n",
      "I am looking at 0.01\n",
      "I am looking at 0.01\n"
     ]
    }
   ],
   "source": [
    "#let's make another function:\n",
    "numbers = [1,2,3]\n",
    "for each_elemnt in numbers:\n",
    "    print(\"I am looking at\", each_element)\n",
    "    "
   ]
  },
  {
   "cell_type": "code",
   "execution_count": 25,
   "metadata": {},
   "outputs": [
    {
     "name": "stdout",
     "output_type": "stream",
     "text": [
      "I am looking at 0    Manhattan\n",
      "1     Brooklyn\n",
      "2        Bronx\n",
      "Name: borough, dtype: object\n",
      "-----\n",
      "I am looking at 0    107\n",
      "1    205\n",
      "2     33\n",
      "Name: cats, dtype: object\n",
      "-----\n",
      "I am looking at 0    1400\n",
      "1    3412\n",
      "2     323\n",
      "Name: population, dtype: object\n",
      "-----\n",
      "I am looking at 0    0.0764286\n",
      "1    0.0600821\n",
      "2     0.102167\n",
      "Name: cats_per_capita, dtype: object\n",
      "-----\n"
     ]
    },
    {
     "data": {
      "text/plain": [
       "borough            None\n",
       "cats               None\n",
       "population         None\n",
       "cats_per_capita    None\n",
       "dtype: object"
      ]
     },
     "execution_count": 25,
     "metadata": {},
     "output_type": "execute_result"
    }
   ],
   "source": [
    "def looking_at_something(row):\n",
    "    print(\"I am looking at\", row)\n",
    "    print('-----')\n",
    "df.apply(looking_at_something)\n",
    "#note we're applying this to our df.\n",
    "#the first thing it shows me is the first column, then the second column, then the third.\n",
    "#NOTE THAT HERE we're MISSING AXIS = 1. If you don't have axis=1, pandas will look at the columns and not the rows"
   ]
  },
  {
   "cell_type": "code",
   "execution_count": 26,
   "metadata": {},
   "outputs": [
    {
     "name": "stdout",
     "output_type": "stream",
     "text": [
      "I am looking at borough            Manhattan\n",
      "cats                     107\n",
      "population              1400\n",
      "cats_per_capita    0.0764286\n",
      "Name: 0, dtype: object\n",
      "-----\n",
      "I am looking at borough             Brooklyn\n",
      "cats                     205\n",
      "population              3412\n",
      "cats_per_capita    0.0600821\n",
      "Name: 1, dtype: object\n",
      "-----\n",
      "I am looking at borough               Bronx\n",
      "cats                     33\n",
      "population              323\n",
      "cats_per_capita    0.102167\n",
      "Name: 2, dtype: object\n",
      "-----\n"
     ]
    },
    {
     "data": {
      "text/plain": [
       "0    None\n",
       "1    None\n",
       "2    None\n",
       "dtype: object"
      ]
     },
     "execution_count": 26,
     "metadata": {},
     "output_type": "execute_result"
    }
   ],
   "source": [
    "def looking_at_something(row):\n",
    "    print(\"I am looking at\", row)\n",
    "    print('-----')\n",
    "df.apply(looking_at_something, axis=1)\n",
    "#note the df.apply. at the beginning we defined our df as df."
   ]
  },
  {
   "cell_type": "code",
   "execution_count": 28,
   "metadata": {},
   "outputs": [
    {
     "data": {
      "text/html": [
       "<div>\n",
       "<style>\n",
       "    .dataframe thead tr:only-child th {\n",
       "        text-align: right;\n",
       "    }\n",
       "\n",
       "    .dataframe thead th {\n",
       "        text-align: left;\n",
       "    }\n",
       "\n",
       "    .dataframe tbody tr th {\n",
       "        vertical-align: top;\n",
       "    }\n",
       "</style>\n",
       "<table border=\"1\" class=\"dataframe\">\n",
       "  <thead>\n",
       "    <tr style=\"text-align: right;\">\n",
       "      <th></th>\n",
       "      <th>borough</th>\n",
       "      <th>cats</th>\n",
       "      <th>population</th>\n",
       "      <th>cats_per_capita</th>\n",
       "    </tr>\n",
       "  </thead>\n",
       "  <tbody>\n",
       "    <tr>\n",
       "      <th>0</th>\n",
       "      <td>Manhattan</td>\n",
       "      <td>107</td>\n",
       "      <td>1400</td>\n",
       "      <td>0.076429</td>\n",
       "    </tr>\n",
       "    <tr>\n",
       "      <th>1</th>\n",
       "      <td>Brooklyn</td>\n",
       "      <td>205</td>\n",
       "      <td>3412</td>\n",
       "      <td>0.060082</td>\n",
       "    </tr>\n",
       "    <tr>\n",
       "      <th>2</th>\n",
       "      <td>Bronx</td>\n",
       "      <td>33</td>\n",
       "      <td>323</td>\n",
       "      <td>0.102167</td>\n",
       "    </tr>\n",
       "  </tbody>\n",
       "</table>\n",
       "</div>"
      ],
      "text/plain": [
       "     borough  cats  population  cats_per_capita\n",
       "0  Manhattan   107        1400         0.076429\n",
       "1   Brooklyn   205        3412         0.060082\n",
       "2      Bronx    33         323         0.102167"
      ]
     },
     "execution_count": 28,
     "metadata": {},
     "output_type": "execute_result"
    }
   ],
   "source": [
    "#let's remind ourselves of what's in here.\n",
    "df.head()"
   ]
  },
  {
   "cell_type": "code",
   "execution_count": 29,
   "metadata": {},
   "outputs": [
    {
     "data": {
      "text/html": [
       "<div>\n",
       "<style>\n",
       "    .dataframe thead tr:only-child th {\n",
       "        text-align: right;\n",
       "    }\n",
       "\n",
       "    .dataframe thead th {\n",
       "        text-align: left;\n",
       "    }\n",
       "\n",
       "    .dataframe tbody tr th {\n",
       "        vertical-align: top;\n",
       "    }\n",
       "</style>\n",
       "<table border=\"1\" class=\"dataframe\">\n",
       "  <thead>\n",
       "    <tr style=\"text-align: right;\">\n",
       "      <th></th>\n",
       "      <th>borough</th>\n",
       "      <th>cats</th>\n",
       "      <th>population</th>\n",
       "      <th>cats_per_capita</th>\n",
       "      <th>cat_words</th>\n",
       "    </tr>\n",
       "  </thead>\n",
       "  <tbody>\n",
       "    <tr>\n",
       "      <th>0</th>\n",
       "      <td>Manhattan</td>\n",
       "      <td>107</td>\n",
       "      <td>1400</td>\n",
       "      <td>0.076429</td>\n",
       "      <td>low</td>\n",
       "    </tr>\n",
       "    <tr>\n",
       "      <th>1</th>\n",
       "      <td>Brooklyn</td>\n",
       "      <td>205</td>\n",
       "      <td>3412</td>\n",
       "      <td>0.060082</td>\n",
       "      <td>low</td>\n",
       "    </tr>\n",
       "    <tr>\n",
       "      <th>2</th>\n",
       "      <td>Bronx</td>\n",
       "      <td>33</td>\n",
       "      <td>323</td>\n",
       "      <td>0.102167</td>\n",
       "      <td>high</td>\n",
       "    </tr>\n",
       "  </tbody>\n",
       "</table>\n",
       "</div>"
      ],
      "text/plain": [
       "     borough  cats  population  cats_per_capita cat_words\n",
       "0  Manhattan   107        1400         0.076429       low\n",
       "1   Brooklyn   205        3412         0.060082       low\n",
       "2      Bronx    33         323         0.102167      high"
      ]
     },
     "execution_count": 29,
     "metadata": {},
     "output_type": "execute_result"
    }
   ],
   "source": [
    "#let's take the results\n",
    "#here we're saying hey, let's take every row and run this new function, CALCULATE CATS. in the column \n",
    "#cats_per_capita, look at the first row and see how many cats_per_capita do you have?\n",
    "#if the number is less than 0.1, return low. otherwise, return high.\n",
    "def calculate_cats(row):\n",
    "    if row['cats_per_capita'] < 0.1:\n",
    "        return 'low'\n",
    "    else:\n",
    "        return 'high'\n",
    "df.apply(calculate_cats, axis=1)\n",
    "#now take this output and store it in a new column\n",
    "df['cat_words'] = df.apply(calculate_cats, axis=1)\n",
    "#and take a look at the df now.\n",
    "df.head()"
   ]
  },
  {
   "cell_type": "markdown",
   "metadata": {},
   "source": [
    "# The whole point of .apply is that you already have a df that you're working with in advance\n",
    "Then you can use that df to do other things and run through websites etc. (think of truck example, nail salon example)\n",
    "\n",
    "# Things you'll forget: axis = 1 . \n",
    "to test things, print(row). \n",
    "# you'll also forget 'return'"
   ]
  },
  {
   "cell_type": "code",
   "execution_count": null,
   "metadata": {
    "collapsed": true
   },
   "outputs": [],
   "source": [
    "def scrape_some_stuff(row):\n",
    "    print('I am about to scrape', row['borough'])\n",
    "    url = 'http://www.cats.com/population'+row['borough']\n",
    "    print('Visiting', url)\n",
    "    print('I found some cats with BeautifulSoup')\n",
    "    print('------------')\n",
    "df.apply(scrape_some_stuff, axis=1)"
   ]
  },
  {
   "cell_type": "markdown",
   "metadata": {},
   "source": [
    "# Controlling browsers through Python\n",
    "as a way to get around having to enter all the form data and headers and things when you're accessing a site via python (like we did for texas barber violations)"
   ]
  },
  {
   "cell_type": "code",
   "execution_count": 30,
   "metadata": {
    "collapsed": true
   },
   "outputs": [],
   "source": [
    "import selenium"
   ]
  },
  {
   "cell_type": "markdown",
   "metadata": {},
   "source": [
    "# WebDriver\n",
    "You need one specific to the browser that you're using. So you need one for Chrome. Selenium is not python, it's a different thing. We installed Python bindings for selenium-there's something on your machine that isn't python but your computer can talk to it anyway. Be aware that if you're looking for code for selenium it can use lots of different languages; make sure it's for python."
   ]
  },
  {
   "cell_type": "code",
   "execution_count": null,
   "metadata": {
    "collapsed": true
   },
   "outputs": [],
   "source": []
  },
  {
   "cell_type": "code",
   "execution_count": null,
   "metadata": {
    "collapsed": true
   },
   "outputs": [],
   "source": []
  },
  {
   "cell_type": "code",
   "execution_count": null,
   "metadata": {
    "collapsed": true
   },
   "outputs": [],
   "source": []
  }
 ],
 "metadata": {
  "kernelspec": {
   "display_name": "Python 3",
   "language": "python",
   "name": "python3"
  },
  "language_info": {
   "codemirror_mode": {
    "name": "ipython",
    "version": 3
   },
   "file_extension": ".py",
   "mimetype": "text/x-python",
   "name": "python",
   "nbconvert_exporter": "python",
   "pygments_lexer": "ipython3",
   "version": "3.6.1"
  }
 },
 "nbformat": 4,
 "nbformat_minor": 2
}
