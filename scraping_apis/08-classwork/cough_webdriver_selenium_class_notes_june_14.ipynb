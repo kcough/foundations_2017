{
 "cells": [
  {
   "cell_type": "markdown",
   "metadata": {},
   "source": [
    "# Class Notes (continued from using_apply_in_pandas)\n",
    "June 14 2017\n",
    "\n",
    "\n",
    "# WebDriver\n",
    "You need one specific to the browser that you're using. So you need one for Chrome. Selenium is not python, it's a different thing. We installed Python bindings for selenium-there's something on your machine that isn't python but your computer can talk to it anyway. Be aware that if you're looking for code for selenium it can use lots of different languages; make sure it's for python."
   ]
  },
  {
   "cell_type": "code",
   "execution_count": 5,
   "metadata": {
    "collapsed": true
   },
   "outputs": [],
   "source": [
    "from selenium import webdriver"
   ]
  },
  {
   "cell_type": "code",
   "execution_count": 6,
   "metadata": {
    "collapsed": true
   },
   "outputs": [],
   "source": [
    "driver = webdriver.Chrome()"
   ]
  },
  {
   "cell_type": "code",
   "execution_count": 7,
   "metadata": {
    "collapsed": true
   },
   "outputs": [],
   "source": [
    "driver.get('http://www.nytimes.com')\n",
    "#when you do this, the nyt think it's just a normal browser visiting the times. "
   ]
  },
  {
   "cell_type": "markdown",
   "metadata": {},
   "source": [
    "Let's say we want to scrape the page for headlines. Selenium is you interacting directly with the browser."
   ]
  },
  {
   "cell_type": "code",
   "execution_count": 8,
   "metadata": {},
   "outputs": [
    {
     "data": {
      "text/plain": [
       "<selenium.webdriver.remote.webelement.WebElement (session=\"9e0c20ec0e028a3e2c255dee7dfc4a25\", element=\"0.6521930174495378-1\")>"
      ]
     },
     "execution_count": 8,
     "metadata": {},
     "output_type": "execute_result"
    }
   ],
   "source": [
    "driver.find_element_by_class_name('story-heading')\n",
    "#start to type this and hit tab, it'll autocomplete with all of the options. let's look for story-headings (syntax we\n",
    "#found from using inspect on the nyt webpage and noting that the class name was story-heading)"
   ]
  },
  {
   "cell_type": "code",
   "execution_count": 9,
   "metadata": {},
   "outputs": [
    {
     "data": {
      "text/plain": [
       "'Congressman Is Hit in Multiple Shooting'"
      ]
     },
     "execution_count": 9,
     "metadata": {},
     "output_type": "execute_result"
    }
   ],
   "source": [
    "#save it as a headline\n",
    "headline = driver.find_element_by_class_name('story-heading')\n",
    "headline.text"
   ]
  },
  {
   "cell_type": "code",
   "execution_count": 19,
   "metadata": {},
   "outputs": [
    {
     "data": {
      "text/plain": [
       "153"
      ]
     },
     "execution_count": 19,
     "metadata": {},
     "output_type": "execute_result"
    }
   ],
   "source": [
    "#what if you want to find all? there's a find_elements (plural!)\n",
    "headlines = driver.find_elements_by_class_name('story-heading')\n",
    "len(headlines)"
   ]
  },
  {
   "cell_type": "code",
   "execution_count": 20,
   "metadata": {},
   "outputs": [
    {
     "name": "stdout",
     "output_type": "stream",
     "text": [
      "Congressman Is Hit in Multiple Shooting\n",
      "Steve Scalise, House Majority Whip, Is Shot at Ball Field\n",
      "Trump Speaks on Shooting\n",
      "What We Know About the Virginia Shooting\n",
      "At Least 6 Dead in London Apartment Tower Fire\n",
      "The London Fire: What We Know 31 minutes ago\n",
      "Flames Engulf an Apartment Tower\n",
      "Sessions Denies Collusion, Deploring ‘Detestable Lie’\n",
      "Trump Stews. Staff Steps In. Mueller Is Safe for Now.\n",
      "Democrats to Sue Trump Over Foreign Business Deals\n",
      "Trump, in Zigzag, Calls House Republicans’ Health Bill ‘Mean’\n",
      "Trump Opens Door to More U.S. Troops in Afghanistan War\n",
      "ISIS Captures Tora Bora, Once Bin Laden’s Afghan Fortress 10:09 AM ET\n",
      "In Spain With the Frugal Traveler\n",
      "The Southern Charms of Spain and Portugal\n",
      "Why Efforts to Rescue Migrants Can Have Deadly Consequences\n",
      "Your Wednesday Briefing\n",
      "\n",
      "Listen to ‘The Daily’\n",
      "When ‘What Do You Do?’ Is Taboo\n",
      "Social Interaction Is Critical for Health\n",
      "Official in Flint Water Crisis Gets Manslaughter Charge\n",
      "One Way to Fix Uber: Think Twice Before Using It\n",
      "Uber Board Member Resigns After Sexist Remark\n",
      "Uber Chief Taking Leave of Absence After Investigation 9:05 AM ET\n",
      "North Korea Frees American Student Said to Be in Coma\n",
      "Interview a Conspiracy Theorist? Megyn Kelly’s Defense\n",
      "Katy Perry Woke Up. She Wants to Tell You All About It.\n",
      "New York Officers Told to Relax Stance on Petty Offenses\n",
      "U.S. Troops in Besieged City, Philippine Military Says 9:13 AM ET\n",
      "What to Expect From the Fed Today 9:52 AM ET\n",
      "Chinese Chairman Who Sought Ties to Kushner Is Detained\n",
      "Australia to Pay $53 Million Settlement to Detainees\n",
      "Roaming Charges End in Europe, but Response Muted\n",
      "\n",
      "\n",
      "\n",
      "Morning Briefing\n",
      "The Rich Food Tradition of Juneteenth\n",
      "Best of Late Night: Political Calculations\n",
      "The Hidden Treasures in Italian Libraries\n",
      "\n",
      "\n",
      "\n",
      "The Trumpiest Roman of Them All\n",
      "In Defense of Cultural Appropriation\n",
      "Bruni: The Mortification of Jeff Sessions\n",
      "Friedman: Solving the Korea Crisis by Teaching a Horse to Sing\n",
      "Why Companies Like Uber Get Away With Bad Behavior\n",
      "Our Fall From ‘Bachelor in Paradise’\n",
      "Editorial: Jeff Sessions Clams Up in Congress\n",
      "Bernie Sanders: How Democrats Can Stop Losing\n",
      "\n",
      "\n",
      "‘What’s the Difference Between a Reporter and a Correspondent?’\n",
      "Play Today’s Puzzle\n",
      "\n",
      "How to Live With Critics (No Matter Who You Are)\n",
      "The Myth of Disability ‘Sob Stories’\n",
      "A High-Stakes New York City Thriller\n",
      "What Spanx Founder Can’t Travel Without\n",
      "I Thought I Understood America. Then Came Trump.\n",
      "Defining the Reporter and the Correspondent\n",
      "\n",
      "\n",
      "\n",
      "\n",
      "\n",
      "\n",
      "London Fire: At Least 6 Dead After Blaze Engulfs Apartment Tower\n",
      "Efforts to Rescue Migrants Caused Deadly, Unexpected Consequences\n",
      "Otto Warmbier, Detained American, Is Evacuated From North Korea in a Coma\n",
      "State of the Art: One Way to Fix Uber: Think Twice Before Using It\n",
      "David Bonderman Resigns From Uber Board After Sexist Remark\n",
      "Uber Embraces Major Reforms as Travis Kalanick, the C.E.O., Steps Away\n",
      "Op-Ed Contributors: You’re Probably Going to Need Medicaid\n",
      "Editorial: The Senate Hides Its Trumpcare Bill Behind Closed Doors\n",
      "David Brooks: Is Radicalism Possible Today?\n",
      "Steve Scalise Among 5 Shot at Baseball Field\n",
      "Torture Victim, Expecting a U.S. Handshake, Was Given Handcuffs Instead\n",
      "Ed Gillespie and Ralph Northam Beat Upstarts in Virginia Governor Primaries\n",
      "State of the Art: One Way to Fix Uber: Think Twice Before Using It\n",
      "Uber Embraces Major Reforms as Travis Kalanick, the C.E.O., Steps Away\n",
      "David Bonderman Resigns From Uber Board After Sexist Remark\n",
      "Cosby Trial Live Briefing: Bill Cosby Trial Day 8: What to Expect\n",
      "Katy Perry Woke Up. She Wants to Tell You All About It.\n",
      "Met Museum Changes Leadership Structure\n",
      "Charter School Founded by DeVos Family Reflects National Tensions\n",
      "Who Is Ralph Northam, Virginia’s Democratic Nominee for Governor?\n",
      "Who Is Ed Gillespie, Virginia’s G.O.P. Nominee for Governor?\n",
      "Meet the Goopies\n",
      "Condé Nast Closes Style.com Months After Its Debut\n",
      "Critic's Notebook: Christian Louboutin Opens the Florence Shows With Bike Polo\n",
      "The 25 Best Films of the 21st Century So Far.\n",
      "Trailer: ‘Moka’\n",
      "Review: ‘The Mummy,’ With Tom Cruise, Deserves a Quick Burial\n",
      "For Children With Autism, No More Being Hushed\n",
      "About New York: A $25 Million Mistake That the City Won’t Admit\n",
      "Officer’s Journey to Gay Pride Honoree Marks a Town’s Progress\n",
      "This Soccer Club Has Everything You’d Want Except ...\n",
      "Dustin Johnson’s Brother: Buddy, Goad and Caddie\n",
      "Report Finds 17 Deaths and Labor Abuses at Russia’s World Cup Stadiums\n",
      "A Word With: Oskar Eustis on Trump, ‘Julius Caesar’ and the Politics of Theater\n",
      "How Outrage Built Over a Shakespearean Depiction of Trump\n",
      "Why ‘Julius Caesar’ Speaks to Politics Today. With or Without Trump.\n",
      "On Nuclear Waste, Finland Shows U.S. How It Can Be Done\n",
      "A Chicken Sandwich Hitches a Balloon Ride to the Stratosphere\n",
      "Basics: The Liver: A ‘Blob’ That Runs the Body\n",
      "Rosalie Sorrels, a Folk Singer Who Transported Her Audience, Is Dead at 83\n",
      "Charles P. Thacker Dies at 74; Helped Design Early Personal Computer\n",
      "Ed Victor, a Stylish and Frenetic Book Agent, Dies at 77\n",
      "Watching: Margaret Atwood Annotates Season 1 of ‘The Handmaid’s Tale’\n",
      "Cosby Trial Live Briefing: Bill Cosby Trial Day 8: What to Expect\n",
      "Best of Late Night: Trevor Noah Thinks President Trump Could Fire Robert Mueller\n",
      "Phys Ed: Hot Weather Workout? Try a Hot Bath Beforehand\n",
      "Basics: The Liver: A ‘Blob’ That Runs the Body\n",
      "Would Carrots by Any Other Name Taste as Sweet? Study Suggests Not\n",
      "Frugal Traveler: The Southern Charms of Spain and Portugal\n",
      "Surfacing: Five Places to Go in Paris\n",
      "Cultured Traveler: The Hidden Treasures in Italian Libraries\n",
      "Tracy K. Smith Is the New Poet Laureate\n",
      "Books of The Times: Sherman Alexie’s Complicated Grief for His Mother\n",
      "Fiction: A High-Stakes New York City Thriller Where Noir and Nostalgia Meet\n",
      "Penn State Student’s Dying Hours Play Out in Courtroom Video\n",
      "Preparing ‘Emerging Adults’ for College and Beyond\n",
      "‘How Far Can They Go?’ Police Search of Hundreds of Students Stokes Lawsuit and Constitutional Questions\n",
      "Critic's Notebook: Sydney’s New Guard: Five Restaurants Leading the Way\n",
      "Bunya-Bunya? Plum Pine? A Melbourne Chef’s Rich Vocabulary\n",
      "Hot Links and Red Drinks: The Rich Food Tradition of Juneteenth\n",
      "Opinion: Is Putin Getting What He Wanted With Trump?\n",
      "Editorial: It’s the Olympics for Trump Apologists\n",
      "Frank Bruni: Can Democrats Save Themselves?\n",
      "International Real Estate: House Hunting in … Luxembourg\n",
      "What You Get: $700,000 Homes in Pennsylvania, Nebraska and Texas\n",
      "What's Selling Now: Homes That Sold for Around $450,000\n",
      "Public Health: G.O.P. Senators Might Not Realize It, but Not One State Supports the A.H.C.A.\n",
      "Public Health: Trump Says Market Is Failing, but One Insurer Bets Big on Obamacare\n",
      "Danger Zone: Inside the Algorithm That Tries to Predict Gun Violence in Chicago\n",
      "Feature: Reading Erdogan’s Ambitions in Turkey’s New Mosques\n",
      "Feature: The Man Behind Trump’s Voter-Fraud Obsession\n",
      "Feature: The Long, Lonely Road of Chelsea Manning\n",
      "Wheels: In Portland, a Rare Outpost for Die-Hard Saab Fans\n",
      "Driven: Video Review: With New Ioniq, Hyundai Goes After Prius\n",
      "Bits: Electronic Setups of Driverless Cars Vulnerable to Hackers\n",
      "A Beloved British Illustrator, at the Beach\n",
      "Behind the Scenes With London Fashion Week’s New Darling\n",
      "The Best of London Men’s Fashion Week\n",
      "Ask The Times: ‘What’s the Difference Between a Reporter and a Correspondent?’\n",
      "What We’re Reading\n",
      "Think FOIA Is a Paper Tiger? The New York Times Gives It Some Bite\n",
      "Tivoli, N.Y.: Authenticity on the Hudson\n",
      "Search for Homes for Sale or Rent\n",
      "Mortgage Calculator\n"
     ]
    }
   ],
   "source": [
    "#use a for loop to look at all of the headlines\n",
    "for each_element in headlines:\n",
    "    print(each_element.text.strip())"
   ]
  },
  {
   "cell_type": "code",
   "execution_count": 21,
   "metadata": {},
   "outputs": [
    {
     "name": "stdout",
     "output_type": "stream",
     "text": [
      "<selenium.webdriver.remote.webelement.WebElement (session=\"9e0c20ec0e028a3e2c255dee7dfc4a25\", element=\"0.470923764624247-154\")>\n"
     ]
    }
   ],
   "source": [
    "search_button = driver.find_element_by_class_name('search-button')\n",
    "print(search_button)"
   ]
  },
  {
   "cell_type": "code",
   "execution_count": null,
   "metadata": {
    "collapsed": true
   },
   "outputs": [],
   "source": [
    "search_button.click()"
   ]
  },
  {
   "cell_type": "markdown",
   "metadata": {},
   "source": [
    "note what's happening in the browser. the search page opens; we're controlling the browser from python."
   ]
  },
  {
   "cell_type": "code",
   "execution_count": 24,
   "metadata": {
    "collapsed": true
   },
   "outputs": [],
   "source": [
    "#now we want to be able to search directly in python. go to the nytimes page and in the inspector hover over the search\n",
    "#bar. right click and find the xpath and copy it. \n",
    "search_input = driver.find_element_by_xpath('//*[@id=\"search-input\"]')\n",
    "#we got the xpath by hovering over the search bar in element, right clicking, \n",
    "#and copying the xpath (//*[@id=\"search-input\"])"
   ]
  },
  {
   "cell_type": "code",
   "execution_count": 25,
   "metadata": {
    "collapsed": true
   },
   "outputs": [],
   "source": [
    "search_input.send_keys('Syria')\n",
    "#here we're inputing Syria into the search bar. click the go button. find its xpath and do the same thing as above."
   ]
  },
  {
   "cell_type": "code",
   "execution_count": 29,
   "metadata": {},
   "outputs": [
    {
     "ename": "WebDriverException",
     "evalue": "Message: no such session\n  (Driver info: chromedriver=2.30.477690 (c53f4ad87510ee97b5c3425a14c0e79780cdf262),platform=Mac OS X 10.12.5 x86_64)\n",
     "output_type": "error",
     "traceback": [
      "\u001b[0;31m---------------------------------------------------------------------------\u001b[0m",
      "\u001b[0;31mWebDriverException\u001b[0m                        Traceback (most recent call last)",
      "\u001b[0;32m<ipython-input-29-5b961780ddce>\u001b[0m in \u001b[0;36m<module>\u001b[0;34m()\u001b[0m\n\u001b[0;32m----> 1\u001b[0;31m \u001b[0mgo_button\u001b[0m \u001b[0;34m=\u001b[0m \u001b[0mdriver\u001b[0m\u001b[0;34m.\u001b[0m\u001b[0mfind_element_by_xpath\u001b[0m\u001b[0;34m(\u001b[0m\u001b[0;34m'//*[@id=\"masthead\"]/div[5]/nav/form/div/div[2]/button[2]'\u001b[0m\u001b[0;34m)\u001b[0m\u001b[0;34m\u001b[0m\u001b[0m\n\u001b[0m",
      "\u001b[0;32m/usr/local/lib/python3.6/site-packages/selenium/webdriver/remote/webdriver.py\u001b[0m in \u001b[0;36mfind_element_by_xpath\u001b[0;34m(self, xpath)\u001b[0m\n\u001b[1;32m    311\u001b[0m             \u001b[0mdriver\u001b[0m\u001b[0;34m.\u001b[0m\u001b[0mfind_element_by_xpath\u001b[0m\u001b[0;34m(\u001b[0m\u001b[0;34m'//div/td[1]'\u001b[0m\u001b[0;34m)\u001b[0m\u001b[0;34m\u001b[0m\u001b[0m\n\u001b[1;32m    312\u001b[0m         \"\"\"\n\u001b[0;32m--> 313\u001b[0;31m         \u001b[0;32mreturn\u001b[0m \u001b[0mself\u001b[0m\u001b[0;34m.\u001b[0m\u001b[0mfind_element\u001b[0m\u001b[0;34m(\u001b[0m\u001b[0mby\u001b[0m\u001b[0;34m=\u001b[0m\u001b[0mBy\u001b[0m\u001b[0;34m.\u001b[0m\u001b[0mXPATH\u001b[0m\u001b[0;34m,\u001b[0m \u001b[0mvalue\u001b[0m\u001b[0;34m=\u001b[0m\u001b[0mxpath\u001b[0m\u001b[0;34m)\u001b[0m\u001b[0;34m\u001b[0m\u001b[0m\n\u001b[0m\u001b[1;32m    314\u001b[0m \u001b[0;34m\u001b[0m\u001b[0m\n\u001b[1;32m    315\u001b[0m     \u001b[0;32mdef\u001b[0m \u001b[0mfind_elements_by_xpath\u001b[0m\u001b[0;34m(\u001b[0m\u001b[0mself\u001b[0m\u001b[0;34m,\u001b[0m \u001b[0mxpath\u001b[0m\u001b[0;34m)\u001b[0m\u001b[0;34m:\u001b[0m\u001b[0;34m\u001b[0m\u001b[0m\n",
      "\u001b[0;32m/usr/local/lib/python3.6/site-packages/selenium/webdriver/remote/webdriver.py\u001b[0m in \u001b[0;36mfind_element\u001b[0;34m(self, by, value)\u001b[0m\n\u001b[1;32m    789\u001b[0m         return self.execute(Command.FIND_ELEMENT, {\n\u001b[1;32m    790\u001b[0m             \u001b[0;34m'using'\u001b[0m\u001b[0;34m:\u001b[0m \u001b[0mby\u001b[0m\u001b[0;34m,\u001b[0m\u001b[0;34m\u001b[0m\u001b[0m\n\u001b[0;32m--> 791\u001b[0;31m             'value': value})['value']\n\u001b[0m\u001b[1;32m    792\u001b[0m \u001b[0;34m\u001b[0m\u001b[0m\n\u001b[1;32m    793\u001b[0m     \u001b[0;32mdef\u001b[0m \u001b[0mfind_elements\u001b[0m\u001b[0;34m(\u001b[0m\u001b[0mself\u001b[0m\u001b[0;34m,\u001b[0m \u001b[0mby\u001b[0m\u001b[0;34m=\u001b[0m\u001b[0mBy\u001b[0m\u001b[0;34m.\u001b[0m\u001b[0mID\u001b[0m\u001b[0;34m,\u001b[0m \u001b[0mvalue\u001b[0m\u001b[0;34m=\u001b[0m\u001b[0;32mNone\u001b[0m\u001b[0;34m)\u001b[0m\u001b[0;34m:\u001b[0m\u001b[0;34m\u001b[0m\u001b[0m\n",
      "\u001b[0;32m/usr/local/lib/python3.6/site-packages/selenium/webdriver/remote/webdriver.py\u001b[0m in \u001b[0;36mexecute\u001b[0;34m(self, driver_command, params)\u001b[0m\n\u001b[1;32m    254\u001b[0m         \u001b[0mresponse\u001b[0m \u001b[0;34m=\u001b[0m \u001b[0mself\u001b[0m\u001b[0;34m.\u001b[0m\u001b[0mcommand_executor\u001b[0m\u001b[0;34m.\u001b[0m\u001b[0mexecute\u001b[0m\u001b[0;34m(\u001b[0m\u001b[0mdriver_command\u001b[0m\u001b[0;34m,\u001b[0m \u001b[0mparams\u001b[0m\u001b[0;34m)\u001b[0m\u001b[0;34m\u001b[0m\u001b[0m\n\u001b[1;32m    255\u001b[0m         \u001b[0;32mif\u001b[0m \u001b[0mresponse\u001b[0m\u001b[0;34m:\u001b[0m\u001b[0;34m\u001b[0m\u001b[0m\n\u001b[0;32m--> 256\u001b[0;31m             \u001b[0mself\u001b[0m\u001b[0;34m.\u001b[0m\u001b[0merror_handler\u001b[0m\u001b[0;34m.\u001b[0m\u001b[0mcheck_response\u001b[0m\u001b[0;34m(\u001b[0m\u001b[0mresponse\u001b[0m\u001b[0;34m)\u001b[0m\u001b[0;34m\u001b[0m\u001b[0m\n\u001b[0m\u001b[1;32m    257\u001b[0m             response['value'] = self._unwrap_value(\n\u001b[1;32m    258\u001b[0m                 response.get('value', None))\n",
      "\u001b[0;32m/usr/local/lib/python3.6/site-packages/selenium/webdriver/remote/errorhandler.py\u001b[0m in \u001b[0;36mcheck_response\u001b[0;34m(self, response)\u001b[0m\n\u001b[1;32m    192\u001b[0m         \u001b[0;32melif\u001b[0m \u001b[0mexception_class\u001b[0m \u001b[0;34m==\u001b[0m \u001b[0mUnexpectedAlertPresentException\u001b[0m \u001b[0;32mand\u001b[0m \u001b[0;34m'alert'\u001b[0m \u001b[0;32min\u001b[0m \u001b[0mvalue\u001b[0m\u001b[0;34m:\u001b[0m\u001b[0;34m\u001b[0m\u001b[0m\n\u001b[1;32m    193\u001b[0m             \u001b[0;32mraise\u001b[0m \u001b[0mexception_class\u001b[0m\u001b[0;34m(\u001b[0m\u001b[0mmessage\u001b[0m\u001b[0;34m,\u001b[0m \u001b[0mscreen\u001b[0m\u001b[0;34m,\u001b[0m \u001b[0mstacktrace\u001b[0m\u001b[0;34m,\u001b[0m \u001b[0mvalue\u001b[0m\u001b[0;34m[\u001b[0m\u001b[0;34m'alert'\u001b[0m\u001b[0;34m]\u001b[0m\u001b[0;34m.\u001b[0m\u001b[0mget\u001b[0m\u001b[0;34m(\u001b[0m\u001b[0;34m'text'\u001b[0m\u001b[0;34m)\u001b[0m\u001b[0;34m)\u001b[0m\u001b[0;34m\u001b[0m\u001b[0m\n\u001b[0;32m--> 194\u001b[0;31m         \u001b[0;32mraise\u001b[0m \u001b[0mexception_class\u001b[0m\u001b[0;34m(\u001b[0m\u001b[0mmessage\u001b[0m\u001b[0;34m,\u001b[0m \u001b[0mscreen\u001b[0m\u001b[0;34m,\u001b[0m \u001b[0mstacktrace\u001b[0m\u001b[0;34m)\u001b[0m\u001b[0;34m\u001b[0m\u001b[0m\n\u001b[0m\u001b[1;32m    195\u001b[0m \u001b[0;34m\u001b[0m\u001b[0m\n\u001b[1;32m    196\u001b[0m     \u001b[0;32mdef\u001b[0m \u001b[0m_value_or_default\u001b[0m\u001b[0;34m(\u001b[0m\u001b[0mself\u001b[0m\u001b[0;34m,\u001b[0m \u001b[0mobj\u001b[0m\u001b[0;34m,\u001b[0m \u001b[0mkey\u001b[0m\u001b[0;34m,\u001b[0m \u001b[0mdefault\u001b[0m\u001b[0;34m)\u001b[0m\u001b[0;34m:\u001b[0m\u001b[0;34m\u001b[0m\u001b[0m\n",
      "\u001b[0;31mWebDriverException\u001b[0m: Message: no such session\n  (Driver info: chromedriver=2.30.477690 (c53f4ad87510ee97b5c3425a14c0e79780cdf262),platform=Mac OS X 10.12.5 x86_64)\n"
     ]
    }
   ],
   "source": [
    "go_button = driver.find_element_by_xpath('//*[@id=\"masthead\"]/div[5]/nav/form/div/div[2]/button[2]')"
   ]
  },
  {
   "cell_type": "code",
   "execution_count": null,
   "metadata": {
    "collapsed": true
   },
   "outputs": [],
   "source": [
    "element.send_keys(Keys.RETURN)\n",
    "#hitting the enter button in selenium"
   ]
  },
  {
   "cell_type": "code",
   "execution_count": 28,
   "metadata": {
    "collapsed": true
   },
   "outputs": [],
   "source": [
    "driver.close()"
   ]
  },
  {
   "cell_type": "code",
   "execution_count": null,
   "metadata": {
    "collapsed": true
   },
   "outputs": [],
   "source": []
  }
 ],
 "metadata": {
  "kernelspec": {
   "display_name": "Python 3",
   "language": "python",
   "name": "python3"
  },
  "language_info": {
   "codemirror_mode": {
    "name": "ipython",
    "version": 3
   },
   "file_extension": ".py",
   "mimetype": "text/x-python",
   "name": "python",
   "nbconvert_exporter": "python",
   "pygments_lexer": "ipython3",
   "version": "3.6.1"
  }
 },
 "nbformat": 4,
 "nbformat_minor": 2
}
