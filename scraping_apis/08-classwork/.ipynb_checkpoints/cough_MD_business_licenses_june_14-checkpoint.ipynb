{
 "cells": [
  {
   "cell_type": "markdown",
   "metadata": {},
   "source": [
    "# Scraping Maryland Business Licenses with Selenium\n",
    "\n",
    "Maryland has a [great portal](https://jportal.mdcourts.gov/license/pbPublicSearch.jsp) for searching business licenses, but the only problem is you have to check a box in order to get in.\n",
    "\n",
    "1. Try to visit [the public search page](https://jportal.mdcourts.gov/license/pbPublicSearch.jsp)\n",
    "2. Get redirected to a \"I agree to this\" page. Click that you've read the disclaimer, click Enter the Site.\n",
    "3. Click \"Search License Records\" down at the bottom of the page\n",
    "4. You're now on the search page! From the \"Jurisdiction\" dropdown, select \"Statewide\"\n",
    "5. In the \"Trade Name\" field, type \"Vap%\" to try to find vape shops\n",
    "6. Click \"Next\" in the bottom right-hand corner to go to the next page\n",
    "7. Click \"Click for detail\" to see the details for a specific business license.\n",
    "\n",
    "That's a lot of stuff! **Let's get to work.**"
   ]
  },
  {
   "cell_type": "markdown",
   "metadata": {},
   "source": [
    "## Preparation\n",
    "\n",
    "### When you search for a business license, what URL should Selenium try to visit first?"
   ]
  },
  {
   "cell_type": "markdown",
   "metadata": {
    "collapsed": true
   },
   "source": [
    "https://jportal.mdcourts.gov/license/pbPublicSearch.jsp"
   ]
  },
  {
   "cell_type": "code",
   "execution_count": 1,
   "metadata": {
    "collapsed": true
   },
   "outputs": [],
   "source": [
    "from selenium import webdriver"
   ]
  },
  {
   "cell_type": "code",
   "execution_count": 2,
   "metadata": {
    "collapsed": true
   },
   "outputs": [],
   "source": [
    "driver = webdriver.Chrome()"
   ]
  },
  {
   "cell_type": "code",
   "execution_count": 3,
   "metadata": {
    "collapsed": true
   },
   "outputs": [],
   "source": [
    "driver.get('https://jportal.mdcourts.gov/license/pbPublicSearch.jsp')\n",
    "#when he says it isn't going to work he means that you won't get there in your selenium browser, because you're\n",
    "#first redirected to the homepage."
   ]
  },
  {
   "cell_type": "markdown",
   "metadata": {},
   "source": [
    "**It isn't going to work, though! It's going to redirect to that intro page.** You can use *Incognito mode* to go back through the \"Check the box, etc\" series of pages.\n",
    "\n",
    "### How will you identify the checkbox to check it?\n",
    "\n",
    "Selenium can find elements by:\n",
    "\n",
    "- name\n",
    "- Class\n",
    "- ID\n",
    "- CSS selector (**ASK ME WHAT THIS IS** if you don't know)\n",
    "- XPath (**ASK ME WHAT THIS IS** because you definitely don't know)\n",
    "- Link text\n",
    "- Partial link text\n",
    "\n",
    "So in other words, what's unique about this element?\n",
    "\n",
    "- *TIP: I have a secret awesome way to do this, but you have to ask.*"
   ]
  },
  {
   "cell_type": "code",
   "execution_count": 4,
   "metadata": {
    "collapsed": true
   },
   "outputs": [],
   "source": [
    "#you'll find it by inspecting the page and looking for the xpath, which in this case is: //*[@id=\"checkbox\"]\n",
    "checkbox = driver.find_element_by_xpath('//*[@id=\"checkbox\"]')"
   ]
  },
  {
   "cell_type": "markdown",
   "metadata": {},
   "source": [
    "### How will you identify the button to select it, or the form to submit it?\n",
    "\n",
    "Selenium can submit forms by either\n",
    "\n",
    "- Selecting the form and using `.submit()`, or\n",
    "- Selecting the button and using `.click()`\n",
    "\n",
    "You only need to be able to get **one, not both.**"
   ]
  },
  {
   "cell_type": "code",
   "execution_count": 5,
   "metadata": {
    "collapsed": true
   },
   "outputs": [],
   "source": [
    "checkbox.click()"
   ]
  },
  {
   "cell_type": "code",
   "execution_count": 6,
   "metadata": {
    "collapsed": true
   },
   "outputs": [],
   "source": [
    "from selenium.webdriver.common.keys import Keys\n",
    "checkbox.send_keys(Keys.RETURN)"
   ]
  },
  {
   "cell_type": "markdown",
   "metadata": {},
   "source": [
    "### Once you're on the next page, how will you click the \"SEARCH LICENSE RECORDS\" link or follow its URL?"
   ]
  },
  {
   "cell_type": "code",
   "execution_count": 7,
   "metadata": {
    "collapsed": true
   },
   "outputs": [],
   "source": [
    "search = driver.find_element_by_xpath ('/html/body/table[2]/tbody/tr[6]/td[2]/a[2]')\n",
    "search.send_keys(Keys.RETURN)"
   ]
  },
  {
   "cell_type": "markdown",
   "metadata": {},
   "source": [
    "### Now you're on the form page. How do you pick \"Statewide\" for the jurisdiction dropdown?"
   ]
  },
  {
   "cell_type": "code",
   "execution_count": 8,
   "metadata": {
    "collapsed": true
   },
   "outputs": [],
   "source": [
    "from selenium.webdriver.support.ui import Select"
   ]
  },
  {
   "cell_type": "code",
   "execution_count": 9,
   "metadata": {
    "collapsed": true
   },
   "outputs": [],
   "source": [
    "# select_tag = driver.find_element_by_name('Jurisdiction') #Jurisdiction is the drop down menu\n",
    "# select = Select(select_tag) \n",
    "# select.select_by_visible_text('Statewide')\n",
    "#this is another way to do this\n",
    "\n",
    "\n",
    "jurisdiction = driver.find_element_by_xpath ('//*[@id=\"slcJurisdiction\"]/option[2]')\n",
    "jurisdiction.click()"
   ]
  },
  {
   "cell_type": "markdown",
   "metadata": {},
   "source": [
    "### How do you type \"vap%\" into the Trade Name field?"
   ]
  },
  {
   "cell_type": "code",
   "execution_count": 10,
   "metadata": {
    "collapsed": true
   },
   "outputs": [],
   "source": [
    "#first select the trade name field \n",
    "type_vap = driver.find_element_by_xpath('//*[@id=\"txtTradeName\"]')\n",
    "#click on it\n",
    "type_vap.click()\n",
    "#type something into the box\n",
    "type_vap.send_keys('VAP%')\n",
    "#and hit return\n",
    "type_vap.send_keys(Keys.RETURN)"
   ]
  },
  {
   "cell_type": "markdown",
   "metadata": {},
   "source": [
    "### How do you click the submit button or submit the form?"
   ]
  },
  {
   "cell_type": "code",
   "execution_count": 11,
   "metadata": {
    "collapsed": true
   },
   "outputs": [],
   "source": [
    "#type_vap.send_keys(Keys.RETURN)"
   ]
  },
  {
   "cell_type": "markdown",
   "metadata": {},
   "source": [
    "### How can you find and click the 'Next' button on the search results page?"
   ]
  },
  {
   "cell_type": "code",
   "execution_count": 12,
   "metadata": {
    "collapsed": true
   },
   "outputs": [],
   "source": [
    "while True:\n",
    "    try:\n",
    "        driver.find_element_by_xpath('/html/body/table[2]/tbody/tr[4]/td[2]/table[2]/tbody/tr/td[3]/a').click()\n",
    "    except:\n",
    "        break\n",
    "        \n",
    "#these are other things to do but they don't work. but maybe good for notes and to understand?\n",
    "\n",
    "# while True:\n",
    "#     try:\n",
    "#         driver.find_element_by_tag_name('nobr').click()\n",
    "#     except:\n",
    "#          break\n",
    "\n",
    "\n",
    "# #using a while loop:\n",
    "# count = 0\n",
    "# count = count + 1\n",
    "# while True:\n",
    "#     try:\n",
    "#         driver.get_the_button('button').click()\n",
    "#         #try and get that link and click it. if you get an error exit the while loop\n",
    "#     except:\n",
    "#         break\n",
    "#     #grab the next button\n"
   ]
  },
  {
   "cell_type": "markdown",
   "metadata": {},
   "source": [
    "# Okay, let's scrape!\n",
    "\n",
    "### Use Selenium to search for vape shops statewide, and then click through until it reaches the last page.\n",
    "\n",
    "Don't scrape yet!"
   ]
  },
  {
   "cell_type": "code",
   "execution_count": 13,
   "metadata": {
    "collapsed": true
   },
   "outputs": [],
   "source": [
    "while True:\n",
    "    try:\n",
    "        driver.find_element_by_xpath('/html/body/table[2]/tbody/tr[4]/td[2]/table[2]/tbody/tr/td[1]/a').click()\n",
    "        #simply replace the xpath with the one for the back button\n",
    "    except:\n",
    "        break"
   ]
  },
  {
   "cell_type": "markdown",
   "metadata": {},
   "source": [
    "### Use Selenium to scrape the first page of search results for vape shops statewide (well, we'll try).\n",
    "\n",
    "- *TIP: You can find elements/text using Selenium, or use BeautifulSoup with `doc = BeautifulSoup(driver.page_source)`*\n",
    "\n",
    "I've included some BeautifulSoup code that might be helpful. If you use it, **ask me how I made it.** It's important."
   ]
  },
  {
   "cell_type": "code",
   "execution_count": 14,
   "metadata": {
    "collapsed": true
   },
   "outputs": [],
   "source": [
    "from bs4 import BeautifulSoup\n",
    "doc = BeautifulSoup(driver.page_source, 'html.parser')\n",
    "# results = driver.find_elements_by_tag_name('td')\n",
    "# #they're all in the tag name td \n",
    "# #be very careful that ELEMENTS is PLURAL because otherwise it'll only\n",
    "# #find ONE!!!\n",
    "# for each_element in results:\n",
    "#     print(each_element.text.strip())"
   ]
  },
  {
   "cell_type": "code",
   "execution_count": 15,
   "metadata": {},
   "outputs": [
    {
     "data": {
      "text/plain": [
       "5"
      ]
     },
     "execution_count": 15,
     "metadata": {},
     "output_type": "execute_result"
    }
   ],
   "source": [
    "# IF YOU ARE USING BEAUTIFULSOUP, HERE IS SOME SAMPLE CODE\n",
    "# IF YOU USE THIS CODE, ASK ME HOW I MADE IT. IT'S IMPORTANT.\n",
    "business_headers = doc.find_all('tr',class_='searchfieldtitle')\n",
    "len(business_headers)"
   ]
  },
  {
   "cell_type": "code",
   "execution_count": 18,
   "metadata": {},
   "outputs": [
    {
     "name": "stdout",
     "output_type": "stream",
     "text": [
      "HEADER is 1.\n",
      "VAPE IT STORE II\n",
      "ROW 0 is AMIN NARGIS\n",
      "Lic. Status: Issued\n",
      "ROW 1 is 1015 S SALISBURY BLVD\n",
      "License: 22173808\n",
      "ROW 2 is SALISBURY, MD 21801\n",
      "Issued Date: 4/27/2017\n",
      "ROW 3 is Wicomico County\n",
      "----\n",
      "HEADER is 2.\n",
      "VAPE IT STORE I\n",
      "ROW 0 is AMIN NARGIS\n",
      "Lic. Status: Issued\n",
      "ROW 1 is 1724 N SALISBURY BLVD UNIT 2\n",
      "License: 22173807\n",
      "ROW 2 is SALISBURY, MD 21801\n",
      "Issued Date: 4/27/2017\n",
      "ROW 3 is Wicomico County\n",
      "----\n",
      "HEADER is 3.\n",
      "VAPEPAD THE\n",
      "ROW 0 is ANJ DISTRIBUTIONS LLC\n",
      "Lic. Status: Issued\n",
      "ROW 1 is 2299 JOHNS HOPKINS ROAD\n",
      "License: 02104436\n",
      "ROW 2 is GAMBRILLS, MD 21054\n",
      "Issued Date: 4/05/2017\n",
      "ROW 3 is Anne Arundel County\n",
      "----\n",
      "HEADER is 4.\n",
      "VAPE FROG\n",
      "ROW 0 is COX TRADING COMPANY L L C\n",
      "Lic. Status: Issued\n",
      "ROW 1 is 110 S. PINEY RD\n",
      "License: 17165957\n",
      "ROW 2 is CHESTER, MD 21619\n",
      "Issued Date: 5/31/2017\n",
      "ROW 3 is Queen Anne's County\n",
      "----\n",
      "HEADER is 5.\n",
      "VAPE FROG\n",
      "Pending *\n",
      "ROW 0 is COX TRADING LLC\n",
      "Lic. Status: Pending\n",
      "ROW 1 is 346 RITCHIE HIGHWAY\n",
      "ROW 2 is SEVERNA PARK, MD 21146\n",
      "ROW 3 is Anne Arundel County\n",
      "----\n"
     ]
    }
   ],
   "source": [
    "# You'll probably need to find specific tds inside\n",
    "# of the rows instead of looking at the whole thing.\n",
    "for header in business_headers:\n",
    "    rows = header.find_next_siblings('tr')\n",
    "    print(\"HEADER is\", header.text.strip())\n",
    "    print(\"ROW 0 is\", rows[0].text.strip())\n",
    "    print(\"ROW 1 is\", rows[1].text.strip())\n",
    "    print(\"ROW 2 is\", rows[2].text.strip())\n",
    "    print(\"ROW 3 is\", rows[3].text.strip())\n",
    "    print(\"----\")"
   ]
  },
  {
   "cell_type": "markdown",
   "metadata": {},
   "source": [
    "### Save these into `vape-results.csv`"
   ]
  },
  {
   "cell_type": "code",
   "execution_count": 17,
   "metadata": {},
   "outputs": [
    {
     "ename": "TypeError",
     "evalue": "DataFrame constructor called with incompatible data and dtype: setting an array element with a sequence",
     "output_type": "error",
     "traceback": [
      "\u001b[0;31m---------------------------------------------------------------------------\u001b[0m",
      "\u001b[0;31mValueError\u001b[0m                                Traceback (most recent call last)",
      "\u001b[0;32m/usr/local/lib/python3.6/site-packages/pandas/core/frame.py\u001b[0m in \u001b[0;36m__init__\u001b[0;34m(self, data, index, columns, dtype, copy)\u001b[0m\n\u001b[1;32m    336\u001b[0m             \u001b[0;32mtry\u001b[0m\u001b[0;34m:\u001b[0m\u001b[0;34m\u001b[0m\u001b[0m\n\u001b[0;32m--> 337\u001b[0;31m                 \u001b[0marr\u001b[0m \u001b[0;34m=\u001b[0m \u001b[0mnp\u001b[0m\u001b[0;34m.\u001b[0m\u001b[0marray\u001b[0m\u001b[0;34m(\u001b[0m\u001b[0mdata\u001b[0m\u001b[0;34m,\u001b[0m \u001b[0mdtype\u001b[0m\u001b[0;34m=\u001b[0m\u001b[0mdtype\u001b[0m\u001b[0;34m,\u001b[0m \u001b[0mcopy\u001b[0m\u001b[0;34m=\u001b[0m\u001b[0mcopy\u001b[0m\u001b[0;34m)\u001b[0m\u001b[0;34m\u001b[0m\u001b[0m\n\u001b[0m\u001b[1;32m    338\u001b[0m             \u001b[0;32mexcept\u001b[0m \u001b[0;34m(\u001b[0m\u001b[0mValueError\u001b[0m\u001b[0;34m,\u001b[0m \u001b[0mTypeError\u001b[0m\u001b[0;34m)\u001b[0m \u001b[0;32mas\u001b[0m \u001b[0me\u001b[0m\u001b[0;34m:\u001b[0m\u001b[0;34m\u001b[0m\u001b[0m\n",
      "\u001b[0;31mValueError\u001b[0m: setting an array element with a sequence",
      "\nDuring handling of the above exception, another exception occurred:\n",
      "\u001b[0;31mTypeError\u001b[0m                                 Traceback (most recent call last)",
      "\u001b[0;32m<ipython-input-17-03eae7bfdb0f>\u001b[0m in \u001b[0;36m<module>\u001b[0;34m()\u001b[0m\n\u001b[1;32m      1\u001b[0m \u001b[0;31m#first import pandas\u001b[0m\u001b[0;34m\u001b[0m\u001b[0;34m\u001b[0m\u001b[0m\n\u001b[1;32m      2\u001b[0m \u001b[0;32mimport\u001b[0m \u001b[0mpandas\u001b[0m \u001b[0;32mas\u001b[0m \u001b[0mpd\u001b[0m\u001b[0;34m\u001b[0m\u001b[0m\n\u001b[0;32m----> 3\u001b[0;31m \u001b[0mdf\u001b[0m \u001b[0;34m=\u001b[0m \u001b[0mpd\u001b[0m\u001b[0;34m.\u001b[0m\u001b[0mDataFrame\u001b[0m\u001b[0;34m(\u001b[0m\u001b[0mdoc\u001b[0m\u001b[0;34m)\u001b[0m\u001b[0;34m\u001b[0m\u001b[0m\n\u001b[0m\u001b[1;32m      4\u001b[0m \u001b[0mdf\u001b[0m\u001b[0;34m.\u001b[0m\u001b[0mto_csv\u001b[0m\u001b[0;34m(\u001b[0m\u001b[0;34m\"vape_results.csv\"\u001b[0m\u001b[0;34m,\u001b[0m \u001b[0mindex\u001b[0m\u001b[0;34m=\u001b[0m\u001b[0;32mFalse\u001b[0m\u001b[0;34m)\u001b[0m\u001b[0;34m\u001b[0m\u001b[0m\n\u001b[1;32m      5\u001b[0m \u001b[0mvape_results\u001b[0m \u001b[0;34m=\u001b[0m \u001b[0mpd\u001b[0m\u001b[0;34m.\u001b[0m\u001b[0mread_csv\u001b[0m\u001b[0;34m(\u001b[0m\u001b[0;34m'vape_results'\u001b[0m\u001b[0;34m)\u001b[0m\u001b[0;34m\u001b[0m\u001b[0m\n",
      "\u001b[0;32m/usr/local/lib/python3.6/site-packages/pandas/core/frame.py\u001b[0m in \u001b[0;36m__init__\u001b[0;34m(self, data, index, columns, dtype, copy)\u001b[0m\n\u001b[1;32m    339\u001b[0m                 exc = TypeError('DataFrame constructor called with '\n\u001b[1;32m    340\u001b[0m                                 'incompatible data and dtype: %s' % e)\n\u001b[0;32m--> 341\u001b[0;31m                 \u001b[0mraise_with_traceback\u001b[0m\u001b[0;34m(\u001b[0m\u001b[0mexc\u001b[0m\u001b[0;34m)\u001b[0m\u001b[0;34m\u001b[0m\u001b[0m\n\u001b[0m\u001b[1;32m    342\u001b[0m \u001b[0;34m\u001b[0m\u001b[0m\n\u001b[1;32m    343\u001b[0m             \u001b[0;32mif\u001b[0m \u001b[0marr\u001b[0m\u001b[0;34m.\u001b[0m\u001b[0mndim\u001b[0m \u001b[0;34m==\u001b[0m \u001b[0;36m0\u001b[0m \u001b[0;32mand\u001b[0m \u001b[0mindex\u001b[0m \u001b[0;32mis\u001b[0m \u001b[0;32mnot\u001b[0m \u001b[0;32mNone\u001b[0m \u001b[0;32mand\u001b[0m \u001b[0mcolumns\u001b[0m \u001b[0;32mis\u001b[0m \u001b[0;32mnot\u001b[0m \u001b[0;32mNone\u001b[0m\u001b[0;34m:\u001b[0m\u001b[0;34m\u001b[0m\u001b[0m\n",
      "\u001b[0;32m/usr/local/lib/python3.6/site-packages/pandas/compat/__init__.py\u001b[0m in \u001b[0;36mraise_with_traceback\u001b[0;34m(exc, traceback)\u001b[0m\n\u001b[1;32m    342\u001b[0m         \u001b[0;32mif\u001b[0m \u001b[0mtraceback\u001b[0m \u001b[0;34m==\u001b[0m \u001b[0mEllipsis\u001b[0m\u001b[0;34m:\u001b[0m\u001b[0;34m\u001b[0m\u001b[0m\n\u001b[1;32m    343\u001b[0m             \u001b[0m_\u001b[0m\u001b[0;34m,\u001b[0m \u001b[0m_\u001b[0m\u001b[0;34m,\u001b[0m \u001b[0mtraceback\u001b[0m \u001b[0;34m=\u001b[0m \u001b[0msys\u001b[0m\u001b[0;34m.\u001b[0m\u001b[0mexc_info\u001b[0m\u001b[0;34m(\u001b[0m\u001b[0;34m)\u001b[0m\u001b[0;34m\u001b[0m\u001b[0m\n\u001b[0;32m--> 344\u001b[0;31m         \u001b[0;32mraise\u001b[0m \u001b[0mexc\u001b[0m\u001b[0;34m.\u001b[0m\u001b[0mwith_traceback\u001b[0m\u001b[0;34m(\u001b[0m\u001b[0mtraceback\u001b[0m\u001b[0;34m)\u001b[0m\u001b[0;34m\u001b[0m\u001b[0m\n\u001b[0m\u001b[1;32m    345\u001b[0m \u001b[0;32melse\u001b[0m\u001b[0;34m:\u001b[0m\u001b[0;34m\u001b[0m\u001b[0m\n\u001b[1;32m    346\u001b[0m     \u001b[0;31m# this version of raise is a syntax error in Python 3\u001b[0m\u001b[0;34m\u001b[0m\u001b[0;34m\u001b[0m\u001b[0m\n",
      "\u001b[0;32m/usr/local/lib/python3.6/site-packages/pandas/core/frame.py\u001b[0m in \u001b[0;36m__init__\u001b[0;34m(self, data, index, columns, dtype, copy)\u001b[0m\n\u001b[1;32m    335\u001b[0m         \u001b[0;32melse\u001b[0m\u001b[0;34m:\u001b[0m\u001b[0;34m\u001b[0m\u001b[0m\n\u001b[1;32m    336\u001b[0m             \u001b[0;32mtry\u001b[0m\u001b[0;34m:\u001b[0m\u001b[0;34m\u001b[0m\u001b[0m\n\u001b[0;32m--> 337\u001b[0;31m                 \u001b[0marr\u001b[0m \u001b[0;34m=\u001b[0m \u001b[0mnp\u001b[0m\u001b[0;34m.\u001b[0m\u001b[0marray\u001b[0m\u001b[0;34m(\u001b[0m\u001b[0mdata\u001b[0m\u001b[0;34m,\u001b[0m \u001b[0mdtype\u001b[0m\u001b[0;34m=\u001b[0m\u001b[0mdtype\u001b[0m\u001b[0;34m,\u001b[0m \u001b[0mcopy\u001b[0m\u001b[0;34m=\u001b[0m\u001b[0mcopy\u001b[0m\u001b[0;34m)\u001b[0m\u001b[0;34m\u001b[0m\u001b[0m\n\u001b[0m\u001b[1;32m    338\u001b[0m             \u001b[0;32mexcept\u001b[0m \u001b[0;34m(\u001b[0m\u001b[0mValueError\u001b[0m\u001b[0;34m,\u001b[0m \u001b[0mTypeError\u001b[0m\u001b[0;34m)\u001b[0m \u001b[0;32mas\u001b[0m \u001b[0me\u001b[0m\u001b[0;34m:\u001b[0m\u001b[0;34m\u001b[0m\u001b[0m\n\u001b[1;32m    339\u001b[0m                 exc = TypeError('DataFrame constructor called with '\n",
      "\u001b[0;31mTypeError\u001b[0m: DataFrame constructor called with incompatible data and dtype: setting an array element with a sequence"
     ]
    }
   ],
   "source": [
    "#first import pandas\n",
    "import pandas as pd\n",
    "df = pd.DataFrame(doc)\n",
    "df.to_csv(\"vape_results.csv\", index=False)\n",
    "vape_results = pd.read_csv('vape_results')\n",
    "vape_results.head()"
   ]
  },
  {
   "cell_type": "markdown",
   "metadata": {},
   "source": [
    "### Open `vape-results.csv` to make sure there aren't any extra weird columns"
   ]
  },
  {
   "cell_type": "code",
   "execution_count": null,
   "metadata": {
    "collapsed": true
   },
   "outputs": [],
   "source": []
  },
  {
   "cell_type": "markdown",
   "metadata": {},
   "source": [
    "## Use Selenium to scrape ALL pages of results, save the results into `vape-results-all.csv`."
   ]
  },
  {
   "cell_type": "code",
   "execution_count": 40,
   "metadata": {
    "collapsed": true
   },
   "outputs": [],
   "source": [
    "while True:\n",
    "    try:\n",
    "        driver.find_element_by_xpath('/html/body/table[2]/tbody/tr[4]/td[2]/table[2]/tbody/tr/td[3]/a').click()\n",
    "        business_headers = doc.find_all('tr',class_='searchfieldtitle')\n",
    "        for header in business_headers:\n",
    "            rows = header.find_next_siblings('tr')\n",
    "            print(\"HEADER is\", header.text.strip())\n",
    "            print(\"ROW 0 is\", rows[0].text.strip())\n",
    "            print(\"ROW 1 is\", rows[1].text.strip())\n",
    "            print(\"ROW 2 is\", rows[2].text.strip())\n",
    "            print(\"ROW 3 is\", rows[3].text.strip())\n",
    "            print(\"----\")\n",
    "    except:\n",
    "        break"
   ]
  },
  {
   "cell_type": "code",
   "execution_count": 250,
   "metadata": {
    "collapsed": true
   },
   "outputs": [],
   "source": [
    "vape_results_all = []\n",
    "\n",
    "\n",
    "# for link in rows.find_all('a'):\n",
    "#     print(link.get('href'))\n",
    "\n",
    "while True:\n",
    "    doc = BeautifulSoup(driver.page_source, 'html.parser')\n",
    "    #we have to be on the first page and grab the information. as the loop comes back around, it will say okay, we're\n",
    "    #here, now let's take all of the information (defined below) from the page we're on and then save it into our list\n",
    "    business_headers = doc.find_all('tr',class_='searchfieldtitle')\n",
    "    #this is where we're getting to where the actual information is\n",
    "    for header in business_headers:\n",
    "        current = {}\n",
    "        #name the dictionary (current)\n",
    "        rows = header.find_next_siblings('tr')\n",
    "        #here is like above, we're going through each row and finding the next sibings.\n",
    "        #REMEMBER that ROWS is a new thing where you are inside the tr already. so then you say, within that, find me\n",
    "        #these things.\n",
    "        current['header'] = header.find_all('td')[1].text.strip()\n",
    "        #here look at the HEADERS in business_headers, which we've ALREADY DEFINED ABOVE HELLLLOOO and we don't want\n",
    "        #rows because rows is finding all the table rows, ie the next siblings of header.\n",
    "        current['link_or_status'] = header.find_all('td')[2].text.strip()\n",
    "#         current['link_or_status'] = header.find_all('td')[2].find('a')\n",
    "#         if current['link_or_status']:\n",
    "#             link = header.find_all('td')[2].find('a')\n",
    "#             print(link['href'])\n",
    "        #here we're defining all of the keys in our dictionary\n",
    "        current['company'] = rows[0].find_all('td')[1].text.strip()\n",
    "        current['address'] =  rows[1].find_all('td')[1].text.strip()\n",
    "        current['license_status'] = rows[1].find_all('td')[2].text.strip()\n",
    "        current['city_state'] = rows[2].find_all('td')[1].text.strip()\n",
    "        current['county'] = rows[3].text.strip()\n",
    "        vape_results_all.append(current)\n",
    "        #remember to append the results to the dictionary you defined above\n",
    "    try:\n",
    "        driver.find_element_by_xpath('/html/body/table[2]/tbody/tr[4]/td[2]/table[2]/tbody/tr/td[3]/a').click()\n",
    "        #here you're tell it to click through each page\n",
    "    except:\n",
    "        break\n",
    "\n",
    "\n"
   ]
  },
  {
   "cell_type": "code",
   "execution_count": 251,
   "metadata": {},
   "outputs": [
    {
     "name": "stdout",
     "output_type": "stream",
     "text": [
      "[{'header': 'VAPE DOJO', 'link_or_status': '', 'company': 'WALKER TRADING COMPANY INC', 'address': '3570 SAINT JOHNS LANE, SUITE 109', 'license_status': 'License: 13144108', 'city_state': 'ELLICOTT CITY, MD 21042', 'county': 'Howard County'}, {'header': 'VAPEZ YARDHOUSE', 'link_or_status': 'Pending *', 'company': 'YARKHOUSE EMPIRE INC', 'address': '3315 PLAZA WAY', 'license_status': '', 'city_state': 'WALDORF, MD 20603', 'county': 'Charles County'}]\n"
     ]
    }
   ],
   "source": [
    "print(vape_results_all)"
   ]
  },
  {
   "cell_type": "code",
   "execution_count": 252,
   "metadata": {},
   "outputs": [
    {
     "data": {
      "text/html": [
       "<div>\n",
       "<style>\n",
       "    .dataframe thead tr:only-child th {\n",
       "        text-align: right;\n",
       "    }\n",
       "\n",
       "    .dataframe thead th {\n",
       "        text-align: left;\n",
       "    }\n",
       "\n",
       "    .dataframe tbody tr th {\n",
       "        vertical-align: top;\n",
       "    }\n",
       "</style>\n",
       "<table border=\"1\" class=\"dataframe\">\n",
       "  <thead>\n",
       "    <tr style=\"text-align: right;\">\n",
       "      <th></th>\n",
       "      <th>address</th>\n",
       "      <th>city_state</th>\n",
       "      <th>company</th>\n",
       "      <th>county</th>\n",
       "      <th>header</th>\n",
       "      <th>license_status</th>\n",
       "      <th>link_or_status</th>\n",
       "    </tr>\n",
       "  </thead>\n",
       "  <tbody>\n",
       "    <tr>\n",
       "      <th>0</th>\n",
       "      <td>3570 SAINT JOHNS LANE, SUITE 109</td>\n",
       "      <td>ELLICOTT CITY, MD 21042</td>\n",
       "      <td>WALKER TRADING COMPANY INC</td>\n",
       "      <td>Howard County</td>\n",
       "      <td>VAPE DOJO</td>\n",
       "      <td>License: 13144108</td>\n",
       "      <td>NaN</td>\n",
       "    </tr>\n",
       "    <tr>\n",
       "      <th>1</th>\n",
       "      <td>3315 PLAZA WAY</td>\n",
       "      <td>WALDORF, MD 20603</td>\n",
       "      <td>YARKHOUSE EMPIRE INC</td>\n",
       "      <td>Charles County</td>\n",
       "      <td>VAPEZ YARDHOUSE</td>\n",
       "      <td>NaN</td>\n",
       "      <td>Pending *</td>\n",
       "    </tr>\n",
       "  </tbody>\n",
       "</table>\n",
       "</div>"
      ],
      "text/plain": [
       "                            address               city_state  \\\n",
       "0  3570 SAINT JOHNS LANE, SUITE 109  ELLICOTT CITY, MD 21042   \n",
       "1                    3315 PLAZA WAY        WALDORF, MD 20603   \n",
       "\n",
       "                      company          county           header  \\\n",
       "0  WALKER TRADING COMPANY INC   Howard County        VAPE DOJO   \n",
       "1        YARKHOUSE EMPIRE INC  Charles County  VAPEZ YARDHOUSE   \n",
       "\n",
       "      license_status link_or_status  \n",
       "0  License: 13144108            NaN  \n",
       "1                NaN      Pending *  "
      ]
     },
     "execution_count": 252,
     "metadata": {},
     "output_type": "execute_result"
    }
   ],
   "source": [
    "import pandas as pd\n",
    "df = pd.DataFrame(vape_results_all)\n",
    "df.to_csv(\"vape_results_all.csv\", index=False)\n",
    "vape_results_all = pd.read_csv('vape_results_all.csv')\n",
    "vape_results_all.head()"
   ]
  },
  {
   "cell_type": "code",
   "execution_count": null,
   "metadata": {
    "collapsed": true
   },
   "outputs": [],
   "source": []
  },
  {
   "cell_type": "code",
   "execution_count": null,
   "metadata": {
    "collapsed": true
   },
   "outputs": [],
   "source": []
  }
 ],
 "metadata": {
  "kernelspec": {
   "display_name": "Python 3",
   "language": "python",
   "name": "python3"
  },
  "language_info": {
   "codemirror_mode": {
    "name": "ipython",
    "version": 3
   },
   "file_extension": ".py",
   "mimetype": "text/x-python",
   "name": "python",
   "nbconvert_exporter": "python",
   "pygments_lexer": "ipython3",
   "version": "3.6.1"
  }
 },
 "nbformat": 4,
 "nbformat_minor": 2
}
