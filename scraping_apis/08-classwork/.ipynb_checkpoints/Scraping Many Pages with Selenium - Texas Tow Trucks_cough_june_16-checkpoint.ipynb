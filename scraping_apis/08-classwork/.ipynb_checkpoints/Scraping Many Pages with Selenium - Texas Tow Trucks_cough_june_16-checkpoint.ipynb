{
 "cells": [
  {
   "cell_type": "markdown",
   "metadata": {},
   "source": [
    "# Texas Tow Trucks (`.apply` and Selenium)\n",
    "\n",
    "We're going to scrape some [tow trucks in Texas](https://www.tdlr.texas.gov/tools_search/).\n",
    "\n",
    "Try searching for the TLDR Number `006179570C`."
   ]
  },
  {
   "cell_type": "markdown",
   "metadata": {},
   "source": [
    "## Preparation"
   ]
  },
  {
   "cell_type": "markdown",
   "metadata": {},
   "source": [
    "### What URL will Selenium be starting on?\n",
    "\n",
    "- Tip: The answer is *not* `https://www.tdlr.texas.gov/tools_search/`"
   ]
  },
  {
   "cell_type": "markdown",
   "metadata": {
    "collapsed": true
   },
   "source": [
    "https://www.tdlr.texas.gov/tools_search/mccs_search.asp\n",
    "\n",
    "https://www.tdlr.texas.gov/tools_search/mccs_display.asp?mcrnumber=006179570C\n",
    "The TDLR Number shows up in URL! So we could also use https://www.tdlr.texas.gov/tools_search/mccs_display.asp?mcrnumber="
   ]
  },
  {
   "cell_type": "markdown",
   "metadata": {},
   "source": [
    "### Why are you using Selenium for this?"
   ]
  },
  {
   "cell_type": "markdown",
   "metadata": {
    "collapsed": true
   },
   "source": [
    "(We don't have to really, because the number shows up in the URL)\n",
    "But with Selenium we can click through a page and make multiple requests rather than having to physically do it each time"
   ]
  },
  {
   "cell_type": "markdown",
   "metadata": {},
   "source": [
    "## Scrape this page\n",
    "\n",
    "Scrape this page, displaying the\n",
    "\n",
    "- The business name\n",
    "- Phone number\n",
    "- License status\n",
    "- Physical address\n",
    "\n",
    "**You should know how to do `.post` requests by now.**\n",
    "\n",
    "- *TIP: For physical address, **ask me on the board** and I'll give you a secret trick about situations like this.*"
   ]
  },
  {
   "cell_type": "code",
   "execution_count": 1,
   "metadata": {
    "collapsed": true
   },
   "outputs": [],
   "source": [
    "#first import all the things we might need for this.\n",
    "from selenium import webdriver\n",
    "from selenium.webdriver.common.keys import Keys\n",
    "#selenium is a package\n",
    "driver = webdriver.Chrome()\n",
    "#webdriver is a module within selenium\n",
    "driver.get('https://www.tdlr.texas.gov/tools_search/mccs_search.asp')\n",
    "from bs4 import BeautifulSoup\n",
    "from urllib.request import urlopen\n",
    "import requests"
   ]
  },
  {
   "cell_type": "code",
   "execution_count": 2,
   "metadata": {
    "collapsed": true
   },
   "outputs": [],
   "source": [
    "my_url = \"https://www.tdlr.texas.gov/tools_search/mccs_search.asp\"\n",
    "raw_html = urlopen(my_url).read()\n",
    "soup_doc = BeautifulSoup(raw_html, \"html.parser\")"
   ]
  },
  {
   "cell_type": "code",
   "execution_count": 3,
   "metadata": {},
   "outputs": [
    {
     "data": {
      "text/plain": [
       "'\\r\\n\\r\\n<html>\\r\\n<head>\\r\\n\\t<title>TDLR Tow Truck and Vehicle Storage Facility Inquiry</title>\\r\\n\\r\\n<meta\\tcontent=\"text/html; charset=windows-1252\" http-equiv=\"Content-Type\" />\\r\\n<meta\\tNAME=\"GENERATOR\" Content=\"Microsoft Visual Studio\" /> \\r\\n\\r\\n<meta\\tHTTP-EQUIV=\"Content-Type\" content=\"text/html; charset=UTF-8\" />\\r\\n<meta\\tname=\"description\" \\r\\n\\t\\tcontent=\"Welcome to the Tow Truck and Vehicle Storage Facility Inquiry Information Page. \\r\\n\\t\\t\\t\\tThis web application allows users to obtain information on companies that have \\r\\n\\t\\t\\t\\tobtained registration through TDLR. This includes addresses, insurance records, \\r\\n\\t\\t\\t\\trecent activities, and vehicle data.\" />\\r\\n<meta\\tname=\"keywords\" \\r\\n\\t\\tcontent=\"Tow Trucks, Vehicle Storage Facility, registration, insurance, Permit \\r\\n\\t\\t\\t\\tRestrictions, Texas Department of Licensing and Regulation, TDLR\" />\\r\\n<meta\\tname=\"subject\" content=\"Transportation\" />\\r\\n<meta\\tname=\"type\" content=\"Programs and services\" />\\r\\n<meta\\tname=\"author\" content=\"Texas Department of Licensing and Regulation (State of Texas)\" />\\r\\n<meta\\thttp-equiv=\"expires\" content=\"Tue,21 Nov 2007 00:00:01 GMT\" />\\r\\n\\t\\t\\r\\n\\r\\n<script lang=\"JavaScript\" TYPE=\"text/javascript\">\\r\\n<!--\\r\\nif(window.event + \"\" == \"undefined\") event = null;\\r\\nfunction HM_f_PopUp(){return false};\\r\\nfunction HM_f_PopDown(){return false};\\r\\npopUp = HM_f_PopUp;\\r\\npopDown = HM_f_PopDown;\\r\\nvar ArrayName=\"OneStop\";\\r\\nvar DivOfficeAbbrev = \"MCD\"\\r\\n\\t\\r\\nfunction showSearchBoxes(){\\r\\n    //alert(\\'here\\');\\r\\n    searchinfo.namedata.style.visibility=\\'visible\\';\\r\\n    searchinfo.namedata.style.visibility=\\'visible\\';\\r\\n    searchinfo.name_carrier_type.style.visibility=\\'visible\\';\\t\\t\\t\\r\\n\\tsearchinfo.mcrdata.value=\\'\\';\\r\\n\\tsearchinfo.mcrdata.style.visibility=\\'visible\\';\\r\\n\\tsearchinfo.citydata.value=\\'\\';\\r\\n\\tsearchinfo.citydata.style.visibility=\\'visible\\';\\r\\n\\tsearchinfo.city_carrier_type.style.visibility=\\'visible\\';\\r\\n\\tsearchinfo.city_status.style.visibility=\\'visible\\';\\r\\n\\tsearchinfo.zip_status.style.visibility=\\'visible\\';\\r\\n\\tsearchinfo.zip_carrier_type.style.visibility=\\'visible\\';\\r\\n\\tsearchinfo.zipcodedata.style.visibility=\\'visible\\';\\r\\n\\tsearchinfo.zipcodedata.focus();\\r\\n}\\r\\n//-->\\r\\n</script>\\r\\n<link rel=\"stylesheet\" type=\"text/css\" href=\"style.css\" />\\r\\n\\r\\n</head>\\r\\n\\r\\n<body onload=\"showSearchBoxes();\">\\r\\n\\t<style media=\"screen\" type=\"text/css\">\\r\\n\\tbody {\\r\\n\\t\\tbackground-color: #CCCCCC;\\r\\n\\t\\tborder-color: #000000;\\r\\n\\t\\tcolor: #2e2d2c;\\r\\n\\t\\tfont-family: Arial, Helvetica, sans-serif;\\r\\n\\t\\tfont-size: .9em;\\r\\n\\t\\tline-height: normal;\\r\\n\\t\\tmargin: 0 0 0 0;\\r\\n\\t\\tpadding: 0 0 0 0;\\r\\n\\t\\ttext-align: center;\\r\\n\\t}\\r\\n\\r\\n\\t#outerWrapper {\\r\\n\\t\\tposition: relative;\\r\\n\\t\\tbackground-color: #ffc;\\r\\n\\t\\tmargin: 0 auto 0 auto; \\r\\n\\t\\twidth: 960px;\\r\\n\\t}\\r\\n\\t#outerWrapper #header {\\r\\n\\t\\tbackground-color: #dbc9a0;\\r\\n\\t\\ttext-align: left; \\r\\n\\t}\\r\\n\\t#outerWrapper #header h1 {\\r\\n\\t\\tbackground-color: #fff6d9;\\r\\n\\t\\ttext-align: left; \\r\\n\\t\\tcolor: #000000;\\r\\n\\t}\\r\\n\\t#outerWrapper #topNavigation {\\r\\n\\t\\tclear: left;\\r\\n\\t\\tmargin: 0 0 0 0;\\r\\n\\t\\tline-height: 2em;\\r\\n\\t\\tborder-bottom: 1px solid #ccc;\\r\\n\\t\\tbackground-color: #FFC;\\r\\n\\t\\tborder-bottom: 1px solid #ccc;\\r\\n\\t\\tborder-top: 1px solid #ccc;\\r\\n\\t}\\r\\n\\t#outerWrapper #main-nav {\\r\\n\\t\\tbackground-color: #FFC;\\r\\n\\t\\tfont-family:helvetica,arial,sans-serif;\\r\\n\\t\\tmargin:0;\\r\\n\\t\\tpadding: 0px 25px 0px 20px;\\r\\n\\t\\tfloat:left;\\r\\n\\t\\t\\twidth: 915px;\\r\\n\\t\\tfont-size: .85em;\\r\\n\\t}\\r\\n\\t\\t\\tul#main-nav li {margin:0;padding:0;list-style:none;float:left;margin:0 0.5em 0 0;}\\r\\n\\t\\t\\tul#main-nav li a {text-decoration:none;padding:0.5em 0.5em;color:#039;}\\r\\n\\t\\t\\tul#main-nav li a:hover {color:#33c;background:#efefef;\\r\\n\\t}\\r\\n\\t#outerWrapper #contentWrapper {\\r\\n\\t\\ttext-align: left; \\r\\n\\t\\toverflow: hidden;\\r\\n\\t\\tclear: both;\\r\\n\\t}\\r\\n\\t#outerWrapper #contentWrapper #content {\\r\\n\\t\\tposition: relative;\\r\\n\\t\\tbackground-color: #ffffff;\\r\\n\\t\\tcolor: #333333;\\r\\n\\t\\tfont-family: Arial, Helvetica, sans-serif;\\r\\n\\t\\tfont-size: 0.9em;\\r\\n\\t\\tline-height: normal;\\r\\n\\t\\tmargin: 0px;\\r\\n\\t\\tpadding: 1em 4em .5em 4em;\\r\\n\\t}\\r\\n\\t#outerWrapper #footer {\\r\\n\\t\\tclear: both;\\r\\n\\t\\tcolor: #000;\\r\\n\\t\\t\\ttext-align: center;\\r\\n\\t\\tfont-family: Arial, Helvetica, sans-serif;\\r\\n\\t\\tfont-size: 0.9em;\\r\\n\\t\\theight: 20px;\\r\\n\\t\\tline-height: normal;\\r\\n\\t\\tpadding: 5px 0px 20px 0px; /* perimeter of the footer div */\\r\\n\\t}\\r\\n\\t#outerWrapper #footer a {\\r\\n\\t\\tcolor: #000;\\r\\n\\t\\t\\ttext-align: center;\\r\\n\\t\\t\\tfont-family: Arial, Helvetica, sans-serif;\\r\\n\\t\\tfont-size: .9em;\\r\\n\\t\\theight: 20px;\\r\\n\\t\\tline-height: normal;\\r\\n\\t\\tpadding: 5px 10px 0px 10px; /* perimeter of each individual <a ...> in footer */\\r\\n\\t}\\r\\n\\t\\t\\r\\n\\t.float_left {\\r\\n\\tfloat:left;\\r\\n\\t}\\r\\n\\r\\n\\t.float_right {\\r\\n\\tfloat:right;\\r\\n\\t}\\r\\n</style>\\r\\n\\r\\n<a href=\"/index.htm\"><img src=\"/images/logo-bar.gif\" alt=\"Texas Department of Licensing and Regulation\" border=\"0\" align=\"middle\" ></a>\\r\\n<div id=\"outerWrapper\">\\r\\n\\t<div id=\"contentWrapper\">\\r\\n\\t\\t<div id=\"content\">\\r\\n\\r\\n\\t<div style=\"padding: 20px 20px 20px 20px; background-color:#ffffff;\">\\r\\n\\t\\r\\n<table width=\"85%\" align=\"center\">\\r\\n\\r\\n\\t<tr>\\r\\n\\t    <td valign=\"top\" align=\"center\" width=\"60%\" >\\r\\n\\t\\t\\t<font face=\"Arial\" size=\"3\"><b>TDLR Tow Company and Vehicle Storage Facility Inquiry Page</b></font>\\r\\n\\t\\t</td>\\r\\n\\t</tr>\\r\\n\\t<tr>\\r\\n\\t\\t<td style=\"width:20%; text-align:center\"><a href=\"ConsortiumReport.asp\">TDLR Approved Consortium List</a></td>\\r\\n\\t</tr>\\r\\n    \\r\\n</table>\\r\\n<form method=\"post\" action=\"mccs_search_process.asp\" id=\"searchinfo\" >\\r\\n\\r\\n<table border=\"1\" width=\"85%\" align=\"center\">\\r\\n\\r\\n\\t<tr>\\r\\n\\t\\t<td width=\"180\" bgcolor=\"#oo33ff\"><center><b><font color=\"white\">Search By:</font></b></center></td>\\r\\n\\t\\t<td bgcolor=\"#oo33ff\"><center><b><font color=\"white\">Description</font></b></center></td>\\r\\n\\t</tr>\\r\\n\\t\\r\\n\\t<tr>\\r\\n\\t\\t<td bgcolor=\"#99CCFF\">\\r\\n\\t\\t</td>\\r\\n\\t\\t<td bgcolor=\"#99CCFF\">&nbsp;</td>\\r\\n\\t</tr>\\r\\n\\t\\r\\n\\t<tr>\\r\\n\\t\\t<td>\\r\\n\\t\\t\\t<input id=\"namebutton\" type=\"radio\" name=\"searchtype\" value=\"name\" style=\"visibility:visible\"\\r\\n\\t\\t\\t    onclick=\"//document.searchinfo.namedata.style.visibility=\\'visible\\';\\r\\n\\t\\t\\t    searchinfo.namedata.focus();\\r\\n\\t\\t\\t    searchinfo.name_carrier_type.style.visibility=\\'visible\\';\\t\\t\\t\\r\\n\\t\\t\\t    //document.searchinfo.mcrdata.value=\\'\\';\\r\\n\\t\\t\\t    //document.searchinfo.mcrdata.style.visibility=\\'hidden\\';\\r\\n\\t\\t\\t    searchinfo.citydata.value=\\'\\';\\r\\n\\t\\t\\t    //document.searchinfo.citydata.style.visibility=\\'hidden\\';\\r\\n\\t\\t\\t    //document.searchinfo.city_status.style.visibility=\\'hidden\\';\\r\\n\\t\\t\\t    //document.searchinfo.city_carrier_type.style.visibility=\\'hidden\\';\\r\\n\\t\\t\\t    //document.searchinfo.zip_status.style.visibility=\\'hidden\\';\\r\\n\\t\\t\\t    searchinfo.zipcodedata.value=\\'\\';\\r\\n\\t\\t\\t    //document.searchinfo.zip_carrier_type.style.visibility=\\'hidden\\';\\r\\n\\t\\t\\t    //document.searchinfo.zipcodedata.style.visibility=\\'hidden\\'\"\\r\\n\\t\\t\\t />\\r\\n\\t\\t\\t\\t\\r\\n\\t\\t\\t&nbsp;Company Name&nbsp;&nbsp;\\r\\n\\t\\t\\t<br>&nbsp;&nbsp;&nbsp;\\r\\n\\t\\t\\t<input id=\"namedata\" type=\"text\" name=\"namedata\" size=\"20\" maxlength=\"20\" style=\"visibility:hidden; text-transform:uppercase\" \\r\\n\\t\\t\\t       onkeydown=\"searchinfo.namebutton.checked=true; searchinfo.mcrdata.value=\\'\\';searchinfo.citydata.value=\\'\\'; searchinfo.zipcodedata.value=\\'\\';\" />\\r\\n\\t\\t\\t\\r\\n\\t\\t\\t<br>&nbsp;&nbsp;&nbsp;\\r\\n\\t\\t\\t\\r\\n\\t\\t\\t<select id=\"name_carrier_type\" name=\"name_carrier_type\" style=\"visibility:hidden\">\\r\\n\\t\\t\\t    <option value= \"COMPANY\">Customer Name</option>\\r\\n\\t\\t\\t    <option value= \"DBA\">DBA Name</option>\\r\\n\\t\\t\\t</select>\\t\\t\\t\\r\\n\\t\\t</td>\\r\\n\\t\\t\\t\\t\\r\\n\\t\\t<td>\\r\\n\\t\\t\\tTo search by tow company or vehicle storage facility, a minimum of the first three letters (characters) of the carrier\\'s name must be entered. Spaces, periods, hyphens, etc. represent characters.  The drop-down list provides you the option of searching by \\'Customer\\' or \\'DBA\\' (Doing Business As) name.\\r\\n\\t\\t</td>\\r\\n\\t</tr>\\r\\n\\t\\r\\n\\t<tr>\\r\\n\\t\\t<td bgcolor=\"#99CCFF\">\\r\\n\\t\\t</td>\\r\\n\\t\\t<td bgcolor=\"#99CCFF\">&nbsp;</td>\\r\\n\\t</tr>\\r\\n\\t\\r\\n\\t<tr>\\r\\n\\t\\t<td>\\r\\n\\t\\t\\t<input id=\"mcrbutton\"  type=\"radio\" name=\"searchtype\" value=\"mcr\"\\r\\n\\t\\t\\t    onclick=\"searchinfo.namedata.value=\\'\\';\\r\\n\\t\\t\\t    //document.searchinfo.namedata.style.visibility=\\'hidden\\';\\r\\n\\t\\t\\t    //document.searchinfo.name_carrier_type.style.visibility=\\'hidden\\';\\t\\t\\t\\r\\n\\t\\t\\t    //searchinfo.mcrdata.style.visibility=\\'visible\\';\\r\\n\\t\\t\\t    searchinfo.mcrdata.focus();\\r\\n\\t\\t\\t    searchinfo.citydata.value=\\'\\';\\r\\n\\t\\t\\t    //document.searchinfo.city_status.style.visibility=\\'hidden\\';\\r\\n\\t\\t\\t    //document.searchinfo.city_carrier_type.style.visibility=\\'hidden\\';\\r\\n\\t\\t\\t    //document.searchinfo.zip_status.style.visibility=\\'hidden\\';\\r\\n\\t\\t\\t    //document.searchinfo.citydata.style.visibility=\\'hidden\\';\\r\\n\\t\\t\\t    searchinfo.zipcodedata.value=\\'\\';\\r\\n\\t\\t\\t    //document.searchinfo.zip_carrier_type.style.visibility=\\'hidden\\';\\r\\n\\t\\t\\t    //document.searchinfo.zipcodedata.style.visibility=\\'hidden\\'\"\\r\\n\\t\\t\\t/>\\t\\r\\n\\t\\t\\t\\t\\r\\n\\t\\t\\t&nbsp;TDLR Number&nbsp;&nbsp;\\r\\n\\t\\t\\t<br>&nbsp;&nbsp;&nbsp;\\r\\n\\t\\t\\t<input id=\"mcrdata\" type=text name=\"mcrdata\" size=20 maxlength=10 style=\"visibility:hidden; text-transform:uppercase\" \\r\\n\\t\\t\\t       onkeydown=\"searchinfo.mcrbutton.checked=true; searchinfo.namedata.value=\\'\\';\\r\\n\\t\\t\\t                  searchinfo.citydata.value=\\'\\'; searchinfo.zipcodedata.value=\\'\\';\" />\\r\\n\\t\\t\\t\\r\\n\\t\\t</td>\\r\\n\\t\\t<td>\\r\\n\\t\\t\\tTo search by TDLR number, enter the full 10-digit certificate number \\r\\n\\t\\t\\tand click on the Search button. If the tow company\\'s TDLR number is &quot;TDLR No. 1234567C,\" enter the number 001234567C in the search field. \\r\\n\\t\\t\\tIf a vehicle storage facility company\\'s TDLR number is &quot;TDLR No \\r\\n\\t\\t\\t123456VSF,&quot; enter the number 0123456VSF in the search field.</td>\\r\\n\\t</tr>\\r\\n\\t\\r\\n\\t<tr>\\r\\n\\t\\t<td bgcolor=\"#99CCFF\">\\r\\n\\t\\t</td>\\r\\n\\t\\t<td bgcolor=\"#99CCFF\">&nbsp;</td>\\r\\n\\t</tr>\\r\\n\\t\\r\\n\\t<tr>\\r\\n\\t\\t<td>\\r\\n\\t\\t\\t<input id=\"citybutton\"  type=\"radio\" name=\"searchtype\" value=\"city\"\\r\\n\\t\\t\\t    onclick=\"searchinfo.namedata.value=\\'\\';\\r\\n\\t\\t\\t    //document.searchinfo.namedata.style.visibility=\\'hidden\\';\\r\\n\\t\\t\\t    //document.searchinfo.name_carrier_type.style.visibility=\\'hidden\\';\\t\\t\\t\\r\\n\\t\\t\\t    searchinfo.mcrdata.value=\\'\\';\\r\\n\\t\\t\\t    //document.searchinfo.mcrdata.style.visibility=\\'hidden\\';\\r\\n\\t\\t\\t    //document.searchinfo.citydata.style.visibility=\\'visible\\';\\r\\n\\t\\t\\t    searchinfo.citydata.focus();\\r\\n\\t\\t\\t    //document.searchinfo.city_status.style.visibility=\\'visible\\';\\r\\n\\t\\t\\t    //document.searchinfo.city_carrier_type.style.visibility=\\'visible\\';\\r\\n\\t\\t\\t    //document.searchinfo.zip_status.style.visibility=\\'hidden\\';\\r\\n\\t\\t\\t    searchinfo.zipcodedata.value=\\'\\';\\r\\n\\t\\t\\t    //document.searchinfo.zip_carrier_type.style.visibility=\\'hidden\\';\\r\\n\\t\\t\\t    //document.searchinfo.zipcodedata.style.visibility=\\'hidden\\'\"\\r\\n\\t\\t\\t/>\\r\\n\\t\\t\\t\\t\\r\\n\\t\\t\\t&nbsp;City&nbsp;&nbsp;\\r\\n\\t\\t\\t<br>&nbsp;&nbsp;&nbsp;\\r\\n\\t\\t\\t<input id=\"citydata\" type=\"text\" name=\"citydata\" size=\"20\" maxlength=\"20\" style=\"visibility:hidden; \\r\\n\\t\\t\\t       text-transform:uppercase\" onkeydown=\"searchinfo.citybutton.checked=true;\\r\\n\\t\\t\\t                                                   searchinfo.namedata.value=\\'\\';\\r\\n\\t\\t\\t                                                   searchinfo.mcrdata.value=\\'\\';\\r\\n\\t\\t\\t                                                   searchinfo.namedata.value=\\'\\';\">\\r\\n\\t\\t\\t\\r\\n\\t\\t\\t<br>&nbsp;&nbsp;&nbsp;\\r\\n\\t\\t\\t\\r\\n\\r\\n\\t\\t\\t<select id=\"city_status\" name=\"city_status\" style=visibility:hidden>\\r\\n\\t\\t\\t<OPTION value= \"ALL\">Show All</OPTION>\\r\\n\\t\\t\\t<OPTION value= \"A\" selected>Active</OPTION>\\r\\n\\t\\t\\t<OPTION value= \"AH\" >Administrative Hold</OPTION>\\r\\n\\t\\t\\t<OPTION value= \"EH\" >Enforcement Hold</OPTION>\\r\\n\\t\\t\\t<OPTION value= \"R\" >Insurance Not Applied</OPTION>\\r\\n\\t\\t\\t<OPTION value= \"E\" >Expired (less than 1 year)</OPTION>\\r\\n\\t\\t\\t\\r\\n\\t\\t\\t\\r\\n\\t\\t\\t</select>\\r\\n\\t\\t\\t\\r\\n\\t\\t\\t<br>&nbsp;&nbsp;&nbsp;\\r\\n\\t\\t\\t\\r\\n\\t\\t\\t<select id=\"city_carrier_type\" name=\"city_carrier_type\" style=visibility:hidden>\\r\\n\\t\\t\\t<OPTION value= \"all\">Show All</OPTION>\\r\\n\\t\\t\\t<OPTION value= \"tow\" selected>Tow Truck</OPTION>\\r\\n\\t\\t\\t<OPTION value= \"vsf\">Vehicle Storage Facility</OPTION>\\r\\n\\t\\t\\t</select>\\r\\n\\t\\t\\t\\t\\t\\t\\r\\n\\t\\t</td>\\r\\n\\t\\t<td>\\r\\n\\t\\t\\tEnter the name of the city or town you would like to search for, along with the certificate status and company type. \\r\\n\\t\\t\\tClick <a href=\"javascript:openwindow(\\'cert_definitions.htm\\');\">Here</a> \\r\\n\\t\\t\\tfor certificate status definitions. Click <a href=\"javascript:openwindow(\\'carrier_definitions.htm\\');\">Here</a> for company type definitions.\\r\\n\\t\\t</td>\\r\\n\\t</tr>\\r\\n\\t\\r\\n\\t<tr>\\r\\n\\t\\t<td bgcolor=#99CCFF>\\r\\n\\t\\t</td>\\r\\n\\t\\t<td bgcolor=#99CCFF>&nbsp;</td>\\r\\n\\t</tr>\\r\\n\\t\\r\\n\\t<tr>\\r\\n\\t\\t<td>\\r\\n\\t\\t\\t<input id=\"zipcodebutton\"  type=\"radio\" name=\"searchtype\" value=\"zipcode\"\\r\\n\\t\\t\\tonclick=\"searchinfo.namedata.value=\\'\\';\\r\\n\\t\\t\\t//document.searchinfo.namedata.style.visibility=\\'hidden\\';\\r\\n\\t\\t\\t//document.searchinfo.name_carrier_type.style.visibility=\\'hidden\\';\\t\\t\\t\\r\\n\\t\\t\\tsearchinfo.mcrdata.value=\\'\\';\\r\\n\\t\\t\\t//document.searchinfo.mcrdata.style.visibility=\\'hidden\\';\\r\\n\\t\\t\\tsearchinfo.citydata.value=\\'\\';\\r\\n\\t\\t\\t//document.searchinfo.citydata.style.visibility=\\'hidden\\';\\r\\n\\t\\t\\t//document.searchinfo.city_carrier_type.style.visibility=\\'hidden\\';\\r\\n\\t\\t\\t//document.searchinfo.city_status.style.visibility=\\'hidden\\';\\r\\n\\t\\t\\t//document.searchinfo.zip_status.style.visibility=\\'visible\\';\\r\\n\\t\\t\\t//document.searchinfo.zip_carrier_type.style.visibility=\\'visible\\';\\r\\n\\t\\t\\t//document.searchinfo.zipcodedata.style.visibility=\\'visible\\';\\r\\n\\t\\t\\tsearchinfo.zipcodedata.focus()\">\\r\\n\\t\\t\\t\\t\\t\\t\\t\\r\\n\\t\\t\\t&nbsp;Zip Code&nbsp;&nbsp;\\r\\n\\t\\t\\t<br>&nbsp;&nbsp;&nbsp;\\r\\n\\t\\t\\t<input id=\"zipcodedata\" type=text name=\"zipcodedata\" size=20 maxlength=5 \\r\\n\\t\\t\\t       style=visibility:hidden onkeydown=\"searchinfo.zipcodebutton.checked=true;\\r\\n\\t\\t\\t                                          searchinfo.citydata.value=\\'\\';\\r\\n\\t\\t\\t                                          searchinfo.mcrdata.value=\\'\\';\\r\\n\\t\\t\\t                                          searchinfo.namedata.value=\\'\\';\">\\r\\n\\t\\t\\t\\r\\n\\t\\t\\t<br>&nbsp;&nbsp;&nbsp;\\r\\n\\t\\t\\t\\r\\n\\t\\t\\t<select id=\"zip_status\" name=\"zip_status\" style=\"visibility:hidden\">\\r\\n\\t\\t\\t    <option value= \"ALL\">Show All</option>\\r\\n\\t\\t\\t    <option value= \"A\" \"selected\">Active</option>\\r\\n\\t\\t\\t    <option value= \"AH\" >Administrative Hold</option>\\r\\n\\t\\t\\t    <option value= \"EH\" >Enforcement Hold</option>\\r\\n\\t\\t\\t    <option value= \"R\" >Insurance Not Applied</option>\\r\\n\\t\\t\\t    <option value= \"E\" >Expired (less than 1 year)</option>\\r\\n\\t\\t\\t</select>\\r\\n\\t\\t\\t\\r\\n\\t\\t\\t&nbsp;&nbsp;&nbsp;\\r\\n\\t\\t\\t\\r\\n\\t\\t\\t<select id=\"zip_carrier_type\" name=\"zip_carrier_type\" style=visibility:hidden>\\r\\n\\t\\t\\t    <option value= \"all\">Show All</option>\\r\\n\\t\\t\\t    <option value= \"tow\" \"selected\">Tow Truck</option>\\r\\n\\t\\t\\t    <option value= \"vsf\">Vehicle Storage Facility</option>\\r\\n\\t\\t\\t</select>\\r\\n\\t\\t\\t\\r\\n\\t\\t</td>\\r\\n\\t\\t<td>\\r\\n\\t\\t\\tEnter the Zip Code you would like to search for, along with the certificate status and company type.\\r\\n\\t\\t\\tClick <a href=\"javascript:openwindow(\\'cert_definitions.htm\\');\">Here</a> for certificate status definitions.\\r\\n\\t\\t\\tClick <a href=\"javascript:openwindow(\\'carrier_definitions.htm\\');\">Here</a> for company type definitions.\\r\\n\\t\\t</td>\\r\\n\\t</tr>\\r\\n\\t\\r\\n\\t<tr bgcolor=\"#oo33ff\">\\r\\n\\t\\t<td colspan=2>\\r\\n\\t\\t\\t<center><button type=\"submit\" id=\"submit3\" name=\"proc\" onclick = \"return checkform(searchinfo)\">\\r\\n\\t\\t\\t<b>&nbsp;Search&nbsp;</b></button></center>\\r\\n\\t\\t</td>\\r\\n\\t</tr>\\r\\n\\r\\n</table>\\r\\n\\r\\n</form>\\r\\n\\r\\n<br />\\r\\n\\t</div>\\r\\n\\t    </div> <!-- content -->\\r\\n  </div> <!-- contentWrapper -->\\r\\n\\t\\r\\n\\t<div id=\"footer\">\\r\\n\\t<a href=\"/disclaimer.htm\" target=\"_blank\">Privacy and Security Policy</a> | <a href=\"/disclaimer.htm#access\" target=\"_blank\">Accessibility</a> | <a href=\"/disclaimer.htm#PublicInfoPolicy\" target=\"_blank\">Open Records Policy</a> | <a href=\"/disclaimer.htm#link\" target=\"_blank\">Link Policy</a> | <a href=\"/compact.htm\" target=\"_blank\">Compact with Texans</a><br />\\r\\n  <a href=\"http://www.texas.gov/en/Pages/default.aspx\" target=\"_blank\">Texas.gov</a> | <a href=\"http://www2.tsl.state.tx.us/trail/\" target=\"_blank\">TRAIL Search</a> | <a href=\"http://www.texashomelandsecurity.com/\" target=\"_blank\">Texas Homeland Security</a> | <a href=\"/links.htm\" target=\"_blank\">Links</a> | <a href=\"http://www.window.state.tx.us/wherethemoneygoes\" target=\"_blank\">Where the Money Goes</a>\\r\\n\\t</div> <!-- footer -->\\r\\n\\r\\n</div> <!-- outerWrapper -->\\r\\n\\r\\n</body>\\r\\n\\r\\n\\r\\n<script type=\"text/javascript\" Language=\"JavaScript\">\\r\\n<!--\\r\\n\\r\\nfunction checkform()\\r\\n{\\r\\n\\tvar alertsay = \"\"; \\r\\n\\t// check to see if the field is blank\\r\\n\\t\\t//if (searchinfo.namedata.value == \"\")\\r\\n\\t//\\t{\\r\\n\\t//\\t\\talert(\"You must one\");\\r\\n\\t//\\t\\tsearchinfo.searchdata.focus();\\r\\n\\t//\\t\\treturn (false);\\r\\n\\t//\\t}\\r\\n\\t\\t\\r\\n\\t// check if name search, if so then require at least 3 characters\\r\\n\\tif (searchinfo.namebutton.checked  ==true)\\r\\n\\t{\\r\\n\\t\\tif (searchinfo.namedata.value.length < 3)\\r\\n\\t\\tif (searchinfo.namedata.value.length > 0)\\r\\n\\t\\t{\\r\\n\\t\\t\\talert(\"Name search requires at least 3 characters\");\\r\\n\\t\\t\\tsearchinfo.namedata.focus();\\r\\n\\t\\t\\treturn (false);\\r\\n\\t\\t}\\r\\n\\t}\\r\\n\\t\\r\\n\\t// check if mcr search, if so then require at least 10 characters\\r\\n\\tif (searchinfo.mcrbutton.checked  ==true)\\r\\n\\t{\\r\\n\\t\\tif (searchinfo.mcrdata.value.length < 10)\\r\\n\\t\\tif (searchinfo.mcrdata.value.length > 0)\\r\\n\\t\\t{\\r\\n\\t\\t\\talert(\"MCR search requires at least 10 characters\");\\r\\n\\t\\t\\tsearchinfo.mcrdata.focus();\\r\\n\\t\\t\\treturn (false);\\r\\n\\t\\t}\\r\\n\\t}\\r\\n\\t\\r\\n\\t// check if city search, if so then require at least 3 characters\\r\\n\\tif (searchinfo.citybutton.checked  ==true)\\r\\n\\t{\\r\\n\\t\\tif (searchinfo.citydata.value.length < 3)\\r\\n\\t\\tif (searchinfo.citydata.value.length > 0)\\r\\n\\t\\t{\\r\\n\\t\\t\\talert(\"City search requires at least 3 characters\");\\r\\n\\t\\t\\tsearchinfo.citydata.focus();\\r\\n\\t\\t\\treturn (false);\\r\\n\\t\\t}\\r\\n\\t}\\r\\n\\t\\r\\n\\t// check if name search, if so then require at least 5 characters\\r\\n\\tif (searchinfo.zipcodebutton.checked  ==true)\\r\\n\\t{\\r\\n\\t\\tif (searchinfo.zipcodedata.value.length < 5)\\r\\n\\t\\tif (searchinfo.zipcodedata.value.length > 0)\\r\\n\\t\\t{\\r\\n\\t\\t\\talert(\"Zip Code search requires at least 5 characters\");\\r\\n\\t\\t\\tsearchinfo.zipcodedata.focus();\\r\\n\\t\\t\\treturn (false);\\r\\n\\t\\t}\\r\\n\\t}\\t\\r\\n}\\r\\n\\r\\nfunction openwindow(url) {\\r\\n\\t\\tawindow = window.open(url,\"newwindow\",\"toobar=no,width=400,height=400,status=no,scrollbars=yes,resize=no,menubar=no\");\\r\\n\\t\\t}\\r\\n//-->\\t\\r\\n</script>\\r\\n</html>'"
      ]
     },
     "execution_count": 3,
     "metadata": {},
     "output_type": "execute_result"
    }
   ],
   "source": [
    "response = requests.post('https://www.tdlr.texas.gov/tools_search/mccs_search.asp')\n",
    "response.text\n",
    "\n",
    "#requests.post is different than requests.get becuase .post allows you to interact with the site rather than \n",
    "# just pull a URL\n",
    "\n",
    "\n",
    "# We don't need this, but here it is:\n",
    "\n",
    "# data = {\n",
    "# 'namedata':'',\n",
    "# 'name_carrier_type' : 'COMPANY',\n",
    "# 'searchtype' : 'mcr',\n",
    "# 'mcrdata' : '006179570C',\n",
    "# 'citydata':'',\n",
    "# 'city_status':'A',\n",
    "# 'city_carrier_type':'tow',\n",
    "# 'zipcodedata':'',\n",
    "# 'zip_status':'ALL',\n",
    "# 'zip_carrier_type':'all',\n",
    "# 'proc':''\n",
    "# }\n",
    "\n",
    "# Headers = {\n",
    "#     \"Referer\" : \"https://www.tdlr.texas.gov/tools_search/mccs_search.asp?message=mcrerr\",\n",
    "#     'User-Agent' : 'Mozilla/5.0 (Macintosh; Intel Mac OS X 10_12_5) AppleWebKit/537.36 (KHTML, like Gecko) Chrome/58.0.3029.110 Safari/537.36'\n",
    "# }\n"
   ]
  },
  {
   "cell_type": "code",
   "execution_count": 4,
   "metadata": {
    "collapsed": true
   },
   "outputs": [],
   "source": [
    "TDLR_input = driver.find_element_by_xpath('//*[@id=\"mcrdata\"]')\n",
    "\n",
    "#here's where we are making a variable so we can select the TDLR field where we \n",
    "#input the number we're searching for, then hit enter (send_keys)\n",
    "\n",
    "TDLR_input.send_keys('006179570C')\n",
    "search_button = driver.find_element_by_xpath('//*[@id=\"submit3\"]/b')\n",
    "search_button.click()\n",
    "\n"
   ]
  },
  {
   "cell_type": "code",
   "execution_count": 5,
   "metadata": {},
   "outputs": [
    {
     "data": {
      "text/plain": [
       "'Name:   B.D. SMITH TOWING'"
      ]
     },
     "execution_count": 5,
     "metadata": {},
     "output_type": "execute_result"
    }
   ],
   "source": [
    "name = driver.find_element_by_xpath('//*[@id=\"t1\"]/tbody/tr/td/font/table[2]/tbody/tr[2]/td[1]')\n",
    "name.text"
   ]
  },
  {
   "cell_type": "code",
   "execution_count": 6,
   "metadata": {},
   "outputs": [
    {
     "data": {
      "text/plain": [
       "'Phone:   8173330706'"
      ]
     },
     "execution_count": 6,
     "metadata": {},
     "output_type": "execute_result"
    }
   ],
   "source": [
    "phone = driver.find_element_by_xpath('//*[@id=\"t1\"]/tbody/tr/td/font/table[2]/tbody/tr[4]/td[1]')\n",
    "phone.text"
   ]
  },
  {
   "cell_type": "code",
   "execution_count": 7,
   "metadata": {},
   "outputs": [
    {
     "data": {
      "text/plain": [
       "'Active'"
      ]
     },
     "execution_count": 7,
     "metadata": {},
     "output_type": "execute_result"
    }
   ],
   "source": [
    "license_status = driver.find_element_by_xpath('//*[@id=\"t1\"]/tbody/tr/td/font/table[3]/tbody/tr[2]/td[1]/font/font')\n",
    "license_status.text"
   ]
  },
  {
   "cell_type": "code",
   "execution_count": 8,
   "metadata": {},
   "outputs": [
    {
     "data": {
      "text/plain": [
       "'Carrier Type:  Tow Truck Company\\nNumber of Active Tow Trucks:   0\\n\\nAddress Information\\nMailing:\\n13619 BRETT JACKSON RD\\nFORT WORTH, TX. 76179\\n\\nPhysical:\\n13619 BRETT JACKSON RD.\\nFORT WORTH, TX. 76179'"
      ]
     },
     "execution_count": 8,
     "metadata": {},
     "output_type": "execute_result"
    }
   ],
   "source": [
    "physical_address = driver.find_element_by_xpath('//*[@id=\"t1\"]/tbody/tr/td/font/table[3]/tbody/tr[2]/td[2]')\n",
    "physical_address.text\n",
    "\n",
    "#How do we get down to the physical address??? Should we use beautifulsoup? the only parameters are that it's the 9th \n",
    "#line break.\n"
   ]
  },
  {
   "cell_type": "markdown",
   "metadata": {},
   "source": [
    "# Using .apply to find data about SEVERAL tow truck companies\n",
    "\n",
    "The file `trucks-subset.csv` has information about the trucks, we'll use it to find the pages to scrape.\n",
    "\n",
    "### Open up `trucks-subset.csv` and save it into a dataframe"
   ]
  },
  {
   "cell_type": "code",
   "execution_count": 9,
   "metadata": {},
   "outputs": [
    {
     "data": {
      "text/plain": [
       "TDLR Number    object\n",
       "dtype: object"
      ]
     },
     "execution_count": 9,
     "metadata": {},
     "output_type": "execute_result"
    }
   ],
   "source": [
    "import pandas as pd\n",
    "df = pd.read_csv('trucks-subset.csv', dtype = {'TDLR':'str'})\n",
    "df.head()\n",
    "df.dtypes"
   ]
  },
  {
   "cell_type": "markdown",
   "metadata": {},
   "source": [
    "### Open up `trucks-subset.csv` in a text editor, then look at your dataframe. Is something different about them? If so, make them match.\n",
    "\n",
    "- *TIP: I can help with this.*"
   ]
  },
  {
   "cell_type": "code",
   "execution_count": 10,
   "metadata": {},
   "outputs": [
    {
     "data": {
      "text/html": [
       "<div>\n",
       "<style>\n",
       "    .dataframe thead tr:only-child th {\n",
       "        text-align: right;\n",
       "    }\n",
       "\n",
       "    .dataframe thead th {\n",
       "        text-align: left;\n",
       "    }\n",
       "\n",
       "    .dataframe tbody tr th {\n",
       "        vertical-align: top;\n",
       "    }\n",
       "</style>\n",
       "<table border=\"1\" class=\"dataframe\">\n",
       "  <thead>\n",
       "    <tr style=\"text-align: right;\">\n",
       "      <th></th>\n",
       "      <th>TDLR Number</th>\n",
       "    </tr>\n",
       "  </thead>\n",
       "  <tbody>\n",
       "    <tr>\n",
       "      <th>0</th>\n",
       "      <td>006507931C</td>\n",
       "    </tr>\n",
       "    <tr>\n",
       "      <th>1</th>\n",
       "      <td>006179570C</td>\n",
       "    </tr>\n",
       "    <tr>\n",
       "      <th>2</th>\n",
       "      <td>006502097C</td>\n",
       "    </tr>\n",
       "  </tbody>\n",
       "</table>\n",
       "</div>"
      ],
      "text/plain": [
       "  TDLR Number\n",
       "0  006507931C\n",
       "1  006179570C\n",
       "2  006502097C"
      ]
     },
     "execution_count": 10,
     "metadata": {},
     "output_type": "execute_result"
    }
   ],
   "source": [
    "df.head()"
   ]
  },
  {
   "cell_type": "markdown",
   "metadata": {},
   "source": [
    "## Use `.apply` to go through each row of the dataset, printing out information about each tow truck company.\n",
    "\n",
    "- The business name\n",
    "- Phone number\n",
    "- License status\n",
    "- Physical address\n",
    "\n",
    "Just print it out for now.\n",
    "\n",
    "- *TIP: use .apply and a function*\n",
    "- *TIP: If you need help with .apply, look at the \"Using apply in pandas\" notebook *"
   ]
  },
  {
   "cell_type": "code",
   "execution_count": 11,
   "metadata": {
    "collapsed": true
   },
   "outputs": [],
   "source": [
    "def looking_at_something(row):\n",
    "\n",
    "    driver.get('https://www.tdlr.texas.gov/tools_search/mccs_search.asp')\n",
    "    \n",
    "    TDLR_input = driver.find_element_by_xpath('//*[@id=\"mcrdata\"]')\n",
    "    TDLR_input.send_keys(row['TDLR Number'])\n",
    "    search_button = driver.find_element_by_xpath('//*[@id=\"submit3\"]/b')\n",
    "    search_button.click()\n",
    "    \n",
    "    name = driver.find_element_by_xpath('//*[@id=\"t1\"]/tbody/tr/td/font/table[2]/tbody/tr[2]/td[1]')\n",
    "    print(name.text)\n",
    "    phone = driver.find_element_by_xpath('//*[@id=\"t1\"]/tbody/tr/td/font/table[2]/tbody/tr[4]/td[1]')\n",
    "    print(phone.text)\n",
    "    license_status = driver.find_element_by_xpath('//*[@id=\"t1\"]/tbody/tr/td/font/table[3]/tbody/tr[2]/td[1]/font/font')\n",
    "    print(license_status.text)\n",
    "    physical_address = driver.find_element_by_xpath('//*[@id=\"t1\"]/tbody/tr/td/font/table[3]/tbody/tr[2]/td[2]')\n",
    "    print(physical_address.text)\n",
    "    \n",
    "   "
   ]
  },
  {
   "cell_type": "markdown",
   "metadata": {},
   "source": [
    "## Scrape the following information for each row of the dataset, and save it into new columns in your dataframe.\n",
    "\n",
    "- The business name\n",
    "- Phone number\n",
    "- License status\n",
    "- Physical address\n",
    "\n",
    "It's basically what we did before, but using the function a little differently.\n",
    "\n",
    "- *TIP: Use .apply and a function*\n",
    "- *TIP: Remember to use `return`*"
   ]
  },
  {
   "cell_type": "code",
   "execution_count": 15,
   "metadata": {},
   "outputs": [],
   "source": [
    "def scrape_trucks_info(row):\n",
    "\n",
    "    driver.get('https://www.tdlr.texas.gov/tools_search/mccs_search.asp')\n",
    "    \n",
    "    #NOTE: don't do the webdriver piece here, because otherwise you'll open a bajillion webdrivers\n",
    "    #think of the actions you take when you go to the web page. do that same thing.\n",
    "    \n",
    "    TDLR_input = driver.find_element_by_xpath('//*[@id=\"mcrdata\"]')\n",
    "    TDLR_input.send_keys(row['TDLR Number'])\n",
    "    search_button = driver.find_element_by_xpath('//*[@id=\"submit3\"]/b')\n",
    "    search_button.click()\n",
    "    \n",
    "    name = driver.find_element_by_xpath('//*[@id=\"t1\"]/tbody/tr/td/font/table[2]/tbody/tr[2]/td[1]').text\n",
    "    phone = driver.find_element_by_xpath('//*[@id=\"t1\"]/tbody/tr/td/font/table[2]/tbody/tr[4]/td[1]').text\n",
    "    license_status = driver.find_element_by_xpath('//*[@id=\"t1\"]/tbody/tr/td/font/table[3]/tbody/tr[2]/td[1]/font/font').text\n",
    "    physical_address = driver.find_element_by_xpath('//*[@id=\"t1\"]/tbody/tr/td/font/table[3]/tbody/tr[2]/td[2]').text\n",
    "    \n",
    "    return pd.Series({\n",
    "        'name': name,\n",
    "        'phone': phone,\n",
    "        'license status':license_status,\n",
    "        'physical address': physical_address\n",
    "    })\n",
    "\n",
    "driver = webdriver.Chrome ()\n",
    "\n",
    "trucks_sub_df = df.apply(scrape_trucks_info, axis=1).join(df)\n",
    "\n",
    "driver.close()\n",
    "#applying the function 'scrape_trucks_info to the df (remmeber that's the csv file we downloaded!)\n",
    "#also joining those two things!\n",
    "#note: could also use .strip() in the return instead of .text"
   ]
  },
  {
   "cell_type": "markdown",
   "metadata": {},
   "source": [
    "### Save your dataframe as a CSV"
   ]
  },
  {
   "cell_type": "code",
   "execution_count": 17,
   "metadata": {},
   "outputs": [],
   "source": [
    "trucks_sub_df.head()\n",
    "trucks_sub_df.to_csv('texas_trucks.csv', index=False)\n"
   ]
  },
  {
   "cell_type": "markdown",
   "metadata": {},
   "source": [
    "### Re-open your dataframe to confirm you didn't save any extra weird columns"
   ]
  },
  {
   "cell_type": "code",
   "execution_count": 18,
   "metadata": {},
   "outputs": [
    {
     "data": {
      "text/html": [
       "<div>\n",
       "<style>\n",
       "    .dataframe thead tr:only-child th {\n",
       "        text-align: right;\n",
       "    }\n",
       "\n",
       "    .dataframe thead th {\n",
       "        text-align: left;\n",
       "    }\n",
       "\n",
       "    .dataframe tbody tr th {\n",
       "        vertical-align: top;\n",
       "    }\n",
       "</style>\n",
       "<table border=\"1\" class=\"dataframe\">\n",
       "  <thead>\n",
       "    <tr style=\"text-align: right;\">\n",
       "      <th></th>\n",
       "      <th>license status</th>\n",
       "      <th>name</th>\n",
       "      <th>phone</th>\n",
       "      <th>physical address</th>\n",
       "      <th>TDLR Number</th>\n",
       "    </tr>\n",
       "  </thead>\n",
       "  <tbody>\n",
       "    <tr>\n",
       "      <th>0</th>\n",
       "      <td>Active</td>\n",
       "      <td>Name:   AUGUSTUS E SMITH</td>\n",
       "      <td>Phone:   9032276464</td>\n",
       "      <td>Carrier Type:  Tow Truck Company\\nNumber of Ac...</td>\n",
       "      <td>006507931C</td>\n",
       "    </tr>\n",
       "    <tr>\n",
       "      <th>1</th>\n",
       "      <td>Active</td>\n",
       "      <td>Name:   B.D. SMITH TOWING</td>\n",
       "      <td>Phone:   8173330706</td>\n",
       "      <td>Carrier Type:  Tow Truck Company\\nNumber of Ac...</td>\n",
       "      <td>006179570C</td>\n",
       "    </tr>\n",
       "    <tr>\n",
       "      <th>2</th>\n",
       "      <td>Active</td>\n",
       "      <td>Name:   BARRY MICHAEL SMITH</td>\n",
       "      <td>Phone:   8066544404</td>\n",
       "      <td>Carrier Type:  Tow Truck Company\\nNumber of Ac...</td>\n",
       "      <td>006502097C</td>\n",
       "    </tr>\n",
       "  </tbody>\n",
       "</table>\n",
       "</div>"
      ],
      "text/plain": [
       "  license status                         name                phone  \\\n",
       "0         Active     Name:   AUGUSTUS E SMITH  Phone:   9032276464   \n",
       "1         Active    Name:   B.D. SMITH TOWING  Phone:   8173330706   \n",
       "2         Active  Name:   BARRY MICHAEL SMITH  Phone:   8066544404   \n",
       "\n",
       "                                    physical address TDLR Number  \n",
       "0  Carrier Type:  Tow Truck Company\\nNumber of Ac...  006507931C  \n",
       "1  Carrier Type:  Tow Truck Company\\nNumber of Ac...  006179570C  \n",
       "2  Carrier Type:  Tow Truck Company\\nNumber of Ac...  006502097C  "
      ]
     },
     "execution_count": 18,
     "metadata": {},
     "output_type": "execute_result"
    }
   ],
   "source": [
    "trucks_sub_df = pd.read_csv('texas_trucks.csv')\n",
    "trucks_sub_df.head()"
   ]
  },
  {
   "cell_type": "markdown",
   "metadata": {},
   "source": [
    "## Repeat this process for the entire `tow-trucks.csv` file"
   ]
  },
  {
   "cell_type": "code",
   "execution_count": null,
   "metadata": {},
   "outputs": [],
   "source": [
    "tow_trucks_all_df = pd.read_csv('tow-trucks.csv', dtype = {'TDLR':'str'})\n",
    "tow_trucks_all_df.dtypes"
   ]
  },
  {
   "cell_type": "code",
   "execution_count": null,
   "metadata": {},
   "outputs": [],
   "source": [
    "len(tow_trucks_all_df)"
   ]
  },
  {
   "cell_type": "code",
   "execution_count": null,
   "metadata": {},
   "outputs": [],
   "source": [
    "tow_trucks_all_df.head()\n",
    "tow_trucks_all_df.tail()\n"
   ]
  },
  {
   "cell_type": "code",
   "execution_count": 21,
   "metadata": {},
   "outputs": [
    {
     "ename": "NoSuchElementException",
     "evalue": "Message: no such element: Unable to locate element: {\"method\":\"xpath\",\"selector\":\"//*[@id=\"t1\"]/tbody/tr/td/font/table[2]/tbody/tr[2]/td[1]\"}\n  (Session info: chrome=58.0.3029.110)\n  (Driver info: chromedriver=2.30.477690 (c53f4ad87510ee97b5c3425a14c0e79780cdf262),platform=Mac OS X 10.12.5 x86_64)\n",
     "output_type": "error",
     "traceback": [
      "\u001b[0;31m---------------------------------------------------------------------------\u001b[0m",
      "\u001b[0;31mNoSuchElementException\u001b[0m                    Traceback (most recent call last)",
      "\u001b[0;32m<ipython-input-21-a227f0f76c33>\u001b[0m in \u001b[0;36m<module>\u001b[0;34m()\u001b[0m\n\u001b[1;32m     28\u001b[0m \u001b[0;31m#         license_status = driver.find_element_by_xpath('//*[@id=\"t1\"]/tbody/tr/td/font/table[3]/tbody/tr[2]/td[1]/font/font').text\u001b[0m\u001b[0;34m\u001b[0m\u001b[0;34m\u001b[0m\u001b[0m\n\u001b[1;32m     29\u001b[0m \u001b[0;34m\u001b[0m\u001b[0m\n\u001b[0;32m---> 30\u001b[0;31m \u001b[0mtrucks_new_df\u001b[0m \u001b[0;34m=\u001b[0m \u001b[0mtow_trucks_all_df\u001b[0m\u001b[0;34m.\u001b[0m\u001b[0mapply\u001b[0m\u001b[0;34m(\u001b[0m\u001b[0mscrape_trucks_all\u001b[0m\u001b[0;34m,\u001b[0m \u001b[0maxis\u001b[0m\u001b[0;34m=\u001b[0m\u001b[0;36m1\u001b[0m\u001b[0;34m)\u001b[0m\u001b[0;34m.\u001b[0m\u001b[0mjoin\u001b[0m\u001b[0;34m(\u001b[0m\u001b[0mtow_trucks_all_df\u001b[0m\u001b[0;34m)\u001b[0m\u001b[0;34m\u001b[0m\u001b[0m\n\u001b[0m\u001b[1;32m     31\u001b[0m \u001b[0mtrucks_new_df\u001b[0m\u001b[0;34m.\u001b[0m\u001b[0mhead\u001b[0m\u001b[0;34m(\u001b[0m\u001b[0;34m)\u001b[0m\u001b[0;34m\u001b[0m\u001b[0m\n\u001b[1;32m     32\u001b[0m \u001b[0;34m\u001b[0m\u001b[0m\n",
      "\u001b[0;32m/usr/local/lib/python3.6/site-packages/pandas/core/frame.py\u001b[0m in \u001b[0;36mapply\u001b[0;34m(self, func, axis, broadcast, raw, reduce, args, **kwds)\u001b[0m\n\u001b[1;32m   4260\u001b[0m                         \u001b[0mf\u001b[0m\u001b[0;34m,\u001b[0m \u001b[0maxis\u001b[0m\u001b[0;34m,\u001b[0m\u001b[0;34m\u001b[0m\u001b[0m\n\u001b[1;32m   4261\u001b[0m                         \u001b[0mreduce\u001b[0m\u001b[0;34m=\u001b[0m\u001b[0mreduce\u001b[0m\u001b[0;34m,\u001b[0m\u001b[0;34m\u001b[0m\u001b[0m\n\u001b[0;32m-> 4262\u001b[0;31m                         ignore_failures=ignore_failures)\n\u001b[0m\u001b[1;32m   4263\u001b[0m             \u001b[0;32melse\u001b[0m\u001b[0;34m:\u001b[0m\u001b[0;34m\u001b[0m\u001b[0m\n\u001b[1;32m   4264\u001b[0m                 \u001b[0;32mreturn\u001b[0m \u001b[0mself\u001b[0m\u001b[0;34m.\u001b[0m\u001b[0m_apply_broadcast\u001b[0m\u001b[0;34m(\u001b[0m\u001b[0mf\u001b[0m\u001b[0;34m,\u001b[0m \u001b[0maxis\u001b[0m\u001b[0;34m)\u001b[0m\u001b[0;34m\u001b[0m\u001b[0m\n",
      "\u001b[0;32m/usr/local/lib/python3.6/site-packages/pandas/core/frame.py\u001b[0m in \u001b[0;36m_apply_standard\u001b[0;34m(self, func, axis, ignore_failures, reduce)\u001b[0m\n\u001b[1;32m   4356\u001b[0m             \u001b[0;32mtry\u001b[0m\u001b[0;34m:\u001b[0m\u001b[0;34m\u001b[0m\u001b[0m\n\u001b[1;32m   4357\u001b[0m                 \u001b[0;32mfor\u001b[0m \u001b[0mi\u001b[0m\u001b[0;34m,\u001b[0m \u001b[0mv\u001b[0m \u001b[0;32min\u001b[0m \u001b[0menumerate\u001b[0m\u001b[0;34m(\u001b[0m\u001b[0mseries_gen\u001b[0m\u001b[0;34m)\u001b[0m\u001b[0;34m:\u001b[0m\u001b[0;34m\u001b[0m\u001b[0m\n\u001b[0;32m-> 4358\u001b[0;31m                     \u001b[0mresults\u001b[0m\u001b[0;34m[\u001b[0m\u001b[0mi\u001b[0m\u001b[0;34m]\u001b[0m \u001b[0;34m=\u001b[0m \u001b[0mfunc\u001b[0m\u001b[0;34m(\u001b[0m\u001b[0mv\u001b[0m\u001b[0;34m)\u001b[0m\u001b[0;34m\u001b[0m\u001b[0m\n\u001b[0m\u001b[1;32m   4359\u001b[0m                     \u001b[0mkeys\u001b[0m\u001b[0;34m.\u001b[0m\u001b[0mappend\u001b[0m\u001b[0;34m(\u001b[0m\u001b[0mv\u001b[0m\u001b[0;34m.\u001b[0m\u001b[0mname\u001b[0m\u001b[0;34m)\u001b[0m\u001b[0;34m\u001b[0m\u001b[0m\n\u001b[1;32m   4360\u001b[0m             \u001b[0;32mexcept\u001b[0m \u001b[0mException\u001b[0m \u001b[0;32mas\u001b[0m \u001b[0me\u001b[0m\u001b[0;34m:\u001b[0m\u001b[0;34m\u001b[0m\u001b[0m\n",
      "\u001b[0;32m<ipython-input-21-a227f0f76c33>\u001b[0m in \u001b[0;36mscrape_trucks_all\u001b[0;34m(row)\u001b[0m\n\u001b[1;32m     13\u001b[0m     \u001b[0msearch_button\u001b[0m\u001b[0;34m.\u001b[0m\u001b[0mclick\u001b[0m\u001b[0;34m(\u001b[0m\u001b[0;34m)\u001b[0m\u001b[0;34m\u001b[0m\u001b[0m\n\u001b[1;32m     14\u001b[0m \u001b[0;34m\u001b[0m\u001b[0m\n\u001b[0;32m---> 15\u001b[0;31m     \u001b[0mname\u001b[0m \u001b[0;34m=\u001b[0m \u001b[0mdriver\u001b[0m\u001b[0;34m.\u001b[0m\u001b[0mfind_element_by_xpath\u001b[0m\u001b[0;34m(\u001b[0m\u001b[0;34m'//*[@id=\"t1\"]/tbody/tr/td/font/table[2]/tbody/tr[2]/td[1]'\u001b[0m\u001b[0;34m)\u001b[0m\u001b[0;34m.\u001b[0m\u001b[0mtext\u001b[0m\u001b[0;34m\u001b[0m\u001b[0m\n\u001b[0m\u001b[1;32m     16\u001b[0m     \u001b[0mphone\u001b[0m \u001b[0;34m=\u001b[0m \u001b[0mdriver\u001b[0m\u001b[0;34m.\u001b[0m\u001b[0mfind_element_by_xpath\u001b[0m\u001b[0;34m(\u001b[0m\u001b[0;34m'//*[@id=\"t1\"]/tbody/tr/td/font/table[2]/tbody/tr[4]/td[1]'\u001b[0m\u001b[0;34m)\u001b[0m\u001b[0;34m.\u001b[0m\u001b[0mtext\u001b[0m\u001b[0;34m\u001b[0m\u001b[0m\n\u001b[1;32m     17\u001b[0m     \u001b[0mlicense_status\u001b[0m \u001b[0;34m=\u001b[0m \u001b[0mdriver\u001b[0m\u001b[0;34m.\u001b[0m\u001b[0mfind_element_by_xpath\u001b[0m\u001b[0;34m(\u001b[0m\u001b[0;34m'//*[@id=\"t1\"]/tbody/tr/td/font/table[3]/tbody/tr[1]/td[2]/font'\u001b[0m\u001b[0;34m)\u001b[0m\u001b[0;34m.\u001b[0m\u001b[0mtext\u001b[0m\u001b[0;34m\u001b[0m\u001b[0m\n",
      "\u001b[0;32m/usr/local/lib/python3.6/site-packages/selenium/webdriver/remote/webdriver.py\u001b[0m in \u001b[0;36mfind_element_by_xpath\u001b[0;34m(self, xpath)\u001b[0m\n\u001b[1;32m    311\u001b[0m             \u001b[0mdriver\u001b[0m\u001b[0;34m.\u001b[0m\u001b[0mfind_element_by_xpath\u001b[0m\u001b[0;34m(\u001b[0m\u001b[0;34m'//div/td[1]'\u001b[0m\u001b[0;34m)\u001b[0m\u001b[0;34m\u001b[0m\u001b[0m\n\u001b[1;32m    312\u001b[0m         \"\"\"\n\u001b[0;32m--> 313\u001b[0;31m         \u001b[0;32mreturn\u001b[0m \u001b[0mself\u001b[0m\u001b[0;34m.\u001b[0m\u001b[0mfind_element\u001b[0m\u001b[0;34m(\u001b[0m\u001b[0mby\u001b[0m\u001b[0;34m=\u001b[0m\u001b[0mBy\u001b[0m\u001b[0;34m.\u001b[0m\u001b[0mXPATH\u001b[0m\u001b[0;34m,\u001b[0m \u001b[0mvalue\u001b[0m\u001b[0;34m=\u001b[0m\u001b[0mxpath\u001b[0m\u001b[0;34m)\u001b[0m\u001b[0;34m\u001b[0m\u001b[0m\n\u001b[0m\u001b[1;32m    314\u001b[0m \u001b[0;34m\u001b[0m\u001b[0m\n\u001b[1;32m    315\u001b[0m     \u001b[0;32mdef\u001b[0m \u001b[0mfind_elements_by_xpath\u001b[0m\u001b[0;34m(\u001b[0m\u001b[0mself\u001b[0m\u001b[0;34m,\u001b[0m \u001b[0mxpath\u001b[0m\u001b[0;34m)\u001b[0m\u001b[0;34m:\u001b[0m\u001b[0;34m\u001b[0m\u001b[0m\n",
      "\u001b[0;32m/usr/local/lib/python3.6/site-packages/selenium/webdriver/remote/webdriver.py\u001b[0m in \u001b[0;36mfind_element\u001b[0;34m(self, by, value)\u001b[0m\n\u001b[1;32m    789\u001b[0m         return self.execute(Command.FIND_ELEMENT, {\n\u001b[1;32m    790\u001b[0m             \u001b[0;34m'using'\u001b[0m\u001b[0;34m:\u001b[0m \u001b[0mby\u001b[0m\u001b[0;34m,\u001b[0m\u001b[0;34m\u001b[0m\u001b[0m\n\u001b[0;32m--> 791\u001b[0;31m             'value': value})['value']\n\u001b[0m\u001b[1;32m    792\u001b[0m \u001b[0;34m\u001b[0m\u001b[0m\n\u001b[1;32m    793\u001b[0m     \u001b[0;32mdef\u001b[0m \u001b[0mfind_elements\u001b[0m\u001b[0;34m(\u001b[0m\u001b[0mself\u001b[0m\u001b[0;34m,\u001b[0m \u001b[0mby\u001b[0m\u001b[0;34m=\u001b[0m\u001b[0mBy\u001b[0m\u001b[0;34m.\u001b[0m\u001b[0mID\u001b[0m\u001b[0;34m,\u001b[0m \u001b[0mvalue\u001b[0m\u001b[0;34m=\u001b[0m\u001b[0;32mNone\u001b[0m\u001b[0;34m)\u001b[0m\u001b[0;34m:\u001b[0m\u001b[0;34m\u001b[0m\u001b[0m\n",
      "\u001b[0;32m/usr/local/lib/python3.6/site-packages/selenium/webdriver/remote/webdriver.py\u001b[0m in \u001b[0;36mexecute\u001b[0;34m(self, driver_command, params)\u001b[0m\n\u001b[1;32m    254\u001b[0m         \u001b[0mresponse\u001b[0m \u001b[0;34m=\u001b[0m \u001b[0mself\u001b[0m\u001b[0;34m.\u001b[0m\u001b[0mcommand_executor\u001b[0m\u001b[0;34m.\u001b[0m\u001b[0mexecute\u001b[0m\u001b[0;34m(\u001b[0m\u001b[0mdriver_command\u001b[0m\u001b[0;34m,\u001b[0m \u001b[0mparams\u001b[0m\u001b[0;34m)\u001b[0m\u001b[0;34m\u001b[0m\u001b[0m\n\u001b[1;32m    255\u001b[0m         \u001b[0;32mif\u001b[0m \u001b[0mresponse\u001b[0m\u001b[0;34m:\u001b[0m\u001b[0;34m\u001b[0m\u001b[0m\n\u001b[0;32m--> 256\u001b[0;31m             \u001b[0mself\u001b[0m\u001b[0;34m.\u001b[0m\u001b[0merror_handler\u001b[0m\u001b[0;34m.\u001b[0m\u001b[0mcheck_response\u001b[0m\u001b[0;34m(\u001b[0m\u001b[0mresponse\u001b[0m\u001b[0;34m)\u001b[0m\u001b[0;34m\u001b[0m\u001b[0m\n\u001b[0m\u001b[1;32m    257\u001b[0m             response['value'] = self._unwrap_value(\n\u001b[1;32m    258\u001b[0m                 response.get('value', None))\n",
      "\u001b[0;32m/usr/local/lib/python3.6/site-packages/selenium/webdriver/remote/errorhandler.py\u001b[0m in \u001b[0;36mcheck_response\u001b[0;34m(self, response)\u001b[0m\n\u001b[1;32m    192\u001b[0m         \u001b[0;32melif\u001b[0m \u001b[0mexception_class\u001b[0m \u001b[0;34m==\u001b[0m \u001b[0mUnexpectedAlertPresentException\u001b[0m \u001b[0;32mand\u001b[0m \u001b[0;34m'alert'\u001b[0m \u001b[0;32min\u001b[0m \u001b[0mvalue\u001b[0m\u001b[0;34m:\u001b[0m\u001b[0;34m\u001b[0m\u001b[0m\n\u001b[1;32m    193\u001b[0m             \u001b[0;32mraise\u001b[0m \u001b[0mexception_class\u001b[0m\u001b[0;34m(\u001b[0m\u001b[0mmessage\u001b[0m\u001b[0;34m,\u001b[0m \u001b[0mscreen\u001b[0m\u001b[0;34m,\u001b[0m \u001b[0mstacktrace\u001b[0m\u001b[0;34m,\u001b[0m \u001b[0mvalue\u001b[0m\u001b[0;34m[\u001b[0m\u001b[0;34m'alert'\u001b[0m\u001b[0;34m]\u001b[0m\u001b[0;34m.\u001b[0m\u001b[0mget\u001b[0m\u001b[0;34m(\u001b[0m\u001b[0;34m'text'\u001b[0m\u001b[0;34m)\u001b[0m\u001b[0;34m)\u001b[0m\u001b[0;34m\u001b[0m\u001b[0m\n\u001b[0;32m--> 194\u001b[0;31m         \u001b[0;32mraise\u001b[0m \u001b[0mexception_class\u001b[0m\u001b[0;34m(\u001b[0m\u001b[0mmessage\u001b[0m\u001b[0;34m,\u001b[0m \u001b[0mscreen\u001b[0m\u001b[0;34m,\u001b[0m \u001b[0mstacktrace\u001b[0m\u001b[0;34m)\u001b[0m\u001b[0;34m\u001b[0m\u001b[0m\n\u001b[0m\u001b[1;32m    195\u001b[0m \u001b[0;34m\u001b[0m\u001b[0m\n\u001b[1;32m    196\u001b[0m     \u001b[0;32mdef\u001b[0m \u001b[0m_value_or_default\u001b[0m\u001b[0;34m(\u001b[0m\u001b[0mself\u001b[0m\u001b[0;34m,\u001b[0m \u001b[0mobj\u001b[0m\u001b[0;34m,\u001b[0m \u001b[0mkey\u001b[0m\u001b[0;34m,\u001b[0m \u001b[0mdefault\u001b[0m\u001b[0;34m)\u001b[0m\u001b[0;34m:\u001b[0m\u001b[0;34m\u001b[0m\u001b[0m\n",
      "\u001b[0;31mNoSuchElementException\u001b[0m: Message: no such element: Unable to locate element: {\"method\":\"xpath\",\"selector\":\"//*[@id=\"t1\"]/tbody/tr/td/font/table[2]/tbody/tr[2]/td[1]\"}\n  (Session info: chrome=58.0.3029.110)\n  (Driver info: chromedriver=2.30.477690 (c53f4ad87510ee97b5c3425a14c0e79780cdf262),platform=Mac OS X 10.12.5 x86_64)\n"
     ]
    }
   ],
   "source": [
    "tow_trucks_all_df = pd.read_csv('tow-trucks.csv', dtype = {'TDLR':'str'})\n",
    "tow_trucks_all_df.head()\n",
    "\n",
    "def scrape_trucks_all(row):\n",
    "\n",
    "    driver.get('https://www.tdlr.texas.gov/tools_search/mccs_search.asp')\n",
    "    \n",
    "    #think of all the actions you take when you go to the web page. do that same thing, just via selenium\n",
    "    \n",
    "    TDLR_input = driver.find_element_by_xpath('//*[@id=\"mcrdata\"]')\n",
    "    TDLR_input.send_keys(row['TDLR Number'])\n",
    "    search_button = driver.find_element_by_xpath('//*[@id=\"submit3\"]/b')\n",
    "    search_button.click()\n",
    "    \n",
    "    name = driver.find_element_by_xpath('//*[@id=\"t1\"]/tbody/tr/td/font/table[2]/tbody/tr[2]/td[1]').text\n",
    "    phone = driver.find_element_by_xpath('//*[@id=\"t1\"]/tbody/tr/td/font/table[2]/tbody/tr[4]/td[1]').text \n",
    "    license_status = driver.find_element_by_xpath('//*[@id=\"t1\"]/tbody/tr/td/font/table[3]/tbody/tr[1]/td[2]/font').text \n",
    "    physical_address = driver.find_element_by_xpath('//*[@id=\"t1\"]/tbody/tr/td/font/table[3]/tbody/tr[2]/td[2]').text \n",
    "\n",
    "    \n",
    "    return pd.Series({\n",
    "        'name': name,\n",
    "        'phone': phone,\n",
    "        'license status':license_status,\n",
    "        'physical address': physical_address\n",
    "    })\n",
    "    \n",
    "#         license_status = driver.find_element_by_xpath('//*[@id=\"t1\"]/tbody/tr/td/font/table[3]/tbody/tr[2]/td[1]/font/font').text\n",
    "\n",
    "trucks_new_df = tow_trucks_all_df.apply(scrape_trucks_all, axis=1).join(tow_trucks_all_df)\n",
    "trucks_new_df.head()\n",
    "\n",
    "# new_df = imported df from csv.apply(function, axis=1).join(imported df from csv)\n",
    "\n",
    "#It seems to be breaking because it isn't finding a record for 0646264VSF. Below I've tried a While loop to skip that \n",
    "#but I can't seem to get the syntax right."
   ]
  },
  {
   "cell_type": "code",
   "execution_count": 31,
   "metadata": {},
   "outputs": [
    {
     "ename": "SyntaxError",
     "evalue": "invalid syntax (<ipython-input-31-bebdb1fd784a>, line 23)",
     "output_type": "error",
     "traceback": [
      "\u001b[0;36m  File \u001b[0;32m\"<ipython-input-31-bebdb1fd784a>\"\u001b[0;36m, line \u001b[0;32m23\u001b[0m\n\u001b[0;31m    if:\u001b[0m\n\u001b[0m     ^\u001b[0m\n\u001b[0;31mSyntaxError\u001b[0m\u001b[0;31m:\u001b[0m invalid syntax\n"
     ]
    }
   ],
   "source": [
    "tow_trucks_all_df = pd.read_csv('tow-trucks.csv', dtype = {'TDLR':'str'})\n",
    "tow_trucks_all_df.head()\n",
    "\n",
    "    \n",
    "while True:\n",
    "    \n",
    "    try:\n",
    "        \n",
    "        driver.get('https://www.tdlr.texas.gov/tools_search/mccs_search.asp')\n",
    "    \n",
    "    #think of all the actions you take when you go to the web page. do that same thing, just via selenium\n",
    "    \n",
    "        TDLR_input = driver.find_element_by_xpath('//*[@id=\"mcrdata\"]')\n",
    "        TDLR_input.send_keys(row['TDLR Number'])\n",
    "        search_button = driver.find_element_by_xpath('//*[@id=\"submit3\"]/b')\n",
    "        search_button.click()\n",
    "    \n",
    "        name = driver.find_element_by_xpath('//*[@id=\"t1\"]/tbody/tr/td/font/table[2]/tbody/tr[2]/td[1]').text\n",
    "        phone = driver.find_element_by_xpath('//*[@id=\"t1\"]/tbody/tr/td/font/table[2]/tbody/tr[4]/td[1]').text \n",
    "        license_status = driver.find_element_by_xpath('//*[@id=\"t1\"]/tbody/tr/td/font/table[3]/tbody/tr[1]/td[2]/font').text \n",
    "        physical_address = driver.find_element_by_xpath('//*[@id=\"t1\"]/tbody/tr/td/font/table[3]/tbody/tr[2]/td[2]').text \n",
    "    \n",
    "    if:\n",
    "        name = driver.find_element_by_xpath('//*[@id=\"t1\"]/tbody/tr/td/font/table[2]/tbody/tr[2]/td[1]' !=Na)\n",
    "    \n",
    "    continue;\n",
    "    \n",
    "    return pd.Series({\n",
    "        'name': name,\n",
    "        'phone': phone,\n",
    "        'license status':license_status,\n",
    "        'physical address': physical_address\n",
    "    })\n",
    "    \n",
    "#         license_status = driver.find_element_by_xpath('//*[@id=\"t1\"]/tbody/tr/td/font/table[3]/tbody/tr[2]/td[1]/font/font').text\n",
    "\n",
    "trucks_new_df = tow_trucks_all_df.apply(scrape_trucks_all, axis=1).join(tow_trucks_all_df)\n",
    "trucks_new_df.head()\n",
    "\n",
    "# new_df = imported df from csv.apply(function, axis=1).join(imported df from csv)\n",
    "\n",
    "#It seems to be breaking because it isn't finding a record for 0646264VSF. I think a While loop could help but I can't figure\n",
    "#out what's wrong with my syntax..."
   ]
  },
  {
   "cell_type": "code",
   "execution_count": null,
   "metadata": {
    "collapsed": true
   },
   "outputs": [],
   "source": []
  }
 ],
 "metadata": {
  "kernelspec": {
   "display_name": "Python 3",
   "language": "python",
   "name": "python3"
  },
  "language_info": {
   "codemirror_mode": {
    "name": "ipython",
    "version": 3
   },
   "file_extension": ".py",
   "mimetype": "text/x-python",
   "name": "python",
   "nbconvert_exporter": "python",
   "pygments_lexer": "ipython3",
   "version": "3.6.1"
  }
 },
 "nbformat": 4,
 "nbformat_minor": 2
}
