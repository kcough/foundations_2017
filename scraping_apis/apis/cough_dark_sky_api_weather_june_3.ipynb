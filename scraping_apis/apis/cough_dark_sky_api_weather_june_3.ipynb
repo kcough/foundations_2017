{
 "cells": [
  {
   "cell_type": "markdown",
   "metadata": {},
   "source": [
    "# Dark Sky API (Weather)\n",
    "\n",
    "Answer the following questions using the [Dark Sky API](https://darksky.net/dev/). I've added three cells for each question but you're free to use more or less! Hold `Shift` and hit `Enter` to run a cell, and use the `+` on the top left to add a new cell to a notebook.\n",
    "\n",
    "If you spend some time reading the documentation your life will probably be a little bit easier!\n",
    "\n",
    "## 0) Import any libraries you might need\n",
    "\n",
    "- *Tip: We're going to be downloading things from the internet, so we probably need `requests`.*"
   ]
  },
  {
   "cell_type": "code",
   "execution_count": null,
   "metadata": {
    "collapsed": true
   },
   "outputs": [],
   "source": [
    "import requests"
   ]
  },
  {
   "cell_type": "markdown",
   "metadata": {
    "collapsed": true
   },
   "source": [
    "## 1) Make a request from the Dark Sky API for where you were born (or lived, or want to visit!).\n",
    "\n",
    "- *Tip: The URL we used in class was for a place near San Francisco. What was the format of the endpoint that made this happen?*\n",
    "- *Tip: Save the URL as a separate variable, and be sure to not have `[` and `]` inside.*\n",
    "- *Tip: How is north vs. south and east vs. west latitude/longitude represented? Is it the normal North/South/East/West?*\n",
    "- *Tip: You know it's JSON, but Python doesn't! Make sure you aren't trying to deal with plain text.* \n",
    "- *Tip: Once you've imported the JSON into a variable, check the timezone's name to make sure it seems like it got the right part of the world!*"
   ]
  },
  {
   "cell_type": "code",
   "execution_count": 77,
   "metadata": {
    "collapsed": true
   },
   "outputs": [],
   "source": [
    "url = \"https://api.darksky.net/forecast/13d3600a5cd0883a0f7c94181a175dd3/43.6615,-70.2553\""
   ]
  },
  {
   "cell_type": "code",
   "execution_count": 96,
   "metadata": {},
   "outputs": [],
   "source": [
    "response = requests.get(url)\n",
    "#print(response.text)"
   ]
  },
  {
   "cell_type": "code",
   "execution_count": 207,
   "metadata": {},
   "outputs": [
    {
     "data": {
      "text/plain": [
       "'America/New_York'"
      ]
     },
     "execution_count": 207,
     "metadata": {},
     "output_type": "execute_result"
    }
   ],
   "source": [
    "original = response.json()\n",
    "original['timezone']\n",
    "#print(response.json())"
   ]
  },
  {
   "cell_type": "markdown",
   "metadata": {},
   "source": [
    "## 2) What's the current wind speed? How much warmer does it feel than it actually is?\n",
    "\n",
    "- *Tip: You can do this by browsing through the dictionaries, but it might be easier to read the documentation*\n",
    "- *Tip: For the second half: it **is** one temperature, and it **feels** a different temperature. Calculate the difference.*"
   ]
  },
  {
   "cell_type": "code",
   "execution_count": 143,
   "metadata": {},
   "outputs": [
    {
     "data": {
      "text/plain": [
       "dict_keys(['latitude', 'longitude', 'timezone', 'offset', 'currently', 'minutely', 'hourly', 'daily', 'flags'])"
      ]
     },
     "execution_count": 143,
     "metadata": {},
     "output_type": "execute_result"
    }
   ],
   "source": [
    "original.keys()"
   ]
  },
  {
   "cell_type": "code",
   "execution_count": 142,
   "metadata": {},
   "outputs": [
    {
     "data": {
      "text/plain": [
       "(6.21, 43.6615, -70.2553)"
      ]
     },
     "execution_count": 142,
     "metadata": {},
     "output_type": "execute_result"
    }
   ],
   "source": [
    "original['currently']['windSpeed'], original['latitude'], original['longitude']"
   ]
  },
  {
   "cell_type": "code",
   "execution_count": 147,
   "metadata": {},
   "outputs": [
    {
     "data": {
      "text/plain": [
       "(59.48, 59.48)"
      ]
     },
     "execution_count": 147,
     "metadata": {},
     "output_type": "execute_result"
    }
   ],
   "source": [
    "current_temp = original['currently']['temperature']\n",
    "apparent_temp = original['currently']['apparentTemperature']\n",
    "current_temp,apparent_temp"
   ]
  },
  {
   "cell_type": "code",
   "execution_count": 148,
   "metadata": {},
   "outputs": [
    {
     "data": {
      "text/plain": [
       "('The temperature is', 59.48, 'degrees fahrenheit')"
      ]
     },
     "execution_count": 148,
     "metadata": {},
     "output_type": "execute_result"
    }
   ],
   "source": [
    "\"The temperature is\", current_temp, \"degrees fahrenheit\""
   ]
  },
  {
   "cell_type": "code",
   "execution_count": 149,
   "metadata": {},
   "outputs": [
    {
     "data": {
      "text/plain": [
       "('It feels like', 59.48, 'degrees fahrenheit')"
      ]
     },
     "execution_count": 149,
     "metadata": {},
     "output_type": "execute_result"
    }
   ],
   "source": [
    "\"It feels like\", apparent_temp, \"degrees fahrenheit\""
   ]
  },
  {
   "cell_type": "code",
   "execution_count": 159,
   "metadata": {},
   "outputs": [
    {
     "data": {
      "text/plain": [
       "('It feels', 0.0, 'degrees different than it is')"
      ]
     },
     "execution_count": 159,
     "metadata": {},
     "output_type": "execute_result"
    }
   ],
   "source": [
    "\"It feels\", (current_temp - apparent_temp), \"degrees different than it is\"\n",
    "\n",
    "#how to get write this so it looks nicer??"
   ]
  },
  {
   "cell_type": "markdown",
   "metadata": {},
   "source": [
    "## 3) Today's forecast is the FIRST daily forecast. For the place you decided on above, how much of the moon is currently visible?\n",
    "\n",
    "- *Tip: This does **not** use the `currently` key.*\n",
    "- *Tip: It might be helpful to save the forecast into its own variable*"
   ]
  },
  {
   "cell_type": "code",
   "execution_count": 161,
   "metadata": {},
   "outputs": [
    {
     "data": {
      "text/plain": [
       "{'data': [{'apparentTemperatureMax': 59.9,\n",
       "   'apparentTemperatureMaxTime': 1496505600,\n",
       "   'apparentTemperatureMin': 46.86,\n",
       "   'apparentTemperatureMinTime': 1496473200,\n",
       "   'cloudCover': 0.51,\n",
       "   'dewPoint': 46.34,\n",
       "   'humidity': 0.75,\n",
       "   'icon': 'partly-cloudy-day',\n",
       "   'moonPhase': 0.32,\n",
       "   'ozone': 392.28,\n",
       "   'precipIntensity': 0.0014,\n",
       "   'precipIntensityMax': 0.0039,\n",
       "   'precipIntensityMaxTime': 1496523600,\n",
       "   'precipProbability': 0.15,\n",
       "   'precipType': 'rain',\n",
       "   'pressure': 1011.13,\n",
       "   'summary': 'Partly cloudy until evening.',\n",
       "   'sunriseTime': 1496480567,\n",
       "   'sunsetTime': 1496535514,\n",
       "   'temperatureMax': 59.9,\n",
       "   'temperatureMaxTime': 1496505600,\n",
       "   'temperatureMin': 47.27,\n",
       "   'temperatureMinTime': 1496480400,\n",
       "   'time': 1496462400,\n",
       "   'visibility': 8.15,\n",
       "   'windBearing': 296,\n",
       "   'windSpeed': 5.41},\n",
       "  {'apparentTemperatureMax': 62.47,\n",
       "   'apparentTemperatureMaxTime': 1496599200,\n",
       "   'apparentTemperatureMin': 45.92,\n",
       "   'apparentTemperatureMinTime': 1496563200,\n",
       "   'cloudCover': 0.53,\n",
       "   'dewPoint': 50.14,\n",
       "   'humidity': 0.81,\n",
       "   'icon': 'partly-cloudy-day',\n",
       "   'moonPhase': 0.35,\n",
       "   'ozone': 377.79,\n",
       "   'precipIntensity': 0.0003,\n",
       "   'precipIntensityMax': 0.001,\n",
       "   'precipIntensityMaxTime': 1496613600,\n",
       "   'precipProbability': 0.01,\n",
       "   'precipType': 'rain',\n",
       "   'pressure': 1012.94,\n",
       "   'summary': 'Mostly cloudy throughout the day.',\n",
       "   'sunriseTime': 1496566942,\n",
       "   'sunsetTime': 1496621959,\n",
       "   'temperatureMax': 62.47,\n",
       "   'temperatureMaxTime': 1496599200,\n",
       "   'temperatureMin': 48.55,\n",
       "   'temperatureMinTime': 1496563200,\n",
       "   'time': 1496548800,\n",
       "   'visibility': 9.96,\n",
       "   'windBearing': 209,\n",
       "   'windSpeed': 4.36},\n",
       "  {'apparentTemperatureMax': 56.17,\n",
       "   'apparentTemperatureMaxTime': 1496635200,\n",
       "   'apparentTemperatureMin': 51.06,\n",
       "   'apparentTemperatureMinTime': 1496718000,\n",
       "   'cloudCover': 0.99,\n",
       "   'dewPoint': 50.64,\n",
       "   'humidity': 0.94,\n",
       "   'icon': 'rain',\n",
       "   'moonPhase': 0.38,\n",
       "   'ozone': 360.38,\n",
       "   'precipIntensity': 0.0072,\n",
       "   'precipIntensityMax': 0.0463,\n",
       "   'precipIntensityMaxTime': 1496718000,\n",
       "   'precipProbability': 0.72,\n",
       "   'precipType': 'rain',\n",
       "   'pressure': 1012.36,\n",
       "   'summary': 'Light rain starting in the evening.',\n",
       "   'sunriseTime': 1496653319,\n",
       "   'sunsetTime': 1496708402,\n",
       "   'temperatureMax': 56.17,\n",
       "   'temperatureMaxTime': 1496635200,\n",
       "   'temperatureMin': 51.06,\n",
       "   'temperatureMinTime': 1496718000,\n",
       "   'time': 1496635200,\n",
       "   'visibility': 6.75,\n",
       "   'windBearing': 80,\n",
       "   'windSpeed': 9.35},\n",
       "  {'apparentTemperatureMax': 54.74,\n",
       "   'apparentTemperatureMaxTime': 1496800800,\n",
       "   'apparentTemperatureMin': 42.13,\n",
       "   'apparentTemperatureMinTime': 1496757600,\n",
       "   'cloudCover': 1,\n",
       "   'dewPoint': 48.13,\n",
       "   'humidity': 0.9,\n",
       "   'icon': 'rain',\n",
       "   'moonPhase': 0.41,\n",
       "   'ozone': 381.42,\n",
       "   'precipIntensity': 0.0218,\n",
       "   'precipIntensityMax': 0.0472,\n",
       "   'precipIntensityMaxTime': 1496721600,\n",
       "   'precipProbability': 0.72,\n",
       "   'precipType': 'rain',\n",
       "   'pressure': 1010.26,\n",
       "   'summary': 'Light rain throughout the day and breezy in the morning.',\n",
       "   'sunriseTime': 1496739698,\n",
       "   'sunsetTime': 1496794843,\n",
       "   'temperatureMax': 54.74,\n",
       "   'temperatureMaxTime': 1496800800,\n",
       "   'temperatureMin': 48.72,\n",
       "   'temperatureMinTime': 1496757600,\n",
       "   'time': 1496721600,\n",
       "   'visibility': 9.97,\n",
       "   'windBearing': 37,\n",
       "   'windSpeed': 16.08},\n",
       "  {'apparentTemperatureMax': 59.09,\n",
       "   'apparentTemperatureMaxTime': 1496862000,\n",
       "   'apparentTemperatureMin': 42.98,\n",
       "   'apparentTemperatureMinTime': 1496833200,\n",
       "   'cloudCover': 0.66,\n",
       "   'dewPoint': 49.79,\n",
       "   'humidity': 0.89,\n",
       "   'icon': 'rain',\n",
       "   'moonPhase': 0.44,\n",
       "   'ozone': 390.98,\n",
       "   'precipIntensity': 0.0086,\n",
       "   'precipIntensityMax': 0.0224,\n",
       "   'precipIntensityMaxTime': 1496808000,\n",
       "   'precipProbability': 0.62,\n",
       "   'precipType': 'rain',\n",
       "   'pressure': 1009.71,\n",
       "   'summary': 'Light rain until afternoon.',\n",
       "   'sunriseTime': 1496826080,\n",
       "   'sunsetTime': 1496881283,\n",
       "   'temperatureMax': 59.09,\n",
       "   'temperatureMaxTime': 1496862000,\n",
       "   'temperatureMin': 48.18,\n",
       "   'temperatureMinTime': 1496833200,\n",
       "   'time': 1496808000,\n",
       "   'windBearing': 40,\n",
       "   'windSpeed': 6.72},\n",
       "  {'apparentTemperatureMax': 68.51,\n",
       "   'apparentTemperatureMaxTime': 1496948400,\n",
       "   'apparentTemperatureMin': 45.15,\n",
       "   'apparentTemperatureMinTime': 1496908800,\n",
       "   'cloudCover': 0,\n",
       "   'dewPoint': 53.85,\n",
       "   'humidity': 0.82,\n",
       "   'icon': 'clear-day',\n",
       "   'moonPhase': 0.47,\n",
       "   'ozone': 355.59,\n",
       "   'precipIntensity': 0.001,\n",
       "   'precipIntensityMax': 0.0017,\n",
       "   'precipIntensityMaxTime': 1496894400,\n",
       "   'precipProbability': 0.04,\n",
       "   'precipType': 'rain',\n",
       "   'pressure': 1012.29,\n",
       "   'summary': 'Clear throughout the day.',\n",
       "   'sunriseTime': 1496912464,\n",
       "   'sunsetTime': 1496967721,\n",
       "   'temperatureMax': 68.51,\n",
       "   'temperatureMaxTime': 1496948400,\n",
       "   'temperatureMin': 47.78,\n",
       "   'temperatureMinTime': 1496908800,\n",
       "   'time': 1496894400,\n",
       "   'windBearing': 209,\n",
       "   'windSpeed': 4.67},\n",
       "  {'apparentTemperatureMax': 69.57,\n",
       "   'apparentTemperatureMaxTime': 1497024000,\n",
       "   'apparentTemperatureMin': 54.86,\n",
       "   'apparentTemperatureMinTime': 1496998800,\n",
       "   'cloudCover': 0.02,\n",
       "   'dewPoint': 56.88,\n",
       "   'humidity': 0.79,\n",
       "   'icon': 'partly-cloudy-night',\n",
       "   'moonPhase': 0.51,\n",
       "   'ozone': 352.85,\n",
       "   'precipIntensity': 0.0015,\n",
       "   'precipIntensityMax': 0.0023,\n",
       "   'precipIntensityMaxTime': 1497031200,\n",
       "   'precipProbability': 0.06,\n",
       "   'precipType': 'rain',\n",
       "   'pressure': 1010.01,\n",
       "   'summary': 'Partly cloudy overnight.',\n",
       "   'sunriseTime': 1496998850,\n",
       "   'sunsetTime': 1497054158,\n",
       "   'temperatureMax': 69.57,\n",
       "   'temperatureMaxTime': 1497024000,\n",
       "   'temperatureMin': 54.86,\n",
       "   'temperatureMinTime': 1496998800,\n",
       "   'time': 1496980800,\n",
       "   'windBearing': 218,\n",
       "   'windSpeed': 6.98},\n",
       "  {'apparentTemperatureMax': 69.51,\n",
       "   'apparentTemperatureMaxTime': 1497128400,\n",
       "   'apparentTemperatureMin': 55.64,\n",
       "   'apparentTemperatureMinTime': 1497085200,\n",
       "   'cloudCover': 0.58,\n",
       "   'dewPoint': 57.38,\n",
       "   'humidity': 0.88,\n",
       "   'icon': 'rain',\n",
       "   'moonPhase': 0.54,\n",
       "   'ozone': 364.4,\n",
       "   'precipIntensity': 0.0251,\n",
       "   'precipIntensityMax': 0.0563,\n",
       "   'precipIntensityMaxTime': 1497128400,\n",
       "   'precipProbability': 0.74,\n",
       "   'precipType': 'rain',\n",
       "   'pressure': 1005.71,\n",
       "   'summary': 'Rain throughout the day.',\n",
       "   'sunriseTime': 1497085238,\n",
       "   'sunsetTime': 1497140592,\n",
       "   'temperatureMax': 69.51,\n",
       "   'temperatureMaxTime': 1497128400,\n",
       "   'temperatureMin': 55.64,\n",
       "   'temperatureMinTime': 1497085200,\n",
       "   'time': 1497067200,\n",
       "   'windBearing': 231,\n",
       "   'windSpeed': 7.93}],\n",
       " 'icon': 'rain',\n",
       " 'summary': 'Light rain on Monday through Saturday, with temperatures bottoming out at 55°F on Tuesday.'}"
      ]
     },
     "execution_count": 161,
     "metadata": {},
     "output_type": "execute_result"
    }
   ],
   "source": [
    "daily_forecast = (original['daily'])\n",
    "daily_forecast\n",
    "#the daily forecast is in the original dictionary in the dictionary daily"
   ]
  },
  {
   "cell_type": "code",
   "execution_count": 167,
   "metadata": {},
   "outputs": [
    {
     "data": {
      "text/plain": [
       "dict"
      ]
     },
     "execution_count": 167,
     "metadata": {},
     "output_type": "execute_result"
    }
   ],
   "source": [
    "type(daily)\n",
    "#just double check all of this"
   ]
  },
  {
   "cell_type": "code",
   "execution_count": 168,
   "metadata": {},
   "outputs": [
    {
     "data": {
      "text/plain": [
       "dict"
      ]
     },
     "execution_count": 168,
     "metadata": {},
     "output_type": "execute_result"
    }
   ],
   "source": [
    "type(daily_forecast)"
   ]
  },
  {
   "cell_type": "code",
   "execution_count": 169,
   "metadata": {},
   "outputs": [
    {
     "data": {
      "text/plain": [
       "list"
      ]
     },
     "execution_count": 169,
     "metadata": {},
     "output_type": "execute_result"
    }
   ],
   "source": [
    "daily_data = (daily_forecast['data'])\n",
    "type(daily_data)\n",
    "#within the daily forecast there's a list called 'data'. let's save it as a new variable"
   ]
  },
  {
   "cell_type": "code",
   "execution_count": 164,
   "metadata": {},
   "outputs": [
    {
     "data": {
      "text/plain": [
       "0.32"
      ]
     },
     "execution_count": 164,
     "metadata": {},
     "output_type": "execute_result"
    }
   ],
   "source": [
    "daily_data[0]['moonPhase']\n",
    "#let's find the moonphase for the first element in the list 'daily_data\n",
    "#there are 8 items in the list. i'm pretty sure that's because the list contains a forecast for each day \n",
    "#for the next week."
   ]
  },
  {
   "cell_type": "markdown",
   "metadata": {},
   "source": [
    "## 4) What's the difference between the high and low temperatures for today?"
   ]
  },
  {
   "cell_type": "code",
   "execution_count": 174,
   "metadata": {},
   "outputs": [
    {
     "name": "stdout",
     "output_type": "stream",
     "text": [
      "The difference between today's high and low temperatures is 12.729999999999997 degrees Fahrenheit.\n"
     ]
    }
   ],
   "source": [
    "print(\"The difference between today's high and low temperatures is\",\n",
    "      round(daily_data[0]['temperatureMax'])-(daily_data[0]['temperatureMin']), \"degrees Fahrenheit.\""
   ]
  },
  {
   "cell_type": "code",
   "execution_count": 176,
   "metadata": {},
   "outputs": [
    {
     "data": {
      "text/plain": [
       "{'apparentTemperatureMax': 59.9,\n",
       " 'apparentTemperatureMaxTime': 1496505600,\n",
       " 'apparentTemperatureMin': 46.86,\n",
       " 'apparentTemperatureMinTime': 1496473200,\n",
       " 'cloudCover': 0.51,\n",
       " 'dewPoint': 46.34,\n",
       " 'humidity': 0.75,\n",
       " 'icon': 'partly-cloudy-day',\n",
       " 'moonPhase': 0.32,\n",
       " 'ozone': 392.28,\n",
       " 'precipIntensity': 0.0014,\n",
       " 'precipIntensityMax': 0.0039,\n",
       " 'precipIntensityMaxTime': 1496523600,\n",
       " 'precipProbability': 0.15,\n",
       " 'precipType': 'rain',\n",
       " 'pressure': 1011.13,\n",
       " 'summary': 'Partly cloudy until evening.',\n",
       " 'sunriseTime': 1496480567,\n",
       " 'sunsetTime': 1496535514,\n",
       " 'temperatureMax': 59.9,\n",
       " 'temperatureMaxTime': 1496505600,\n",
       " 'temperatureMin': 47.27,\n",
       " 'temperatureMinTime': 1496480400,\n",
       " 'time': 1496462400,\n",
       " 'visibility': 8.15,\n",
       " 'windBearing': 296,\n",
       " 'windSpeed': 5.41}"
      ]
     },
     "execution_count": 176,
     "metadata": {},
     "output_type": "execute_result"
    }
   ],
   "source": [
    "len(daily_data)\n",
    "#why are there multiple entries for the list daily_date?\n",
    "daily_data[0]"
   ]
  },
  {
   "cell_type": "markdown",
   "metadata": {},
   "source": [
    "## 5) Go through the daily forecasts, printing out the next week's worth of predictions.\n",
    "\n",
    "I'd like to know the **high temperature** for each day, and whether it's **hot, warm, or cold** (based on what temperatures you think are hot, warm or cold).\n",
    "\n",
    "- *Tip: Is it returning F or C? You can change them by adding `?units=us` or `?units=si` onto the end of the URL.*\n",
    "- *Tip: You'll need to use an `if` statement to say whether it is hot, warm or cold.*"
   ]
  },
  {
   "cell_type": "code",
   "execution_count": 200,
   "metadata": {},
   "outputs": [
    {
     "name": "stdout",
     "output_type": "stream",
     "text": [
      "The maximum daily temperature is 59.9 degrees Fahrenheit\n",
      "------\n",
      "The maximum daily temperature is 62.47 degrees Fahrenheit\n",
      "------\n",
      "The maximum daily temperature is 56.17 degrees Fahrenheit\n",
      "------\n",
      "The maximum daily temperature is 54.74 degrees Fahrenheit\n",
      "------\n",
      "The maximum daily temperature is 59.09 degrees Fahrenheit\n",
      "------\n",
      "The maximum daily temperature is 68.51 degrees Fahrenheit\n",
      "------\n",
      "The maximum daily temperature is 69.57 degrees Fahrenheit\n",
      "------\n",
      "The maximum daily temperature is 69.51 degrees Fahrenheit\n",
      "------\n"
     ]
    }
   ],
   "source": [
    "for each_element in daily_data:\n",
    "    print(\"The maximum daily temperature is\", each_element['temperatureMax'], \"degrees Fahrenheit\")\n",
    "    print(\"------\")"
   ]
  },
  {
   "cell_type": "code",
   "execution_count": 202,
   "metadata": {},
   "outputs": [
    {
     "name": "stdout",
     "output_type": "stream",
     "text": [
      "It's going to be warm out\n",
      "It's going to be warm out\n",
      "It's going to be warm out\n",
      "It's going to be warm out\n",
      "It's going to be warm out\n",
      "It's going to be warm out\n",
      "It's going to be warm out\n",
      "It's going to be warm out\n"
     ]
    }
   ],
   "source": [
    "for each_element in daily_data:\n",
    "    if each_element['temperatureMax'] > 75:\n",
    "        print(\"It's going to be hot out\")\n",
    "    elif 50 < each_element['temperatureMax'] < 75:\n",
    "        print(\"It's going to be warm out\")\n",
    "    elif each_element['temperatureMax'] < 50:\n",
    "        print(\"It's going to be chilly out\")"
   ]
  },
  {
   "cell_type": "markdown",
   "metadata": {},
   "source": [
    "# 6) What will be the hottest day in the next week? What is the high temperature on that day?\n",
    "\n",
    "It's okay if your result looks like `1453363200`. If you want to be extra-fancy, though, format it as a **real date** - the weird number is called a **UNIX timestamp**, which might help in googling.\n",
    "\n",
    "- *Tip: It's okay to skip this if it seems too difficult!*"
   ]
  },
  {
   "cell_type": "code",
   "execution_count": null,
   "metadata": {
    "collapsed": true
   },
   "outputs": [],
   "source": []
  },
  {
   "cell_type": "code",
   "execution_count": null,
   "metadata": {
    "collapsed": true
   },
   "outputs": [],
   "source": []
  },
  {
   "cell_type": "code",
   "execution_count": null,
   "metadata": {
    "collapsed": true
   },
   "outputs": [],
   "source": []
  },
  {
   "cell_type": "markdown",
   "metadata": {},
   "source": [
    "## 7) What's the weather looking like for the next 24+ hours in Miami, Florida?\n",
    "\n",
    "I'd like to know the temperature for every hour, and if it's going to have cloud cover of more than 50% say \"{temperature} and cloudy\" instead of just the temperature. \n",
    "\n",
    "\n",
    "- *Tip: Be sure to remember how latitude and longitude are done with positive and negative numbers*\n",
    "- *Tip: How do you represent \"50%\" for cloud cover?*"
   ]
  },
  {
   "cell_type": "code",
   "execution_count": 203,
   "metadata": {
    "collapsed": true
   },
   "outputs": [],
   "source": [
    "miami = \"https://api.darksky.net/forecast/13d3600a5cd0883a0f7c94181a175dd3/25.7617,-80.1918\""
   ]
  },
  {
   "cell_type": "code",
   "execution_count": 204,
   "metadata": {
    "collapsed": true
   },
   "outputs": [],
   "source": [
    "response = requests.get(miami)\n",
    "miami_weather = response.json()"
   ]
  },
  {
   "cell_type": "code",
   "execution_count": 209,
   "metadata": {},
   "outputs": [
    {
     "data": {
      "text/plain": [
       "dict_keys(['latitude', 'longitude', 'timezone', 'offset', 'currently', 'minutely', 'hourly', 'daily', 'flags'])"
      ]
     },
     "execution_count": 209,
     "metadata": {},
     "output_type": "execute_result"
    }
   ],
   "source": [
    "miami_weather.keys()\n",
    "#look at the keys for good measure"
   ]
  },
  {
   "cell_type": "code",
   "execution_count": 210,
   "metadata": {},
   "outputs": [
    {
     "data": {
      "text/plain": [
       "'America/New_York'"
      ]
     },
     "execution_count": 210,
     "metadata": {},
     "output_type": "execute_result"
    }
   ],
   "source": [
    "miami_weather['timezone']\n",
    "#check to make sure it's the right timezone"
   ]
  },
  {
   "cell_type": "code",
   "execution_count": 213,
   "metadata": {},
   "outputs": [
    {
     "data": {
      "text/plain": [
       "dict"
      ]
     },
     "execution_count": 213,
     "metadata": {},
     "output_type": "execute_result"
    }
   ],
   "source": [
    "miami_weather['hourly']\n",
    "hourly_miami = miami_weather['hourly']\n",
    "type(hourly_miami)"
   ]
  },
  {
   "cell_type": "code",
   "execution_count": 217,
   "metadata": {},
   "outputs": [
    {
     "data": {
      "text/plain": [
       "list"
      ]
     },
     "execution_count": 217,
     "metadata": {},
     "output_type": "execute_result"
    }
   ],
   "source": [
    "hourly_data = (hourly_miami['data'])\n",
    "type(hourly_data)\n",
    "#the original is miami weather. it's a dictionary. within miami weather is another dictionary, hourly.\n",
    "#within hourly_miami is a list, 'data' that we are now calling hourly_data\n",
    "#within hourly_data is a dictionary with the information that we want, temperature"
   ]
  },
  {
   "cell_type": "code",
   "execution_count": 220,
   "metadata": {},
   "outputs": [
    {
     "data": {
      "text/plain": [
       "79.7"
      ]
     },
     "execution_count": 220,
     "metadata": {},
     "output_type": "execute_result"
    }
   ],
   "source": [
    "hourly_data[0][\"temperature\"]"
   ]
  },
  {
   "cell_type": "code",
   "execution_count": 246,
   "metadata": {},
   "outputs": [
    {
     "name": "stdout",
     "output_type": "stream",
     "text": [
      "The temperature will be 79.7 degrees Fahrenheit.\n",
      "-----\n",
      "It's going to be 79.7 and cloudy.\n",
      "The temperature will be 79.38 degrees Fahrenheit.\n",
      "-----\n",
      "It's going to be 79.38 and cloudy.\n",
      "The temperature will be 80.17 degrees Fahrenheit.\n",
      "-----\n",
      "It's going to be 80.17 and cloudy.\n",
      "The temperature will be 80.33 degrees Fahrenheit.\n",
      "-----\n",
      "It's going to be 80.33 and cloudy.\n",
      "The temperature will be 80.32 degrees Fahrenheit.\n",
      "-----\n",
      "It's going to be 80.32 and cloudy.\n",
      "The temperature will be 80.21 degrees Fahrenheit.\n",
      "-----\n",
      "It's going to be 80.21 and cloudy.\n",
      "The temperature will be 80.98 degrees Fahrenheit.\n",
      "-----\n",
      "It's going to be 80.98 and cloudy.\n",
      "The temperature will be 80.43 degrees Fahrenheit.\n",
      "-----\n",
      "It's going to be 80.43 and cloudy.\n",
      "The temperature will be 79.9 degrees Fahrenheit.\n",
      "-----\n",
      "It's going to be 79.9 and cloudy.\n",
      "The temperature will be 79.2 degrees Fahrenheit.\n",
      "-----\n",
      "It's going to be 79.2 and cloudy.\n",
      "The temperature will be 78.51 degrees Fahrenheit.\n",
      "-----\n",
      "It's going to be 78.51 and cloudy.\n",
      "The temperature will be 77.96 degrees Fahrenheit.\n",
      "-----\n",
      "It's going to be 77.96 and cloudy.\n",
      "The temperature will be 77.46 degrees Fahrenheit.\n",
      "-----\n",
      "It's going to be 77.46 and cloudy.\n",
      "The temperature will be 76.73 degrees Fahrenheit.\n",
      "-----\n",
      "It's going to be 76.73 and cloudy.\n",
      "The temperature will be 76.08 degrees Fahrenheit.\n",
      "-----\n",
      "It's going to be 76.08 and cloudy.\n",
      "The temperature will be 75.49 degrees Fahrenheit.\n",
      "-----\n",
      "It's going to be 75.49 and cloudy.\n",
      "The temperature will be 76.12 degrees Fahrenheit.\n",
      "-----\n",
      "It's going to be 76.12 and cloudy.\n",
      "The temperature will be 76.92 degrees Fahrenheit.\n",
      "-----\n",
      "It's going to be 76.92 and cloudy.\n",
      "The temperature will be 77.83 degrees Fahrenheit.\n",
      "-----\n",
      "It's going to be 77.83 and cloudy.\n",
      "The temperature will be 78.99 degrees Fahrenheit.\n",
      "-----\n",
      "It's going to be 78.99 and cloudy.\n",
      "The temperature will be 80.15 degrees Fahrenheit.\n",
      "-----\n",
      "It's going to be 80.15 and cloudy.\n",
      "The temperature will be 81.04 degrees Fahrenheit.\n",
      "-----\n",
      "It's going to be 81.04 and cloudy.\n",
      "The temperature will be 82.4 degrees Fahrenheit.\n",
      "-----\n",
      "It's going to be 82.4 and cloudy.\n",
      "The temperature will be 83.64 degrees Fahrenheit.\n",
      "-----\n",
      "It's going to be 83.64 and cloudy.\n",
      "The temperature will be 85.13 degrees Fahrenheit.\n",
      "-----\n",
      "It's going to be 85.13 and cloudy.\n",
      "The temperature will be 87.01 degrees Fahrenheit.\n",
      "-----\n",
      "It's going to be 87.01 and cloudy.\n",
      "The temperature will be 87.81 degrees Fahrenheit.\n",
      "-----\n",
      "It's going to be 87.81 and cloudy.\n",
      "The temperature will be 86.96 degrees Fahrenheit.\n",
      "-----\n",
      "It's going to be 86.96 and cloudy.\n",
      "The temperature will be 85.82 degrees Fahrenheit.\n",
      "-----\n",
      "It's going to be 85.82 and cloudy.\n",
      "The temperature will be 85.2 degrees Fahrenheit.\n",
      "-----\n",
      "It's going to be 85.2 and cloudy.\n",
      "The temperature will be 84.05 degrees Fahrenheit.\n",
      "-----\n",
      "It's going to be 84.05 and cloudy.\n",
      "The temperature will be 83.06 degrees Fahrenheit.\n",
      "-----\n",
      "It's going to be 83.06 and cloudy.\n",
      "The temperature will be 82.52 degrees Fahrenheit.\n",
      "-----\n",
      "It's going to be 82.52 and cloudy.\n",
      "The temperature will be 82.06 degrees Fahrenheit.\n",
      "-----\n",
      "It's going to be 82.06 and cloudy.\n",
      "The temperature will be 81.61 degrees Fahrenheit.\n",
      "-----\n",
      "It's going to be 81.61 and cloudy.\n",
      "The temperature will be 81.13 degrees Fahrenheit.\n",
      "-----\n",
      "It's going to be 81.13 and cloudy.\n",
      "The temperature will be 80.58 degrees Fahrenheit.\n",
      "-----\n",
      "It's going to be 80.58 and cloudy.\n",
      "The temperature will be 80.01 degrees Fahrenheit.\n",
      "-----\n",
      "It's going to be 80.01 and cloudy.\n",
      "The temperature will be 79.43 degrees Fahrenheit.\n",
      "-----\n",
      "It's going to be 79.43 and cloudy.\n",
      "The temperature will be 78.84 degrees Fahrenheit.\n",
      "-----\n",
      "It's going to be 78.84 and cloudy.\n",
      "The temperature will be 78.37 degrees Fahrenheit.\n",
      "-----\n",
      "It's going to be 78.37 and cloudy.\n",
      "The temperature will be 79.26 degrees Fahrenheit.\n",
      "-----\n",
      "It's going to be 79.26 and cloudy.\n",
      "The temperature will be 80.59 degrees Fahrenheit.\n",
      "-----\n",
      "It's going to be 80.59 and cloudy.\n",
      "The temperature will be 82.05 degrees Fahrenheit.\n",
      "-----\n",
      "It's going to be 82.05 and cloudy.\n",
      "The temperature will be 83.69 degrees Fahrenheit.\n",
      "-----\n",
      "It's going to be 83.69 and cloudy.\n",
      "The temperature will be 85.5 degrees Fahrenheit.\n",
      "-----\n",
      "It's going to be 85.5 and cloudy.\n",
      "The temperature will be 87.27 degrees Fahrenheit.\n",
      "-----\n",
      "It's going to be 87.27 and cloudy.\n",
      "The temperature will be 89.11 degrees Fahrenheit.\n",
      "-----\n",
      "It's going to be 89.11 and cloudy.\n",
      "The temperature will be 90.98 degrees Fahrenheit.\n",
      "-----\n"
     ]
    }
   ],
   "source": [
    "for each_element in hourly_data:\n",
    "    print(\"The temperature will be\", each_element['temperature'], \"degrees Fahrenheit.\")\n",
    "    print(\"-----\")\n",
    "    if each_element['cloudCover'] > 0.5:\n",
    "        print(\"It's going to be\", each_element['temperature'], \"and cloudy.\")\n",
    "\n",
    "# print(\"The cloud cover will be\",(each_element['cloudCover'])*100, \"percent.\")\n",
    "#     print(\"-----\")"
   ]
  },
  {
   "cell_type": "markdown",
   "metadata": {},
   "source": [
    "# 8) For the next 24-ish hours in Miami, what percent of the time is the temperature above 85 degrees?\n",
    "\n",
    "If they give you 48 hours instead of 24, that's okay.\n",
    "\n",
    "- *Tip: You might want to read up on [looping patterns](http://jonathansoma.com/lede/foundations-2017/classes/data%20structures/looping-patterns/)*"
   ]
  },
  {
   "cell_type": "code",
   "execution_count": 252,
   "metadata": {},
   "outputs": [],
   "source": [
    "temperature_above_85 = 0\n",
    "for each_element in hourly_data:\n",
    "    if each_element['temperature'] > 85:\n",
    "        temperature_above_85 = temperature_above_85 + 1"
   ]
  },
  {
   "cell_type": "code",
   "execution_count": 262,
   "metadata": {},
   "outputs": [
    {
     "name": "stdout",
     "output_type": "stream",
     "text": [
      "The temperature was above 85 degrees F 42 percent of the time.\n"
     ]
    }
   ],
   "source": [
    "print(\"The temperature was above 85 degrees F\",round((temperature_above_85/24)*100), \"percent of the time.\")"
   ]
  },
  {
   "cell_type": "markdown",
   "metadata": {},
   "source": [
    "## 9) What was the temperature in Central Park on Christmas Day, 2012? How about 2007? 2005? How far back does the API allow you to go?\n",
    "\n",
    "- *Tip: You'll need to use UNIX time, which is the number of seconds since January 1, 1970. Google can help you convert a normal date!*\n",
    "- *Tip: You'll want to use Forecast.io's \"time machine\" API, [documentation here](https://darksky.net/dev/docs/time-machine)*"
   ]
  },
  {
   "cell_type": "code",
   "execution_count": 295,
   "metadata": {},
   "outputs": [],
   "source": [
    "url = \"https://api.darksky.net/forecast/13d3600a5cd0883a0f7c94181a175dd3/40.7829,-73.9654,-757987200\"\n",
    "\n",
    "#changing the timestamp at the end of the url allows us  to go pretty far back in time...not sure when it breaks\n",
    "#but it doesn't have data from 1876"
   ]
  },
  {
   "cell_type": "code",
   "execution_count": 296,
   "metadata": {},
   "outputs": [
    {
     "data": {
      "text/plain": [
       "'America/New_York'"
      ]
     },
     "execution_count": 296,
     "metadata": {},
     "output_type": "execute_result"
    }
   ],
   "source": [
    "response = requests.get(url)\n",
    "christmas = response.json()\n",
    "christmas['timezone']"
   ]
  },
  {
   "cell_type": "code",
   "execution_count": 297,
   "metadata": {},
   "outputs": [
    {
     "name": "stdout",
     "output_type": "stream",
     "text": [
      "On Christmas day in 1945 it was 20.29 degrees F in Central Park.\n"
     ]
    }
   ],
   "source": [
    "print(\"On Christmas day in 1945 it was\", christmas['currently']['temperature'], \"degrees F in Central Park.\")"
   ]
  }
 ],
 "metadata": {
  "kernelspec": {
   "display_name": "Python 3",
   "language": "python",
   "name": "python3"
  },
  "language_info": {
   "codemirror_mode": {
    "name": "ipython",
    "version": 3
   },
   "file_extension": ".py",
   "mimetype": "text/x-python",
   "name": "python",
   "nbconvert_exporter": "python",
   "pygments_lexer": "ipython3",
   "version": "3.6.1"
  }
 },
 "nbformat": 4,
 "nbformat_minor": 1
}
