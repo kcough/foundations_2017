{
 "cells": [
  {
   "cell_type": "markdown",
   "metadata": {},
   "source": [
    "# Texas Tow Trucks (`.apply` and Selenium)\n",
    "\n",
    "We're going to scrape some [tow trucks in Texas](https://www.tdlr.texas.gov/tools_search/).\n",
    "\n",
    "Try searching for the TLDR Number `006179570C`."
   ]
  },
  {
   "cell_type": "markdown",
   "metadata": {},
   "source": [
    "## Preparation"
   ]
  },
  {
   "cell_type": "markdown",
   "metadata": {},
   "source": [
    "### What URL will Selenium be starting on?\n",
    "\n",
    "- Tip: The answer is *not* `https://www.tdlr.texas.gov/tools_search/`"
   ]
  },
  {
   "cell_type": "markdown",
   "metadata": {
    "collapsed": true
   },
   "source": [
    "https://www.tdlr.texas.gov/tools_search/mccs_search.asp\n",
    "\n",
    "https://www.tdlr.texas.gov/tools_search/mccs_display.asp?mcrnumber=006179570C\n",
    "The TDLR Number shows up in URL! So we could also use https://www.tdlr.texas.gov/tools_search/mccs_display.asp?mcrnumber="
   ]
  },
  {
   "cell_type": "markdown",
   "metadata": {},
   "source": [
    "### Why are you using Selenium for this?"
   ]
  },
  {
   "cell_type": "markdown",
   "metadata": {
    "collapsed": true
   },
   "source": [
    "(We don't have to really, because the number shows up in the URL)\n",
    "But with Selenium we can click through a page and make multiple requests rather than having to physically do it each time"
   ]
  },
  {
   "cell_type": "markdown",
   "metadata": {},
   "source": [
    "## Scrape this page\n",
    "\n",
    "Scrape this page, displaying the\n",
    "\n",
    "- The business name\n",
    "- Phone number\n",
    "- License status\n",
    "- Physical address\n",
    "\n",
    "**You should know how to do `.post` requests by now.**\n",
    "\n",
    "- *TIP: For physical address, **ask me on the board** and I'll give you a secret trick about situations like this.*"
   ]
  },
  {
   "cell_type": "code",
   "execution_count": null,
   "metadata": {
    "collapsed": true
   },
   "outputs": [],
   "source": [
    "#first import all the things we might need for this.\n",
    "from selenium import webdriver\n",
    "from selenium.webdriver.common.keys import Keys\n",
    "#selenium is a package\n",
    "driver = webdriver.Chrome()\n",
    "#webdriver is a module within selenium\n",
    "driver.get('https://www.tdlr.texas.gov/tools_search/mccs_search.asp')\n",
    "from bs4 import BeautifulSoup\n",
    "from urllib.request import urlopen\n",
    "import requests"
   ]
  },
  {
   "cell_type": "code",
   "execution_count": null,
   "metadata": {
    "collapsed": true
   },
   "outputs": [],
   "source": [
    "my_url = \"https://www.tdlr.texas.gov/tools_search/mccs_search.asp\"\n",
    "raw_html = urlopen(my_url).read()\n",
    "soup_doc = BeautifulSoup(raw_html, \"html.parser\")"
   ]
  },
  {
   "cell_type": "code",
   "execution_count": null,
   "metadata": {},
   "outputs": [],
   "source": [
    "response = requests.post('https://www.tdlr.texas.gov/tools_search/mccs_search.asp')\n",
    "response.text\n",
    "\n",
    "#requests.post is different than requests.get becuase .post allows you to interact with the site rather than \n",
    "# just pull a URL\n",
    "\n",
    "\n",
    "# We don't need this, but here it is:\n",
    "\n",
    "# data = {\n",
    "# 'namedata':'',\n",
    "# 'name_carrier_type' : 'COMPANY',\n",
    "# 'searchtype' : 'mcr',\n",
    "# 'mcrdata' : '006179570C',\n",
    "# 'citydata':'',\n",
    "# 'city_status':'A',\n",
    "# 'city_carrier_type':'tow',\n",
    "# 'zipcodedata':'',\n",
    "# 'zip_status':'ALL',\n",
    "# 'zip_carrier_type':'all',\n",
    "# 'proc':''\n",
    "# }\n",
    "\n",
    "# Headers = {\n",
    "#     \"Referer\" : \"https://www.tdlr.texas.gov/tools_search/mccs_search.asp?message=mcrerr\",\n",
    "#     'User-Agent' : 'Mozilla/5.0 (Macintosh; Intel Mac OS X 10_12_5) AppleWebKit/537.36 (KHTML, like Gecko) Chrome/58.0.3029.110 Safari/537.36'\n",
    "# }\n"
   ]
  },
  {
   "cell_type": "code",
   "execution_count": null,
   "metadata": {
    "collapsed": true
   },
   "outputs": [],
   "source": [
    "TDLR_input = driver.find_element_by_xpath('//*[@id=\"mcrdata\"]')\n",
    "\n",
    "#here's where we are making a variable so we can select the TDLR field where we \n",
    "#input the number we're searching for, then hit enter (send_keys)\n",
    "\n",
    "TDLR_input.send_keys('006179570C')\n",
    "search_button = driver.find_element_by_xpath('//*[@id=\"submit3\"]/b')\n",
    "search_button.click()\n",
    "\n"
   ]
  },
  {
   "cell_type": "code",
   "execution_count": null,
   "metadata": {},
   "outputs": [],
   "source": [
    "name = driver.find_element_by_xpath('//*[@id=\"t1\"]/tbody/tr/td/font/table[2]/tbody/tr[2]/td[1]')\n",
    "name.text"
   ]
  },
  {
   "cell_type": "code",
   "execution_count": null,
   "metadata": {},
   "outputs": [],
   "source": [
    "phone = driver.find_element_by_xpath('//*[@id=\"t1\"]/tbody/tr/td/font/table[2]/tbody/tr[4]/td[1]')\n",
    "phone.text"
   ]
  },
  {
   "cell_type": "code",
   "execution_count": null,
   "metadata": {},
   "outputs": [],
   "source": [
    "license_status = driver.find_element_by_xpath('//*[@id=\"t1\"]/tbody/tr/td/font/table[3]/tbody/tr[2]/td[1]/font/font')\n",
    "license_status.text"
   ]
  },
  {
   "cell_type": "code",
   "execution_count": null,
   "metadata": {},
   "outputs": [],
   "source": [
    "physical_address = driver.find_element_by_xpath('//*[@id=\"t1\"]/tbody/tr/td/font/table[3]/tbody/tr[2]/td[2]')\n",
    "physical_address.text\n",
    "\n",
    "#How do we get down to the physical address??? Should we use beautifulsoup? the only parameters are that it's the 9th \n",
    "#line break.\n"
   ]
  },
  {
   "cell_type": "markdown",
   "metadata": {},
   "source": [
    "# Using .apply to find data about SEVERAL tow truck companies\n",
    "\n",
    "The file `trucks-subset.csv` has information about the trucks, we'll use it to find the pages to scrape.\n",
    "\n",
    "### Open up `trucks-subset.csv` and save it into a dataframe"
   ]
  },
  {
   "cell_type": "code",
   "execution_count": null,
   "metadata": {},
   "outputs": [],
   "source": [
    "import pandas as pd\n",
    "df = pd.read_csv('trucks-subset.csv', dtype = {'TDLR':'str'})\n",
    "df.head()\n",
    "df.dtypes"
   ]
  },
  {
   "cell_type": "markdown",
   "metadata": {},
   "source": [
    "### Open up `trucks-subset.csv` in a text editor, then look at your dataframe. Is something different about them? If so, make them match.\n",
    "\n",
    "- *TIP: I can help with this.*"
   ]
  },
  {
   "cell_type": "code",
   "execution_count": null,
   "metadata": {},
   "outputs": [],
   "source": [
    "df.head()"
   ]
  },
  {
   "cell_type": "markdown",
   "metadata": {},
   "source": [
    "## Use `.apply` to go through each row of the dataset, printing out information about each tow truck company.\n",
    "\n",
    "- The business name\n",
    "- Phone number\n",
    "- License status\n",
    "- Physical address\n",
    "\n",
    "Just print it out for now.\n",
    "\n",
    "- *TIP: use .apply and a function*\n",
    "- *TIP: If you need help with .apply, look at the \"Using apply in pandas\" notebook *"
   ]
  },
  {
   "cell_type": "code",
   "execution_count": null,
   "metadata": {
    "collapsed": true
   },
   "outputs": [],
   "source": [
    "def looking_at_something(row):\n",
    "\n",
    "    driver.get('https://www.tdlr.texas.gov/tools_search/mccs_search.asp')\n",
    "    \n",
    "    TDLR_input = driver.find_element_by_xpath('//*[@id=\"mcrdata\"]')\n",
    "    TDLR_input.send_keys(row['TDLR Number'])\n",
    "    search_button = driver.find_element_by_xpath('//*[@id=\"submit3\"]/b')\n",
    "    search_button.click()\n",
    "    \n",
    "    name = driver.find_element_by_xpath('//*[@id=\"t1\"]/tbody/tr/td/font/table[2]/tbody/tr[2]/td[1]')\n",
    "    print(name.text)\n",
    "    phone = driver.find_element_by_xpath('//*[@id=\"t1\"]/tbody/tr/td/font/table[2]/tbody/tr[4]/td[1]')\n",
    "    print(phone.text)\n",
    "    license_status = driver.find_element_by_xpath('//*[@id=\"t1\"]/tbody/tr/td/font/table[3]/tbody/tr[2]/td[1]/font/font')\n",
    "    print(license_status.text)\n",
    "    physical_address = driver.find_element_by_xpath('//*[@id=\"t1\"]/tbody/tr/td/font/table[3]/tbody/tr[2]/td[2]')\n",
    "    print(physical_address.text)\n",
    "    \n",
    "   "
   ]
  },
  {
   "cell_type": "markdown",
   "metadata": {},
   "source": [
    "## Scrape the following information for each row of the dataset, and save it into new columns in your dataframe.\n",
    "\n",
    "- The business name\n",
    "- Phone number\n",
    "- License status\n",
    "- Physical address\n",
    "\n",
    "It's basically what we did before, but using the function a little differently.\n",
    "\n",
    "- *TIP: Use .apply and a function*\n",
    "- *TIP: Remember to use `return`*"
   ]
  },
  {
   "cell_type": "code",
   "execution_count": null,
   "metadata": {},
   "outputs": [],
   "source": [
    "def scrape_trucks_info(row):\n",
    "\n",
    "    driver.get('https://www.tdlr.texas.gov/tools_search/mccs_search.asp')\n",
    "    \n",
    "    #NOTE: don't do the webdriver piece here, because otherwise you'll open a bajillion webdrivers\n",
    "    #think of the actions you take when you go to the web page. do that same thing.\n",
    "    \n",
    "    TDLR_input = driver.find_element_by_xpath('//*[@id=\"mcrdata\"]')\n",
    "    TDLR_input.send_keys(row['TDLR Number'])\n",
    "    search_button = driver.find_element_by_xpath('//*[@id=\"submit3\"]/b')\n",
    "    search_button.click()\n",
    "    \n",
    "    name = driver.find_element_by_xpath('//*[@id=\"t1\"]/tbody/tr/td/font/table[2]/tbody/tr[2]/td[1]').text\n",
    "    phone = driver.find_element_by_xpath('//*[@id=\"t1\"]/tbody/tr/td/font/table[2]/tbody/tr[4]/td[1]').text\n",
    "    license_status = driver.find_element_by_xpath('//*[@id=\"t1\"]/tbody/tr/td/font/table[3]/tbody/tr[2]/td[1]/font/font').text\n",
    "    physical_address = driver.find_element_by_xpath('//*[@id=\"t1\"]/tbody/tr/td/font/table[3]/tbody/tr[2]/td[2]').text\n",
    "    \n",
    "    return pd.Series({\n",
    "        'name': name,\n",
    "        'phone': phone,\n",
    "        'license status':license_status,\n",
    "        'physical address': physical_address\n",
    "    })\n",
    "\n",
    "driver = webdriver.Chrome ()\n",
    "\n",
    "trucks_sub_df = df.apply(scrape_trucks_info, axis=1).join(df)\n",
    "\n",
    "driver.close()\n",
    "#applying the function 'scrape_trucks_info to the df (remmeber that's the csv file we downloaded!)\n",
    "#also joining those two things!\n",
    "#note: could also use .strip() in the return instead of .text"
   ]
  },
  {
   "cell_type": "markdown",
   "metadata": {},
   "source": [
    "### Save your dataframe as a CSV"
   ]
  },
  {
   "cell_type": "code",
   "execution_count": null,
   "metadata": {
    "collapsed": true
   },
   "outputs": [],
   "source": [
    "trucks_sub_df.head()\n",
    "trucks_sub_df.to_csv('texas_trucks.csv', index=False)\n"
   ]
  },
  {
   "cell_type": "markdown",
   "metadata": {},
   "source": [
    "### Re-open your dataframe to confirm you didn't save any extra weird columns"
   ]
  },
  {
   "cell_type": "code",
   "execution_count": null,
   "metadata": {},
   "outputs": [],
   "source": [
    "trucks_sub_df = pd.read_csv('texas_trucks.csv')\n",
    "trucks_sub_df.head()"
   ]
  },
  {
   "cell_type": "markdown",
   "metadata": {},
   "source": [
    "## Repeat this process for the entire `tow-trucks.csv` file"
   ]
  },
  {
   "cell_type": "code",
   "execution_count": null,
   "metadata": {},
   "outputs": [],
   "source": [
    "tow_trucks_all_df = pd.read_csv('tow-trucks.csv', dtype = {'TDLR':'str'})\n",
    "tow_trucks_all_df.dtypes"
   ]
  },
  {
   "cell_type": "code",
   "execution_count": null,
   "metadata": {},
   "outputs": [],
   "source": [
    "len(tow_trucks_all_df)"
   ]
  },
  {
   "cell_type": "code",
   "execution_count": null,
   "metadata": {},
   "outputs": [],
   "source": [
    "tow_trucks_all_df.head()\n",
    "tow_trucks_all_df.tail()\n"
   ]
  },
  {
   "cell_type": "code",
   "execution_count": null,
   "metadata": {},
   "outputs": [],
   "source": [
    "tow_trucks_all_df = pd.read_csv('tow-trucks.csv', dtype = {'TDLR':'str'})\n",
    "tow_trucks_all_df.head()\n",
    "\n",
    "def scrape_trucks_all(row):\n",
    "\n",
    "    driver.get('https://www.tdlr.texas.gov/tools_search/mccs_search.asp')\n",
    "    \n",
    "    #think of all the actions you take when you go to the web page. do that same thing, just via selenium\n",
    "    \n",
    "    TDLR_input = driver.find_element_by_xpath('//*[@id=\"mcrdata\"]')\n",
    "    TDLR_input.send_keys(row['TDLR Number'])\n",
    "    search_button = driver.find_element_by_xpath('//*[@id=\"submit3\"]/b')\n",
    "    search_button.click()\n",
    "    \n",
    "    name = driver.find_element_by_xpath('//*[@id=\"t1\"]/tbody/tr/td/font/table[2]/tbody/tr[2]/td[1]').text\n",
    "    phone = driver.find_element_by_xpath('//*[@id=\"t1\"]/tbody/tr/td/font/table[2]/tbody/tr[4]/td[1]').text \n",
    "    license_status = driver.find_element_by_xpath('//*[@id=\"t1\"]/tbody/tr/td/font/table[3]/tbody/tr[1]/td[2]/font').text \n",
    "    physical_address = driver.find_element_by_xpath('//*[@id=\"t1\"]/tbody/tr/td/font/table[3]/tbody/tr[2]/td[2]').text \n",
    "\n",
    "    \n",
    "    return pd.Series({\n",
    "        'name': name,\n",
    "        'phone': phone,\n",
    "        'license status':license_status,\n",
    "        'physical address': physical_address\n",
    "    })\n",
    "    \n",
    "#         license_status = driver.find_element_by_xpath('//*[@id=\"t1\"]/tbody/tr/td/font/table[3]/tbody/tr[2]/td[1]/font/font').text\n",
    "\n",
    "trucks_new_df = tow_trucks_all_df.apply(scrape_trucks_all, axis=1).join(tow_trucks_all_df)\n",
    "trucks_new_df.head()\n",
    "\n",
    "# new_df = imported df from csv.apply(function, axis=1).join(imported df from csv)\n",
    "\n",
    "#It seems to be breaking because it isn't finding a record for 0646264VSF. Below I've tried a While loop to skip that \n",
    "#but I can't seem to get the syntax right."
   ]
  },
  {
   "cell_type": "code",
   "execution_count": null,
   "metadata": {},
   "outputs": [],
   "source": [
    "tow_trucks_all_df = pd.read_csv('tow-trucks.csv', dtype = {'TDLR':'str'})\n",
    "tow_trucks_all_df.head()\n",
    "\n",
    "    \n",
    "while True:\n",
    "    \n",
    "    try:\n",
    "        \n",
    "        driver.get('https://www.tdlr.texas.gov/tools_search/mccs_search.asp')\n",
    "    \n",
    "    #think of all the actions you take when you go to the web page. do that same thing, just via selenium\n",
    "    \n",
    "        TDLR_input = driver.find_element_by_xpath('//*[@id=\"mcrdata\"]')\n",
    "        TDLR_input.send_keys(row['TDLR Number'])\n",
    "        search_button = driver.find_element_by_xpath('//*[@id=\"submit3\"]/b')\n",
    "        search_button.click()\n",
    "    \n",
    "        name = driver.find_element_by_xpath('//*[@id=\"t1\"]/tbody/tr/td/font/table[2]/tbody/tr[2]/td[1]').text\n",
    "        phone = driver.find_element_by_xpath('//*[@id=\"t1\"]/tbody/tr/td/font/table[2]/tbody/tr[4]/td[1]').text \n",
    "        license_status = driver.find_element_by_xpath('//*[@id=\"t1\"]/tbody/tr/td/font/table[3]/tbody/tr[1]/td[2]/font').text \n",
    "        physical_address = driver.find_element_by_xpath('//*[@id=\"t1\"]/tbody/tr/td/font/table[3]/tbody/tr[2]/td[2]').text \n",
    "    \n",
    "    if:\n",
    "        name = driver.find_element_by_xpath('//*[@id=\"t1\"]/tbody/tr/td/font/table[2]/tbody/tr[2]/td[1]' !=Na)\n",
    "    \n",
    "    continue;\n",
    "    \n",
    "    return pd.Series({\n",
    "        'name': name,\n",
    "        'phone': phone,\n",
    "        'license status':license_status,\n",
    "        'physical address': physical_address\n",
    "    })\n",
    "    \n",
    "#         license_status = driver.find_element_by_xpath('//*[@id=\"t1\"]/tbody/tr/td/font/table[3]/tbody/tr[2]/td[1]/font/font').text\n",
    "\n",
    "trucks_new_df = tow_trucks_all_df.apply(scrape_trucks_all, axis=1).join(tow_trucks_all_df)\n",
    "trucks_new_df.head()\n",
    "\n",
    "# new_df = imported df from csv.apply(function, axis=1).join(imported df from csv)\n",
    "\n",
    "#It seems to be breaking because it isn't finding a record for 0646264VSF. I think a While loop could help but I can't figure\n",
    "#out what's wrong with my syntax..."
   ]
  },
  {
   "cell_type": "code",
   "execution_count": null,
   "metadata": {
    "collapsed": true
   },
   "outputs": [],
   "source": []
  }
 ],
 "metadata": {
  "kernelspec": {
   "display_name": "Python 3",
   "language": "python",
   "name": "python3"
  },
  "language_info": {
   "codemirror_mode": {
    "name": "ipython",
    "version": 3
   },
   "file_extension": ".py",
   "mimetype": "text/x-python",
   "name": "python",
   "nbconvert_exporter": "python",
   "pygments_lexer": "ipython3",
   "version": "3.6.1"
  }
 },
 "nbformat": 4,
 "nbformat_minor": 2
}
