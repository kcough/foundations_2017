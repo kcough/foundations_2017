{
 "cells": [
  {
   "cell_type": "markdown",
   "metadata": {},
   "source": [
    "# Mine Safety\n",
    "\n",
    "We're interested in [US mine safety](https://arlweb.msha.gov/drs/drshome.htm#MID), thank goodness we can search for these things."
   ]
  },
  {
   "cell_type": "markdown",
   "metadata": {},
   "source": [
    "## Preparation: Knowing your tags\n",
    "\n",
    "These questions are the same for every data set, and might not work exactly for yours.\n",
    "\n",
    "**Search for every operator with 'dirt' in their name, including abandoned mines.**"
   ]
  },
  {
   "cell_type": "markdown",
   "metadata": {},
   "source": [
    "### What is the tag and class name for every row of data?"
   ]
  },
  {
   "cell_type": "markdown",
   "metadata": {
    "collapsed": true
   },
   "source": [
    "tag is tr and class name is ??? I'm not sure. I don't see anything that says 'class' anywhere."
   ]
  },
  {
   "cell_type": "markdown",
   "metadata": {},
   "source": [
    "### What is the tag and class name for every mine operator's name?"
   ]
  },
  {
   "cell_type": "markdown",
   "metadata": {
    "collapsed": true
   },
   "source": [
    "I think they're in !-- DNT -- tags, but I can't get them out!"
   ]
  },
  {
   "cell_type": "markdown",
   "metadata": {},
   "source": [
    "### What is the tag and class name for every mine's name?"
   ]
  },
  {
   "cell_type": "markdown",
   "metadata": {
    "collapsed": true
   },
   "source": [
    "I think they're in !-- DNT -- tags, but I can't get them out!"
   ]
  },
  {
   "cell_type": "markdown",
   "metadata": {},
   "source": [
    "## Being lazy\n",
    "\n",
    "If you only needed these results, what would you do instead of scraping them?"
   ]
  },
  {
   "cell_type": "markdown",
   "metadata": {
    "collapsed": true
   },
   "source": []
  },
  {
   "cell_type": "markdown",
   "metadata": {},
   "source": [
    "## Setup: Import what you'll need to scrape the page\n",
    "\n",
    "Use `requests`, not `urllib`."
   ]
  },
  {
   "cell_type": "code",
   "execution_count": null,
   "metadata": {},
   "outputs": [],
   "source": [
    "from bs4 import BeautifulSoup\n",
    "import requests\n",
    "response = requests.get('https://www.tdlr.texas.gov/cimsfo/fosearch.asp')\n",
    "response.text"
   ]
  },
  {
   "cell_type": "markdown",
   "metadata": {},
   "source": [
    "## Try to scrape the page\n",
    "\n",
    "To test if you requested the page correctly, save the BeautifulSoup document as `doc` and run the code `doc.find_all('tr')[-1].text` to get the text of the last `<tr>` element.\n",
    "\n",
    "- If the result starts with **Total Number of Mines Found**, you were successful."
   ]
  },
  {
   "cell_type": "code",
   "execution_count": null,
   "metadata": {},
   "outputs": [],
   "source": [
    "data = {\"OperSearch\":\"dirt\",\n",
    "\"Abandoned\":\"No\",\n",
    "\"MineName\":\"\",\n",
    "\"StateSearch\":\"None\",\n",
    "\"CM\":\"All\",\n",
    "\"x\":\"26\",\n",
    "\"y\":\"10\",\n",
    "\"MC\":\"Opersearch\"\n",
    "}\n",
    "\n",
    "Headers = {\n",
    "    \"Referer\": \"https://arlweb.msha.gov/drs/drshome.htm\",\n",
    "    \"User-Agent\": \"Mozilla/5.0 (Macintosh; Intel Mac OS X 10_12_5) AppleWebKit/537.36 (KHTML, like Gecko) Chrome/58.0.3029.110 Safari/537.36\"\n",
    "}\n",
    "\n",
    "response = requests.post('https://arlweb.msha.gov/drs/ASP/OprNameStatesearch.asp', data = data, headers = Headers)\n",
    "response.text"
   ]
  },
  {
   "cell_type": "code",
   "execution_count": null,
   "metadata": {},
   "outputs": [],
   "source": [
    "doc = BeautifulSoup(response.text,'html.parser')\n",
    "doc.prettify()"
   ]
  },
  {
   "cell_type": "code",
   "execution_count": 6,
   "metadata": {},
   "outputs": [
    {
     "data": {
      "text/plain": [
       "'\\nTotal Number of Mines Found:\\xa0\\xa019'"
      ]
     },
     "execution_count": 6,
     "metadata": {},
     "output_type": "execute_result"
    }
   ],
   "source": [
    "doc.find_all('tr')[-1].text"
   ]
  },
  {
   "cell_type": "markdown",
   "metadata": {},
   "source": [
    "## Actually scraping"
   ]
  },
  {
   "cell_type": "markdown",
   "metadata": {},
   "source": [
    "### Hopefully you know that each `tr` is supposed to be your data. What is the index of the first row element that is actually a result?\n",
    "\n",
    "`.text` will help you here."
   ]
  },
  {
   "cell_type": "code",
   "execution_count": 11,
   "metadata": {},
   "outputs": [
    {
     "name": "stdout",
     "output_type": "stream",
     "text": [
      "\n",
      "\n",
      "\n",
      "3503598\n",
      "\n",
      "OR \n",
      " Newberg Rock & Dirt  \n",
      "Newberg Rock & Dirt\n",
      "Surface             \n",
      "M \n",
      "Active  \n",
      "Crushed, Broken Stone NEC  \n",
      "\n"
     ]
    }
   ],
   "source": [
    "#it's in the tr tag and if we count down, it's the 7th one (starting at zero)\n",
    "table_row = doc.find_all('tr')[7]\n",
    "print(table_row.text)"
   ]
  },
  {
   "cell_type": "markdown",
   "metadata": {},
   "source": [
    "### Loop through each operator result, printing its ID\n",
    "\n",
    "There should be ONE code per row, and NO empty rows between them."
   ]
  },
  {
   "cell_type": "code",
   "execution_count": 76,
   "metadata": {},
   "outputs": [
    {
     "name": "stdout",
     "output_type": "stream",
     "text": [
      "3503598\n",
      "4801789\n",
      "5001797\n",
      "4608254\n",
      "2103723\n",
      "4104757\n",
      "0801306\n",
      "3901432\n",
      "3609624\n",
      "3609931\n",
      "1519799\n",
      "4407296\n",
      "4407270\n",
      "0203332\n",
      "2901986\n",
      "4300768\n",
      "4300776\n",
      "2302283\n",
      "2103518\n",
      "None\n"
     ]
    }
   ],
   "source": [
    "table_row = doc.find_all('tr')[7:]\n",
    "for each_element in table_row:\n",
    "    print(each_element.find_all('font')[0].string)"
   ]
  },
  {
   "cell_type": "markdown",
   "metadata": {},
   "source": [
    "### This is practice \n",
    "#### table_row = doc.find_all('tr')[7:]\n",
    "#### for each_element in table_row:\n",
    "#####     print(each_element.find_all(value=True))\n",
    "    #so here we're using the attribute 'value' which has a value (confusing yes) of the mind ID number. "
   ]
  },
  {
   "cell_type": "markdown",
   "metadata": {},
   "source": [
    "###and so is this\n",
    "#here's another way to do it, although it doesn't work as well...\n",
    "ID_num = doc.find_all('td')\n",
    "for each_element in ID_num:\n",
    "    print(each_element.find_all(value=True)) !=None\n",
    "\n",
    "    I can't figure out how to get rid of the spaces. I think it has to do with next siblings but neither of these\n",
    "    work and I'm confused.\n",
    "    if each_element.find_all(value=True) !=None:\n",
    "        print(each_element.find_next_siblings(value=True))"
   ]
  },
  {
   "cell_type": "markdown",
   "metadata": {},
   "source": [
    "## Saving the results\n",
    "\n",
    "### Loop through each `tr` to create a list of dictionaries\n",
    "\n",
    "Each dictionary must contain\n",
    "\n",
    "- Operator ID\n",
    "- Operator name\n",
    "- Mine name\n",
    "- State\n",
    "- Mine type\n",
    "- Coal or metal\n",
    "- Status\n",
    "- Commodity\n",
    "\n",
    "Create a new dictionary for each row."
   ]
  },
  {
   "cell_type": "code",
   "execution_count": 45,
   "metadata": {},
   "outputs": [
    {
     "data": {
      "text/plain": [
       "[<tr>\n",
       " <td align=\"center\">\n",
       " <form action=\"/drs/ASP/BasicMineInfostatecounty.asp\" method=\"post\" name=\"search\">\n",
       " <input name=\"MineId\" type=\"hidden\" value=\"3503598\"/><font style=\"FONT-SIZE:.75em;\">3503598</font>\n",
       " </form></td>\n",
       " <td><font style=\"FONT-SIZE:.75em;\"><!-- DNT --><b>OR</b><!-- /DNT --> </font></td>\n",
       " <td><font style=\"FONT-SIZE:.75em;\"><!-- DNT --> Newberg Rock &amp; Dirt<!-- /DNT -->  </font></td>\n",
       " <td><font style=\"FONT-SIZE:.75em;\"><!-- DNT -->Newberg Rock &amp; Dirt<!-- /DNT --></font></td>\n",
       " <td align=\"center\"><font style=\"FONT-SIZE:.75em;\"><!-- DNT -->Surface             <!-- /DNT --></font></td>\n",
       " <td align=\"center\"><font style=\"FONT-SIZE:.75em;\"><!-- DNT -->M<!-- /DNT --> </font></td>\n",
       " <td><font style=\"FONT-SIZE:.75em;\">Active  </font></td>\n",
       " <td><font style=\"FONT-SIZE:.75em;\">Crushed, Broken Stone NEC  </font></td>\n",
       " <th bgcolor=\"#000000\"><input alt=\"More Information\" border=\"0\" name=\"submit\" src=\"/drs/images/moreinfo.jpg\" type=\"image\"/></th></tr>,\n",
       " <tr>\n",
       " <td align=\"center\">\n",
       " <form action=\"/drs/ASP/BasicMineInfostatecounty.asp\" method=\"post\" name=\"search\">\n",
       " <input name=\"MineId\" type=\"hidden\" value=\"4801789\"/><font style=\"FONT-SIZE:.75em;\">4801789</font>\n",
       " </form></td>\n",
       " <td><font style=\"FONT-SIZE:.75em;\"><!-- DNT --><b>ND</b><!-- /DNT --> </font></td>\n",
       " <td><font style=\"FONT-SIZE:.75em;\"><!-- DNT -->AM Dirtworks &amp; Aggregate Sales<!-- /DNT -->  </font></td>\n",
       " <td><font style=\"FONT-SIZE:.75em;\"><!-- DNT -->AM Dirtworks &amp; Aggregate Sales<!-- /DNT --></font></td>\n",
       " <td align=\"center\"><font style=\"FONT-SIZE:.75em;\"><!-- DNT -->Surface             <!-- /DNT --></font></td>\n",
       " <td align=\"center\"><font style=\"FONT-SIZE:.75em;\"><!-- DNT -->M<!-- /DNT --> </font></td>\n",
       " <td><font style=\"FONT-SIZE:.75em;\">Intermittent  </font></td>\n",
       " <td><font style=\"FONT-SIZE:.75em;\">Construction Sand and Gravel  </font></td>\n",
       " <th bgcolor=\"#000000\"><input alt=\"More Information\" border=\"0\" name=\"submit\" src=\"/drs/images/moreinfo.jpg\" type=\"image\"/></th></tr>,\n",
       " <tr>\n",
       " <td align=\"center\">\n",
       " <form action=\"/drs/ASP/BasicMineInfostatecounty.asp\" method=\"post\" name=\"search\">\n",
       " <input name=\"MineId\" type=\"hidden\" value=\"5001797\"/><font style=\"FONT-SIZE:.75em;\">5001797</font>\n",
       " </form></td>\n",
       " <td><font style=\"FONT-SIZE:.75em;\"><!-- DNT --><b>AK</b><!-- /DNT --> </font></td>\n",
       " <td><font style=\"FONT-SIZE:.75em;\"><!-- DNT -->Dirt Company<!-- /DNT -->  </font></td>\n",
       " <td><font style=\"FONT-SIZE:.75em;\"><!-- DNT -->Bush Pilot<!-- /DNT --></font></td>\n",
       " <td align=\"center\"><font style=\"FONT-SIZE:.75em;\"><!-- DNT -->Surface             <!-- /DNT --></font></td>\n",
       " <td align=\"center\"><font style=\"FONT-SIZE:.75em;\"><!-- DNT -->M<!-- /DNT --> </font></td>\n",
       " <td><font style=\"FONT-SIZE:.75em;\">Intermittent  </font></td>\n",
       " <td><font style=\"FONT-SIZE:.75em;\">Construction Sand and Gravel  </font></td>\n",
       " <th bgcolor=\"#000000\"><input alt=\"More Information\" border=\"0\" name=\"submit\" src=\"/drs/images/moreinfo.jpg\" type=\"image\"/></th></tr>,\n",
       " <tr>\n",
       " <td align=\"center\">\n",
       " <form action=\"/drs/ASP/BasicMineInfostatecounty.asp\" method=\"post\" name=\"search\">\n",
       " <input name=\"MineId\" type=\"hidden\" value=\"4608254\"/><font style=\"FONT-SIZE:.75em;\">4608254</font>\n",
       " </form></td>\n",
       " <td><font style=\"FONT-SIZE:.75em;\"><!-- DNT --><b>WV</b><!-- /DNT --> </font></td>\n",
       " <td><font style=\"FONT-SIZE:.75em;\"><!-- DNT -->Dirt Con<!-- /DNT -->  </font></td>\n",
       " <td><font style=\"FONT-SIZE:.75em;\"><!-- DNT -->Hog Lick Quarry<!-- /DNT --></font></td>\n",
       " <td align=\"center\"><font style=\"FONT-SIZE:.75em;\"><!-- DNT -->Surface             <!-- /DNT --></font></td>\n",
       " <td align=\"center\"><font style=\"FONT-SIZE:.75em;\"><!-- DNT -->M<!-- /DNT --> </font></td>\n",
       " <td><font style=\"FONT-SIZE:.75em;\">Temporarily Idled  </font></td>\n",
       " <td><font style=\"FONT-SIZE:.75em;\">Crushed, Broken Limestone NEC  </font></td>\n",
       " <th bgcolor=\"#000000\"><input alt=\"More Information\" border=\"0\" name=\"submit\" src=\"/drs/images/moreinfo.jpg\" type=\"image\"/></th></tr>,\n",
       " <tr>\n",
       " <td align=\"center\">\n",
       " <form action=\"/drs/ASP/BasicMineInfostatecounty.asp\" method=\"post\" name=\"search\">\n",
       " <input name=\"MineId\" type=\"hidden\" value=\"2103723\"/><font style=\"FONT-SIZE:.75em;\">2103723</font>\n",
       " </form></td>\n",
       " <td><font style=\"FONT-SIZE:.75em;\"><!-- DNT --><b>MN</b><!-- /DNT --> </font></td>\n",
       " <td><font style=\"FONT-SIZE:.75em;\"><!-- DNT -->Dirt Doctor Inc<!-- /DNT -->  </font></td>\n",
       " <td><font style=\"FONT-SIZE:.75em;\"><!-- DNT -->Rock Lake Plant<!-- /DNT --></font></td>\n",
       " <td align=\"center\"><font style=\"FONT-SIZE:.75em;\"><!-- DNT -->Surface             <!-- /DNT --></font></td>\n",
       " <td align=\"center\"><font style=\"FONT-SIZE:.75em;\"><!-- DNT -->M<!-- /DNT --> </font></td>\n",
       " <td><font style=\"FONT-SIZE:.75em;\">Intermittent  </font></td>\n",
       " <td><font style=\"FONT-SIZE:.75em;\">Construction Sand and Gravel  </font></td>\n",
       " <th bgcolor=\"#000000\"><input alt=\"More Information\" border=\"0\" name=\"submit\" src=\"/drs/images/moreinfo.jpg\" type=\"image\"/></th></tr>,\n",
       " <tr>\n",
       " <td align=\"center\">\n",
       " <form action=\"/drs/ASP/BasicMineInfostatecounty.asp\" method=\"post\" name=\"search\">\n",
       " <input name=\"MineId\" type=\"hidden\" value=\"4104757\"/><font style=\"FONT-SIZE:.75em;\">4104757</font>\n",
       " </form></td>\n",
       " <td><font style=\"FONT-SIZE:.75em;\"><!-- DNT --><b>TX</b><!-- /DNT --> </font></td>\n",
       " <td><font style=\"FONT-SIZE:.75em;\"><!-- DNT -->Dirt Works<!-- /DNT -->  </font></td>\n",
       " <td><font style=\"FONT-SIZE:.75em;\"><!-- DNT -->Portable #1<!-- /DNT --></font></td>\n",
       " <td align=\"center\"><font style=\"FONT-SIZE:.75em;\"><!-- DNT -->Surface             <!-- /DNT --></font></td>\n",
       " <td align=\"center\"><font style=\"FONT-SIZE:.75em;\"><!-- DNT -->M<!-- /DNT --> </font></td>\n",
       " <td><font style=\"FONT-SIZE:.75em;\">Intermittent  </font></td>\n",
       " <td><font style=\"FONT-SIZE:.75em;\">Construction Sand and Gravel  </font></td>\n",
       " <th bgcolor=\"#000000\"><input alt=\"More Information\" border=\"0\" name=\"submit\" src=\"/drs/images/moreinfo.jpg\" type=\"image\"/></th></tr>,\n",
       " <tr>\n",
       " <td align=\"center\">\n",
       " <form action=\"/drs/ASP/BasicMineInfostatecounty.asp\" method=\"post\" name=\"search\">\n",
       " <input name=\"MineId\" type=\"hidden\" value=\"0801306\"/><font style=\"FONT-SIZE:.75em;\">0801306</font>\n",
       " </form></td>\n",
       " <td><font style=\"FONT-SIZE:.75em;\"><!-- DNT --><b>FL</b><!-- /DNT --> </font></td>\n",
       " <td><font style=\"FONT-SIZE:.75em;\"><!-- DNT -->Holley Dirt Company, Inc<!-- /DNT -->  </font></td>\n",
       " <td><font style=\"FONT-SIZE:.75em;\"><!-- DNT -->River Road Pit<!-- /DNT --></font></td>\n",
       " <td align=\"center\"><font style=\"FONT-SIZE:.75em;\"><!-- DNT -->Surface             <!-- /DNT --></font></td>\n",
       " <td align=\"center\"><font style=\"FONT-SIZE:.75em;\"><!-- DNT -->M<!-- /DNT --> </font></td>\n",
       " <td><font style=\"FONT-SIZE:.75em;\">Active  </font></td>\n",
       " <td><font style=\"FONT-SIZE:.75em;\">Sand, Common  </font></td>\n",
       " <th bgcolor=\"#000000\"><input alt=\"More Information\" border=\"0\" name=\"submit\" src=\"/drs/images/moreinfo.jpg\" type=\"image\"/></th></tr>,\n",
       " <tr>\n",
       " <td align=\"center\">\n",
       " <form action=\"/drs/ASP/BasicMineInfostatecounty.asp\" method=\"post\" name=\"search\">\n",
       " <input name=\"MineId\" type=\"hidden\" value=\"3901432\"/><font style=\"FONT-SIZE:.75em;\">3901432</font>\n",
       " </form></td>\n",
       " <td><font style=\"FONT-SIZE:.75em;\"><!-- DNT --><b>SD</b><!-- /DNT --> </font></td>\n",
       " <td><font style=\"FONT-SIZE:.75em;\"><!-- DNT -->Krueger Brothers Gravel &amp; Dirt<!-- /DNT -->  </font></td>\n",
       " <td><font style=\"FONT-SIZE:.75em;\"><!-- DNT -->PORTABLE SCREENER<!-- /DNT --></font></td>\n",
       " <td align=\"center\"><font style=\"FONT-SIZE:.75em;\"><!-- DNT -->Surface             <!-- /DNT --></font></td>\n",
       " <td align=\"center\"><font style=\"FONT-SIZE:.75em;\"><!-- DNT -->M<!-- /DNT --> </font></td>\n",
       " <td><font style=\"FONT-SIZE:.75em;\">Intermittent  </font></td>\n",
       " <td><font style=\"FONT-SIZE:.75em;\">Construction Sand and Gravel  </font></td>\n",
       " <th bgcolor=\"#000000\"><input alt=\"More Information\" border=\"0\" name=\"submit\" src=\"/drs/images/moreinfo.jpg\" type=\"image\"/></th></tr>,\n",
       " <tr>\n",
       " <td align=\"center\">\n",
       " <form action=\"/drs/ASP/BasicMineInfostatecounty.asp\" method=\"post\" name=\"search\">\n",
       " <input name=\"MineId\" type=\"hidden\" value=\"3609624\"/><font style=\"FONT-SIZE:.75em;\">3609624</font>\n",
       " </form></td>\n",
       " <td><font style=\"FONT-SIZE:.75em;\"><!-- DNT --><b>PA</b><!-- /DNT --> </font></td>\n",
       " <td><font style=\"FONT-SIZE:.75em;\"><!-- DNT -->M R Dirt<!-- /DNT -->  </font></td>\n",
       " <td><font style=\"FONT-SIZE:.75em;\"><!-- DNT -->Forbes Pit<!-- /DNT --></font></td>\n",
       " <td align=\"center\"><font style=\"FONT-SIZE:.75em;\"><!-- DNT -->Surface             <!-- /DNT --></font></td>\n",
       " <td align=\"center\"><font style=\"FONT-SIZE:.75em;\"><!-- DNT -->M<!-- /DNT --> </font></td>\n",
       " <td><font style=\"FONT-SIZE:.75em;\">Intermittent  </font></td>\n",
       " <td><font style=\"FONT-SIZE:.75em;\">Construction Sand and Gravel  </font></td>\n",
       " <th bgcolor=\"#000000\"><input alt=\"More Information\" border=\"0\" name=\"submit\" src=\"/drs/images/moreinfo.jpg\" type=\"image\"/></th></tr>,\n",
       " <tr>\n",
       " <td align=\"center\">\n",
       " <form action=\"/drs/ASP/BasicMineInfostatecounty.asp\" method=\"post\" name=\"search\">\n",
       " <input name=\"MineId\" type=\"hidden\" value=\"3609931\"/><font style=\"FONT-SIZE:.75em;\">3609931</font>\n",
       " </form></td>\n",
       " <td><font style=\"FONT-SIZE:.75em;\"><!-- DNT --><b>PA</b><!-- /DNT --> </font></td>\n",
       " <td><font style=\"FONT-SIZE:.75em;\"><!-- DNT -->M.R. Dirt Inc.<!-- /DNT -->  </font></td>\n",
       " <td><font style=\"FONT-SIZE:.75em;\"><!-- DNT -->Camptown Quarry<!-- /DNT --></font></td>\n",
       " <td align=\"center\"><font style=\"FONT-SIZE:.75em;\"><!-- DNT -->Surface             <!-- /DNT --></font></td>\n",
       " <td align=\"center\"><font style=\"FONT-SIZE:.75em;\"><!-- DNT -->M<!-- /DNT --> </font></td>\n",
       " <td><font style=\"FONT-SIZE:.75em;\">Intermittent  </font></td>\n",
       " <td><font style=\"FONT-SIZE:.75em;\">Dimension Stone NEC  </font></td>\n",
       " <th bgcolor=\"#000000\"><input alt=\"More Information\" border=\"0\" name=\"submit\" src=\"/drs/images/moreinfo.jpg\" type=\"image\"/></th></tr>,\n",
       " <tr>\n",
       " <td align=\"center\">\n",
       " <form action=\"/drs/ASP/BasicMineInfostatecounty.asp\" method=\"post\" name=\"search\">\n",
       " <input name=\"MineId\" type=\"hidden\" value=\"1519799\"/><font style=\"FONT-SIZE:.75em;\">1519799</font>\n",
       " </form></td>\n",
       " <td><font style=\"FONT-SIZE:.75em;\"><!-- DNT --><b>KY</b><!-- /DNT --> </font></td>\n",
       " <td><font style=\"FONT-SIZE:.75em;\"><!-- DNT -->P B Dirt Movers, Inc<!-- /DNT -->  </font></td>\n",
       " <td><font style=\"FONT-SIZE:.75em;\"><!-- DNT -->Fedscreek Surface<!-- /DNT --></font></td>\n",
       " <td align=\"center\"><font style=\"FONT-SIZE:.75em;\"><!-- DNT -->Surface             <!-- /DNT --></font></td>\n",
       " <td align=\"center\"><font style=\"FONT-SIZE:.75em;\"><!-- DNT -->C<!-- /DNT --> </font></td>\n",
       " <td><font style=\"FONT-SIZE:.75em;\">Active  </font></td>\n",
       " <td><font style=\"FONT-SIZE:.75em;\">Coal (Bituminous)  </font></td>\n",
       " <th bgcolor=\"#000000\"><input alt=\"More Information\" border=\"0\" name=\"submit\" src=\"/drs/images/moreinfo.jpg\" type=\"image\"/></th></tr>,\n",
       " <tr>\n",
       " <td align=\"center\">\n",
       " <form action=\"/drs/ASP/BasicMineInfostatecounty.asp\" method=\"post\" name=\"search\">\n",
       " <input name=\"MineId\" type=\"hidden\" value=\"4407296\"/><font style=\"FONT-SIZE:.75em;\">4407296</font>\n",
       " </form></td>\n",
       " <td><font style=\"FONT-SIZE:.75em;\"><!-- DNT --><b>VA</b><!-- /DNT --> </font></td>\n",
       " <td><font style=\"FONT-SIZE:.75em;\"><!-- DNT -->PB Dirt Movers<!-- /DNT -->  </font></td>\n",
       " <td><font style=\"FONT-SIZE:.75em;\"><!-- DNT -->Mine No. 6<!-- /DNT --></font></td>\n",
       " <td align=\"center\"><font style=\"FONT-SIZE:.75em;\"><!-- DNT -->Underground         <!-- /DNT --></font></td>\n",
       " <td align=\"center\"><font style=\"FONT-SIZE:.75em;\"><!-- DNT -->C<!-- /DNT --> </font></td>\n",
       " <td><font style=\"FONT-SIZE:.75em;\">Temporarily Idled  </font></td>\n",
       " <td><font style=\"FONT-SIZE:.75em;\">Coal (Bituminous)  </font></td>\n",
       " <th bgcolor=\"#000000\"><input alt=\"More Information\" border=\"0\" name=\"submit\" src=\"/drs/images/moreinfo.jpg\" type=\"image\"/></th></tr>,\n",
       " <tr>\n",
       " <td align=\"center\">\n",
       " <form action=\"/drs/ASP/BasicMineInfostatecounty.asp\" method=\"post\" name=\"search\">\n",
       " <input name=\"MineId\" type=\"hidden\" value=\"4407270\"/><font style=\"FONT-SIZE:.75em;\">4407270</font>\n",
       " </form></td>\n",
       " <td><font style=\"FONT-SIZE:.75em;\"><!-- DNT --><b>VA</b><!-- /DNT --> </font></td>\n",
       " <td><font style=\"FONT-SIZE:.75em;\"><!-- DNT -->PB Dirt Movers, Inc<!-- /DNT -->  </font></td>\n",
       " <td><font style=\"FONT-SIZE:.75em;\"><!-- DNT -->Surface Mine No. 1<!-- /DNT --></font></td>\n",
       " <td align=\"center\"><font style=\"FONT-SIZE:.75em;\"><!-- DNT -->Surface             <!-- /DNT --></font></td>\n",
       " <td align=\"center\"><font style=\"FONT-SIZE:.75em;\"><!-- DNT -->C<!-- /DNT --> </font></td>\n",
       " <td><font style=\"FONT-SIZE:.75em;\">NonProducing  </font></td>\n",
       " <td><font style=\"FONT-SIZE:.75em;\">Coal (Bituminous)  </font></td>\n",
       " <th bgcolor=\"#000000\"><input alt=\"More Information\" border=\"0\" name=\"submit\" src=\"/drs/images/moreinfo.jpg\" type=\"image\"/></th></tr>,\n",
       " <tr>\n",
       " <td align=\"center\">\n",
       " <form action=\"/drs/ASP/BasicMineInfostatecounty.asp\" method=\"post\" name=\"search\">\n",
       " <input name=\"MineId\" type=\"hidden\" value=\"0203332\"/><font style=\"FONT-SIZE:.75em;\">0203332</font>\n",
       " </form></td>\n",
       " <td><font style=\"FONT-SIZE:.75em;\"><!-- DNT --><b>AZ</b><!-- /DNT --> </font></td>\n",
       " <td><font style=\"FONT-SIZE:.75em;\"><!-- DNT -->Prescott Dirt, LLC<!-- /DNT -->  </font></td>\n",
       " <td><font style=\"FONT-SIZE:.75em;\"><!-- DNT -->Sandretto Drive<!-- /DNT --></font></td>\n",
       " <td align=\"center\"><font style=\"FONT-SIZE:.75em;\"><!-- DNT -->Surface             <!-- /DNT --></font></td>\n",
       " <td align=\"center\"><font style=\"FONT-SIZE:.75em;\"><!-- DNT -->M<!-- /DNT --> </font></td>\n",
       " <td><font style=\"FONT-SIZE:.75em;\">Intermittent  </font></td>\n",
       " <td><font style=\"FONT-SIZE:.75em;\">Construction Sand and Gravel  </font></td>\n",
       " <th bgcolor=\"#000000\"><input alt=\"More Information\" border=\"0\" name=\"submit\" src=\"/drs/images/moreinfo.jpg\" type=\"image\"/></th></tr>,\n",
       " <tr>\n",
       " <td align=\"center\">\n",
       " <form action=\"/drs/ASP/BasicMineInfostatecounty.asp\" method=\"post\" name=\"search\">\n",
       " <input name=\"MineId\" type=\"hidden\" value=\"2901986\"/><font style=\"FONT-SIZE:.75em;\">2901986</font>\n",
       " </form></td>\n",
       " <td><font style=\"FONT-SIZE:.75em;\"><!-- DNT --><b>NM</b><!-- /DNT --> </font></td>\n",
       " <td><font style=\"FONT-SIZE:.75em;\"><!-- DNT -->R D Blankenship Dirt Work LLC<!-- /DNT -->  </font></td>\n",
       " <td><font style=\"FONT-SIZE:.75em;\"><!-- DNT -->R D BLANKENSHIP DIRT WORK<!-- /DNT --></font></td>\n",
       " <td align=\"center\"><font style=\"FONT-SIZE:.75em;\"><!-- DNT -->Surface             <!-- /DNT --></font></td>\n",
       " <td align=\"center\"><font style=\"FONT-SIZE:.75em;\"><!-- DNT -->M<!-- /DNT --> </font></td>\n",
       " <td><font style=\"FONT-SIZE:.75em;\">Active  </font></td>\n",
       " <td><font style=\"FONT-SIZE:.75em;\">Construction Sand and Gravel  </font></td>\n",
       " <th bgcolor=\"#000000\"><input alt=\"More Information\" border=\"0\" name=\"submit\" src=\"/drs/images/moreinfo.jpg\" type=\"image\"/></th></tr>,\n",
       " <tr>\n",
       " <td align=\"center\">\n",
       " <form action=\"/drs/ASP/BasicMineInfostatecounty.asp\" method=\"post\" name=\"search\">\n",
       " <input name=\"MineId\" type=\"hidden\" value=\"4300768\"/><font style=\"FONT-SIZE:.75em;\">4300768</font>\n",
       " </form></td>\n",
       " <td><font style=\"FONT-SIZE:.75em;\"><!-- DNT --><b>VT</b><!-- /DNT --> </font></td>\n",
       " <td><font style=\"FONT-SIZE:.75em;\"><!-- DNT -->SIMPSON DIRTWORX LLC<!-- /DNT -->  </font></td>\n",
       " <td><font style=\"FONT-SIZE:.75em;\"><!-- DNT -->Pettibone Jaw Crusher<!-- /DNT --></font></td>\n",
       " <td align=\"center\"><font style=\"FONT-SIZE:.75em;\"><!-- DNT -->Surface             <!-- /DNT --></font></td>\n",
       " <td align=\"center\"><font style=\"FONT-SIZE:.75em;\"><!-- DNT -->M<!-- /DNT --> </font></td>\n",
       " <td><font style=\"FONT-SIZE:.75em;\">Intermittent  </font></td>\n",
       " <td><font style=\"FONT-SIZE:.75em;\">Construction Sand and Gravel  </font></td>\n",
       " <th bgcolor=\"#000000\"><input alt=\"More Information\" border=\"0\" name=\"submit\" src=\"/drs/images/moreinfo.jpg\" type=\"image\"/></th></tr>,\n",
       " <tr>\n",
       " <td align=\"center\">\n",
       " <form action=\"/drs/ASP/BasicMineInfostatecounty.asp\" method=\"post\" name=\"search\">\n",
       " <input name=\"MineId\" type=\"hidden\" value=\"4300776\"/><font style=\"FONT-SIZE:.75em;\">4300776</font>\n",
       " </form></td>\n",
       " <td><font style=\"FONT-SIZE:.75em;\"><!-- DNT --><b>VT</b><!-- /DNT --> </font></td>\n",
       " <td><font style=\"FONT-SIZE:.75em;\"><!-- DNT -->SIMPSON DIRTWORX LLC<!-- /DNT -->  </font></td>\n",
       " <td><font style=\"FONT-SIZE:.75em;\"><!-- DNT -->Chieftan 1400<!-- /DNT --></font></td>\n",
       " <td align=\"center\"><font style=\"FONT-SIZE:.75em;\"><!-- DNT -->Surface             <!-- /DNT --></font></td>\n",
       " <td align=\"center\"><font style=\"FONT-SIZE:.75em;\"><!-- DNT -->M<!-- /DNT --> </font></td>\n",
       " <td><font style=\"FONT-SIZE:.75em;\">Intermittent  </font></td>\n",
       " <td><font style=\"FONT-SIZE:.75em;\">Construction Sand and Gravel  </font></td>\n",
       " <th bgcolor=\"#000000\"><input alt=\"More Information\" border=\"0\" name=\"submit\" src=\"/drs/images/moreinfo.jpg\" type=\"image\"/></th></tr>,\n",
       " <tr>\n",
       " <td align=\"center\">\n",
       " <form action=\"/drs/ASP/BasicMineInfostatecounty.asp\" method=\"post\" name=\"search\">\n",
       " <input name=\"MineId\" type=\"hidden\" value=\"2302283\"/><font style=\"FONT-SIZE:.75em;\">2302283</font>\n",
       " </form></td>\n",
       " <td><font style=\"FONT-SIZE:.75em;\"><!-- DNT --><b>MO</b><!-- /DNT --> </font></td>\n",
       " <td><font style=\"FONT-SIZE:.75em;\"><!-- DNT -->Spry's Dirt &amp; Gravel, Inc.<!-- /DNT -->  </font></td>\n",
       " <td><font style=\"FONT-SIZE:.75em;\"><!-- DNT -->Mike's Money Pit<!-- /DNT --></font></td>\n",
       " <td align=\"center\"><font style=\"FONT-SIZE:.75em;\"><!-- DNT -->Surface             <!-- /DNT --></font></td>\n",
       " <td align=\"center\"><font style=\"FONT-SIZE:.75em;\"><!-- DNT -->M<!-- /DNT --> </font></td>\n",
       " <td><font style=\"FONT-SIZE:.75em;\">Intermittent  </font></td>\n",
       " <td><font style=\"FONT-SIZE:.75em;\">Construction Sand and Gravel  </font></td>\n",
       " <th bgcolor=\"#000000\"><input alt=\"More Information\" border=\"0\" name=\"submit\" src=\"/drs/images/moreinfo.jpg\" type=\"image\"/></th></tr>,\n",
       " <tr>\n",
       " <td align=\"center\">\n",
       " <form action=\"/drs/ASP/BasicMineInfostatecounty.asp\" method=\"post\" name=\"search\">\n",
       " <input name=\"MineId\" type=\"hidden\" value=\"2103518\"/><font style=\"FONT-SIZE:.75em;\">2103518</font>\n",
       " </form></td>\n",
       " <td><font style=\"FONT-SIZE:.75em;\"><!-- DNT --><b>MN</b><!-- /DNT --> </font></td>\n",
       " <td><font style=\"FONT-SIZE:.75em;\"><!-- DNT -->Vogt Dirt Service<!-- /DNT -->  </font></td>\n",
       " <td><font style=\"FONT-SIZE:.75em;\"><!-- DNT -->Crusher<!-- /DNT --></font></td>\n",
       " <td align=\"center\"><font style=\"FONT-SIZE:.75em;\"><!-- DNT -->Surface             <!-- /DNT --></font></td>\n",
       " <td align=\"center\"><font style=\"FONT-SIZE:.75em;\"><!-- DNT -->M<!-- /DNT --> </font></td>\n",
       " <td><font style=\"FONT-SIZE:.75em;\">Intermittent  </font></td>\n",
       " <td><font style=\"FONT-SIZE:.75em;\">Construction Sand and Gravel  </font></td>\n",
       " <th bgcolor=\"#000000\"><input alt=\"More Information\" border=\"0\" name=\"submit\" src=\"/drs/images/moreinfo.jpg\" type=\"image\"/></th></tr>,\n",
       " <tr>\n",
       " <td bgcolor=\"#000000\" colspan=\"8\"><font style=\"FONT-SIZE:.75em; color:#FFF\"><b>Total Number of Mines Found:</b>  <b>19</b></font></td></tr>]"
      ]
     },
     "execution_count": 45,
     "metadata": {},
     "output_type": "execute_result"
    }
   ],
   "source": [
    "#first let's practice finding things, because I'm having trouble getting them out.\n",
    "doc.find_all('tr')[7:]\n",
    "#here's where the info starts."
   ]
  },
  {
   "cell_type": "code",
   "execution_count": 86,
   "metadata": {},
   "outputs": [
    {
     "name": "stdout",
     "output_type": "stream",
     "text": [
      "Crushed, Broken Stone NEC  \n",
      "Construction Sand and Gravel  \n",
      "Construction Sand and Gravel  \n",
      "Crushed, Broken Limestone NEC  \n",
      "Construction Sand and Gravel  \n",
      "Construction Sand and Gravel  \n",
      "Sand, Common  \n",
      "Construction Sand and Gravel  \n",
      "Construction Sand and Gravel  \n",
      "Dimension Stone NEC  \n",
      "Coal (Bituminous)  \n",
      "Coal (Bituminous)  \n",
      "Coal (Bituminous)  \n",
      "Construction Sand and Gravel  \n",
      "Construction Sand and Gravel  \n",
      "Construction Sand and Gravel  \n",
      "Construction Sand and Gravel  \n",
      "Construction Sand and Gravel  \n",
      "Construction Sand and Gravel  \n"
     ]
    },
    {
     "ename": "IndexError",
     "evalue": "list index out of range",
     "output_type": "error",
     "traceback": [
      "\u001b[0;31m---------------------------------------------------------------------------\u001b[0m",
      "\u001b[0;31mIndexError\u001b[0m                                Traceback (most recent call last)",
      "\u001b[0;32m<ipython-input-86-b0ff9fa8fc16>\u001b[0m in \u001b[0;36m<module>\u001b[0;34m()\u001b[0m\n\u001b[1;32m      1\u001b[0m \u001b[0mtable_row\u001b[0m \u001b[0;34m=\u001b[0m \u001b[0mdoc\u001b[0m\u001b[0;34m.\u001b[0m\u001b[0mfind_all\u001b[0m\u001b[0;34m(\u001b[0m\u001b[0;34m'tr'\u001b[0m\u001b[0;34m)\u001b[0m\u001b[0;34m[\u001b[0m\u001b[0;36m7\u001b[0m\u001b[0;34m:\u001b[0m\u001b[0;34m]\u001b[0m\u001b[0;34m\u001b[0m\u001b[0m\n\u001b[1;32m      2\u001b[0m \u001b[0;32mfor\u001b[0m \u001b[0meach_element\u001b[0m \u001b[0;32min\u001b[0m \u001b[0mtable_row\u001b[0m\u001b[0;34m:\u001b[0m\u001b[0;34m\u001b[0m\u001b[0m\n\u001b[0;32m----> 3\u001b[0;31m     \u001b[0mprint\u001b[0m\u001b[0;34m(\u001b[0m\u001b[0meach_element\u001b[0m\u001b[0;34m.\u001b[0m\u001b[0mfind_all\u001b[0m\u001b[0;34m(\u001b[0m\u001b[0;34m'td'\u001b[0m\u001b[0;34m)\u001b[0m\u001b[0;34m[\u001b[0m\u001b[0;36m7\u001b[0m\u001b[0;34m]\u001b[0m\u001b[0;34m.\u001b[0m\u001b[0mstring\u001b[0m\u001b[0;34m)\u001b[0m\u001b[0;34m\u001b[0m\u001b[0m\n\u001b[0m",
      "\u001b[0;31mIndexError\u001b[0m: list index out of range"
     ]
    }
   ],
   "source": [
    "table_row = doc.find_all('tr')[7:]\n",
    "for each_element in table_row:\n",
    "    print(each_element.find_all('td')[7].string)\n",
    "#where is there a list index out of range at the bottom, but it seems to return what I want?"
   ]
  },
  {
   "cell_type": "code",
   "execution_count": 73,
   "metadata": {},
   "outputs": [
    {
     "name": "stdout",
     "output_type": "stream",
     "text": [
      "[<font style=\"FONT-SIZE:.75em;\">3503598</font>, <font style=\"FONT-SIZE:.75em;\"><!-- DNT --><b>OR</b><!-- /DNT --> </font>, <font style=\"FONT-SIZE:.75em;\"><!-- DNT --> Newberg Rock &amp; Dirt<!-- /DNT -->  </font>, <font style=\"FONT-SIZE:.75em;\"><!-- DNT -->Newberg Rock &amp; Dirt<!-- /DNT --></font>, <font style=\"FONT-SIZE:.75em;\"><!-- DNT -->Surface             <!-- /DNT --></font>, <font style=\"FONT-SIZE:.75em;\"><!-- DNT -->M<!-- /DNT --> </font>, <font style=\"FONT-SIZE:.75em;\">Active  </font>, <font style=\"FONT-SIZE:.75em;\">Crushed, Broken Stone NEC  </font>]\n",
      "[<font style=\"FONT-SIZE:.75em;\">4801789</font>, <font style=\"FONT-SIZE:.75em;\"><!-- DNT --><b>ND</b><!-- /DNT --> </font>, <font style=\"FONT-SIZE:.75em;\"><!-- DNT -->AM Dirtworks &amp; Aggregate Sales<!-- /DNT -->  </font>, <font style=\"FONT-SIZE:.75em;\"><!-- DNT -->AM Dirtworks &amp; Aggregate Sales<!-- /DNT --></font>, <font style=\"FONT-SIZE:.75em;\"><!-- DNT -->Surface             <!-- /DNT --></font>, <font style=\"FONT-SIZE:.75em;\"><!-- DNT -->M<!-- /DNT --> </font>, <font style=\"FONT-SIZE:.75em;\">Intermittent  </font>, <font style=\"FONT-SIZE:.75em;\">Construction Sand and Gravel  </font>]\n",
      "[<font style=\"FONT-SIZE:.75em;\">5001797</font>, <font style=\"FONT-SIZE:.75em;\"><!-- DNT --><b>AK</b><!-- /DNT --> </font>, <font style=\"FONT-SIZE:.75em;\"><!-- DNT -->Dirt Company<!-- /DNT -->  </font>, <font style=\"FONT-SIZE:.75em;\"><!-- DNT -->Bush Pilot<!-- /DNT --></font>, <font style=\"FONT-SIZE:.75em;\"><!-- DNT -->Surface             <!-- /DNT --></font>, <font style=\"FONT-SIZE:.75em;\"><!-- DNT -->M<!-- /DNT --> </font>, <font style=\"FONT-SIZE:.75em;\">Intermittent  </font>, <font style=\"FONT-SIZE:.75em;\">Construction Sand and Gravel  </font>]\n",
      "[<font style=\"FONT-SIZE:.75em;\">4608254</font>, <font style=\"FONT-SIZE:.75em;\"><!-- DNT --><b>WV</b><!-- /DNT --> </font>, <font style=\"FONT-SIZE:.75em;\"><!-- DNT -->Dirt Con<!-- /DNT -->  </font>, <font style=\"FONT-SIZE:.75em;\"><!-- DNT -->Hog Lick Quarry<!-- /DNT --></font>, <font style=\"FONT-SIZE:.75em;\"><!-- DNT -->Surface             <!-- /DNT --></font>, <font style=\"FONT-SIZE:.75em;\"><!-- DNT -->M<!-- /DNT --> </font>, <font style=\"FONT-SIZE:.75em;\">Temporarily Idled  </font>, <font style=\"FONT-SIZE:.75em;\">Crushed, Broken Limestone NEC  </font>]\n",
      "[<font style=\"FONT-SIZE:.75em;\">2103723</font>, <font style=\"FONT-SIZE:.75em;\"><!-- DNT --><b>MN</b><!-- /DNT --> </font>, <font style=\"FONT-SIZE:.75em;\"><!-- DNT -->Dirt Doctor Inc<!-- /DNT -->  </font>, <font style=\"FONT-SIZE:.75em;\"><!-- DNT -->Rock Lake Plant<!-- /DNT --></font>, <font style=\"FONT-SIZE:.75em;\"><!-- DNT -->Surface             <!-- /DNT --></font>, <font style=\"FONT-SIZE:.75em;\"><!-- DNT -->M<!-- /DNT --> </font>, <font style=\"FONT-SIZE:.75em;\">Intermittent  </font>, <font style=\"FONT-SIZE:.75em;\">Construction Sand and Gravel  </font>]\n",
      "[<font style=\"FONT-SIZE:.75em;\">4104757</font>, <font style=\"FONT-SIZE:.75em;\"><!-- DNT --><b>TX</b><!-- /DNT --> </font>, <font style=\"FONT-SIZE:.75em;\"><!-- DNT -->Dirt Works<!-- /DNT -->  </font>, <font style=\"FONT-SIZE:.75em;\"><!-- DNT -->Portable #1<!-- /DNT --></font>, <font style=\"FONT-SIZE:.75em;\"><!-- DNT -->Surface             <!-- /DNT --></font>, <font style=\"FONT-SIZE:.75em;\"><!-- DNT -->M<!-- /DNT --> </font>, <font style=\"FONT-SIZE:.75em;\">Intermittent  </font>, <font style=\"FONT-SIZE:.75em;\">Construction Sand and Gravel  </font>]\n",
      "[<font style=\"FONT-SIZE:.75em;\">0801306</font>, <font style=\"FONT-SIZE:.75em;\"><!-- DNT --><b>FL</b><!-- /DNT --> </font>, <font style=\"FONT-SIZE:.75em;\"><!-- DNT -->Holley Dirt Company, Inc<!-- /DNT -->  </font>, <font style=\"FONT-SIZE:.75em;\"><!-- DNT -->River Road Pit<!-- /DNT --></font>, <font style=\"FONT-SIZE:.75em;\"><!-- DNT -->Surface             <!-- /DNT --></font>, <font style=\"FONT-SIZE:.75em;\"><!-- DNT -->M<!-- /DNT --> </font>, <font style=\"FONT-SIZE:.75em;\">Active  </font>, <font style=\"FONT-SIZE:.75em;\">Sand, Common  </font>]\n",
      "[<font style=\"FONT-SIZE:.75em;\">3901432</font>, <font style=\"FONT-SIZE:.75em;\"><!-- DNT --><b>SD</b><!-- /DNT --> </font>, <font style=\"FONT-SIZE:.75em;\"><!-- DNT -->Krueger Brothers Gravel &amp; Dirt<!-- /DNT -->  </font>, <font style=\"FONT-SIZE:.75em;\"><!-- DNT -->PORTABLE SCREENER<!-- /DNT --></font>, <font style=\"FONT-SIZE:.75em;\"><!-- DNT -->Surface             <!-- /DNT --></font>, <font style=\"FONT-SIZE:.75em;\"><!-- DNT -->M<!-- /DNT --> </font>, <font style=\"FONT-SIZE:.75em;\">Intermittent  </font>, <font style=\"FONT-SIZE:.75em;\">Construction Sand and Gravel  </font>]\n",
      "[<font style=\"FONT-SIZE:.75em;\">3609624</font>, <font style=\"FONT-SIZE:.75em;\"><!-- DNT --><b>PA</b><!-- /DNT --> </font>, <font style=\"FONT-SIZE:.75em;\"><!-- DNT -->M R Dirt<!-- /DNT -->  </font>, <font style=\"FONT-SIZE:.75em;\"><!-- DNT -->Forbes Pit<!-- /DNT --></font>, <font style=\"FONT-SIZE:.75em;\"><!-- DNT -->Surface             <!-- /DNT --></font>, <font style=\"FONT-SIZE:.75em;\"><!-- DNT -->M<!-- /DNT --> </font>, <font style=\"FONT-SIZE:.75em;\">Intermittent  </font>, <font style=\"FONT-SIZE:.75em;\">Construction Sand and Gravel  </font>]\n",
      "[<font style=\"FONT-SIZE:.75em;\">3609931</font>, <font style=\"FONT-SIZE:.75em;\"><!-- DNT --><b>PA</b><!-- /DNT --> </font>, <font style=\"FONT-SIZE:.75em;\"><!-- DNT -->M.R. Dirt Inc.<!-- /DNT -->  </font>, <font style=\"FONT-SIZE:.75em;\"><!-- DNT -->Camptown Quarry<!-- /DNT --></font>, <font style=\"FONT-SIZE:.75em;\"><!-- DNT -->Surface             <!-- /DNT --></font>, <font style=\"FONT-SIZE:.75em;\"><!-- DNT -->M<!-- /DNT --> </font>, <font style=\"FONT-SIZE:.75em;\">Intermittent  </font>, <font style=\"FONT-SIZE:.75em;\">Dimension Stone NEC  </font>]\n",
      "[<font style=\"FONT-SIZE:.75em;\">1519799</font>, <font style=\"FONT-SIZE:.75em;\"><!-- DNT --><b>KY</b><!-- /DNT --> </font>, <font style=\"FONT-SIZE:.75em;\"><!-- DNT -->P B Dirt Movers, Inc<!-- /DNT -->  </font>, <font style=\"FONT-SIZE:.75em;\"><!-- DNT -->Fedscreek Surface<!-- /DNT --></font>, <font style=\"FONT-SIZE:.75em;\"><!-- DNT -->Surface             <!-- /DNT --></font>, <font style=\"FONT-SIZE:.75em;\"><!-- DNT -->C<!-- /DNT --> </font>, <font style=\"FONT-SIZE:.75em;\">Active  </font>, <font style=\"FONT-SIZE:.75em;\">Coal (Bituminous)  </font>]\n",
      "[<font style=\"FONT-SIZE:.75em;\">4407296</font>, <font style=\"FONT-SIZE:.75em;\"><!-- DNT --><b>VA</b><!-- /DNT --> </font>, <font style=\"FONT-SIZE:.75em;\"><!-- DNT -->PB Dirt Movers<!-- /DNT -->  </font>, <font style=\"FONT-SIZE:.75em;\"><!-- DNT -->Mine No. 6<!-- /DNT --></font>, <font style=\"FONT-SIZE:.75em;\"><!-- DNT -->Underground         <!-- /DNT --></font>, <font style=\"FONT-SIZE:.75em;\"><!-- DNT -->C<!-- /DNT --> </font>, <font style=\"FONT-SIZE:.75em;\">Temporarily Idled  </font>, <font style=\"FONT-SIZE:.75em;\">Coal (Bituminous)  </font>]\n",
      "[<font style=\"FONT-SIZE:.75em;\">4407270</font>, <font style=\"FONT-SIZE:.75em;\"><!-- DNT --><b>VA</b><!-- /DNT --> </font>, <font style=\"FONT-SIZE:.75em;\"><!-- DNT -->PB Dirt Movers, Inc<!-- /DNT -->  </font>, <font style=\"FONT-SIZE:.75em;\"><!-- DNT -->Surface Mine No. 1<!-- /DNT --></font>, <font style=\"FONT-SIZE:.75em;\"><!-- DNT -->Surface             <!-- /DNT --></font>, <font style=\"FONT-SIZE:.75em;\"><!-- DNT -->C<!-- /DNT --> </font>, <font style=\"FONT-SIZE:.75em;\">NonProducing  </font>, <font style=\"FONT-SIZE:.75em;\">Coal (Bituminous)  </font>]\n",
      "[<font style=\"FONT-SIZE:.75em;\">0203332</font>, <font style=\"FONT-SIZE:.75em;\"><!-- DNT --><b>AZ</b><!-- /DNT --> </font>, <font style=\"FONT-SIZE:.75em;\"><!-- DNT -->Prescott Dirt, LLC<!-- /DNT -->  </font>, <font style=\"FONT-SIZE:.75em;\"><!-- DNT -->Sandretto Drive<!-- /DNT --></font>, <font style=\"FONT-SIZE:.75em;\"><!-- DNT -->Surface             <!-- /DNT --></font>, <font style=\"FONT-SIZE:.75em;\"><!-- DNT -->M<!-- /DNT --> </font>, <font style=\"FONT-SIZE:.75em;\">Intermittent  </font>, <font style=\"FONT-SIZE:.75em;\">Construction Sand and Gravel  </font>]\n",
      "[<font style=\"FONT-SIZE:.75em;\">2901986</font>, <font style=\"FONT-SIZE:.75em;\"><!-- DNT --><b>NM</b><!-- /DNT --> </font>, <font style=\"FONT-SIZE:.75em;\"><!-- DNT -->R D Blankenship Dirt Work LLC<!-- /DNT -->  </font>, <font style=\"FONT-SIZE:.75em;\"><!-- DNT -->R D BLANKENSHIP DIRT WORK<!-- /DNT --></font>, <font style=\"FONT-SIZE:.75em;\"><!-- DNT -->Surface             <!-- /DNT --></font>, <font style=\"FONT-SIZE:.75em;\"><!-- DNT -->M<!-- /DNT --> </font>, <font style=\"FONT-SIZE:.75em;\">Active  </font>, <font style=\"FONT-SIZE:.75em;\">Construction Sand and Gravel  </font>]\n",
      "[<font style=\"FONT-SIZE:.75em;\">4300768</font>, <font style=\"FONT-SIZE:.75em;\"><!-- DNT --><b>VT</b><!-- /DNT --> </font>, <font style=\"FONT-SIZE:.75em;\"><!-- DNT -->SIMPSON DIRTWORX LLC<!-- /DNT -->  </font>, <font style=\"FONT-SIZE:.75em;\"><!-- DNT -->Pettibone Jaw Crusher<!-- /DNT --></font>, <font style=\"FONT-SIZE:.75em;\"><!-- DNT -->Surface             <!-- /DNT --></font>, <font style=\"FONT-SIZE:.75em;\"><!-- DNT -->M<!-- /DNT --> </font>, <font style=\"FONT-SIZE:.75em;\">Intermittent  </font>, <font style=\"FONT-SIZE:.75em;\">Construction Sand and Gravel  </font>]\n",
      "[<font style=\"FONT-SIZE:.75em;\">4300776</font>, <font style=\"FONT-SIZE:.75em;\"><!-- DNT --><b>VT</b><!-- /DNT --> </font>, <font style=\"FONT-SIZE:.75em;\"><!-- DNT -->SIMPSON DIRTWORX LLC<!-- /DNT -->  </font>, <font style=\"FONT-SIZE:.75em;\"><!-- DNT -->Chieftan 1400<!-- /DNT --></font>, <font style=\"FONT-SIZE:.75em;\"><!-- DNT -->Surface             <!-- /DNT --></font>, <font style=\"FONT-SIZE:.75em;\"><!-- DNT -->M<!-- /DNT --> </font>, <font style=\"FONT-SIZE:.75em;\">Intermittent  </font>, <font style=\"FONT-SIZE:.75em;\">Construction Sand and Gravel  </font>]\n",
      "[<font style=\"FONT-SIZE:.75em;\">2302283</font>, <font style=\"FONT-SIZE:.75em;\"><!-- DNT --><b>MO</b><!-- /DNT --> </font>, <font style=\"FONT-SIZE:.75em;\"><!-- DNT -->Spry's Dirt &amp; Gravel, Inc.<!-- /DNT -->  </font>, <font style=\"FONT-SIZE:.75em;\"><!-- DNT -->Mike's Money Pit<!-- /DNT --></font>, <font style=\"FONT-SIZE:.75em;\"><!-- DNT -->Surface             <!-- /DNT --></font>, <font style=\"FONT-SIZE:.75em;\"><!-- DNT -->M<!-- /DNT --> </font>, <font style=\"FONT-SIZE:.75em;\">Intermittent  </font>, <font style=\"FONT-SIZE:.75em;\">Construction Sand and Gravel  </font>]\n",
      "[<font style=\"FONT-SIZE:.75em;\">2103518</font>, <font style=\"FONT-SIZE:.75em;\"><!-- DNT --><b>MN</b><!-- /DNT --> </font>, <font style=\"FONT-SIZE:.75em;\"><!-- DNT -->Vogt Dirt Service<!-- /DNT -->  </font>, <font style=\"FONT-SIZE:.75em;\"><!-- DNT -->Crusher<!-- /DNT --></font>, <font style=\"FONT-SIZE:.75em;\"><!-- DNT -->Surface             <!-- /DNT --></font>, <font style=\"FONT-SIZE:.75em;\"><!-- DNT -->M<!-- /DNT --> </font>, <font style=\"FONT-SIZE:.75em;\">Intermittent  </font>, <font style=\"FONT-SIZE:.75em;\">Construction Sand and Gravel  </font>]\n"
     ]
    }
   ],
   "source": [
    "mines = []\n",
    "\n",
    "mine_table = doc.find_all('tr')[7:]\n",
    "for each_element in mine_table:\n",
    "    current = {}\n",
    "    if each_element.find_all('form'):\n",
    "        current['ID'] = each_element.find_all(Value=True)\n",
    "        current['operator_name'] = each_element.find_all('td')[2] #or are these in DNT tags? How do you write the DNT\n",
    "            #tags? I can't get anything to come up. I know that in tr the operator name is in the 2 td tag. \n",
    "        current['mine_name'] = each_element.find_all('td')[3]\n",
    "        current['state'] =\n",
    "        current['mine_type']\n",
    "        current['coal_metal']\n",
    "        current['status']\n",
    "        current['commodity']\n",
    "        mines.append(current)"
   ]
  },
  {
   "cell_type": "markdown",
   "metadata": {},
   "source": [
    "### Save that to a CSV"
   ]
  },
  {
   "cell_type": "code",
   "execution_count": 1,
   "metadata": {},
   "outputs": [
    {
     "ename": "NameError",
     "evalue": "name 'mines_df' is not defined",
     "output_type": "error",
     "traceback": [
      "\u001b[0;31m---------------------------------------------------------------------------\u001b[0m",
      "\u001b[0;31mNameError\u001b[0m                                 Traceback (most recent call last)",
      "\u001b[0;32m<ipython-input-1-4702248ca80a>\u001b[0m in \u001b[0;36m<module>\u001b[0;34m()\u001b[0m\n\u001b[1;32m      1\u001b[0m \u001b[0;32mimport\u001b[0m \u001b[0mpandas\u001b[0m \u001b[0;32mas\u001b[0m \u001b[0mpd\u001b[0m\u001b[0;34m\u001b[0m\u001b[0m\n\u001b[0;32m----> 2\u001b[0;31m \u001b[0mdf\u001b[0m \u001b[0;34m=\u001b[0m \u001b[0mpd\u001b[0m\u001b[0;34m.\u001b[0m\u001b[0mDataFrame\u001b[0m\u001b[0;34m(\u001b[0m\u001b[0mmines_df\u001b[0m\u001b[0;34m)\u001b[0m\u001b[0;34m\u001b[0m\u001b[0m\n\u001b[0m\u001b[1;32m      3\u001b[0m \u001b[0mdf\u001b[0m\u001b[0;34m.\u001b[0m\u001b[0mto_csv\u001b[0m\u001b[0;34m(\u001b[0m\u001b[0;34m\"mines.csv\"\u001b[0m\u001b[0;34m,\u001b[0m \u001b[0mindex\u001b[0m\u001b[0;34m=\u001b[0m\u001b[0;32mFalse\u001b[0m\u001b[0;34m)\u001b[0m\u001b[0;34m\u001b[0m\u001b[0m\n",
      "\u001b[0;31mNameError\u001b[0m: name 'mines_df' is not defined"
     ]
    }
   ],
   "source": [
    "import pandas as pd\n",
    "df = pd.DataFrame(mines_df)\n",
    "df.to_csv(\"mines_df.csv\", index=False)"
   ]
  },
  {
   "cell_type": "markdown",
   "metadata": {},
   "source": [
    "### Open the CSV file and examine the first few. Make sure you didn't save an extra weird unnamed column."
   ]
  },
  {
   "cell_type": "code",
   "execution_count": 66,
   "metadata": {},
   "outputs": [
    {
     "ename": "FileNotFoundError",
     "evalue": "File b'mines' does not exist",
     "output_type": "error",
     "traceback": [
      "\u001b[0;31m---------------------------------------------------------------------------\u001b[0m",
      "\u001b[0;31mFileNotFoundError\u001b[0m                         Traceback (most recent call last)",
      "\u001b[0;32m<ipython-input-66-436b64e9c67b>\u001b[0m in \u001b[0;36m<module>\u001b[0;34m()\u001b[0m\n\u001b[0;32m----> 1\u001b[0;31m \u001b[0mtx_barber_df\u001b[0m \u001b[0;34m=\u001b[0m \u001b[0mpd\u001b[0m\u001b[0;34m.\u001b[0m\u001b[0mread_csv\u001b[0m\u001b[0;34m(\u001b[0m\u001b[0;34m'mines'\u001b[0m\u001b[0;34m)\u001b[0m\u001b[0;34m\u001b[0m\u001b[0m\n\u001b[0m\u001b[1;32m      2\u001b[0m \u001b[0mtx_barber_df\u001b[0m\u001b[0;34m.\u001b[0m\u001b[0mhead\u001b[0m\u001b[0;34m(\u001b[0m\u001b[0;34m)\u001b[0m\u001b[0;34m\u001b[0m\u001b[0m\n",
      "\u001b[0;32m/usr/local/lib/python3.6/site-packages/pandas/io/parsers.py\u001b[0m in \u001b[0;36mparser_f\u001b[0;34m(filepath_or_buffer, sep, delimiter, header, names, index_col, usecols, squeeze, prefix, mangle_dupe_cols, dtype, engine, converters, true_values, false_values, skipinitialspace, skiprows, nrows, na_values, keep_default_na, na_filter, verbose, skip_blank_lines, parse_dates, infer_datetime_format, keep_date_col, date_parser, dayfirst, iterator, chunksize, compression, thousands, decimal, lineterminator, quotechar, quoting, escapechar, comment, encoding, dialect, tupleize_cols, error_bad_lines, warn_bad_lines, skipfooter, skip_footer, doublequote, delim_whitespace, as_recarray, compact_ints, use_unsigned, low_memory, buffer_lines, memory_map, float_precision)\u001b[0m\n\u001b[1;32m    653\u001b[0m                     skip_blank_lines=skip_blank_lines)\n\u001b[1;32m    654\u001b[0m \u001b[0;34m\u001b[0m\u001b[0m\n\u001b[0;32m--> 655\u001b[0;31m         \u001b[0;32mreturn\u001b[0m \u001b[0m_read\u001b[0m\u001b[0;34m(\u001b[0m\u001b[0mfilepath_or_buffer\u001b[0m\u001b[0;34m,\u001b[0m \u001b[0mkwds\u001b[0m\u001b[0;34m)\u001b[0m\u001b[0;34m\u001b[0m\u001b[0m\n\u001b[0m\u001b[1;32m    656\u001b[0m \u001b[0;34m\u001b[0m\u001b[0m\n\u001b[1;32m    657\u001b[0m     \u001b[0mparser_f\u001b[0m\u001b[0;34m.\u001b[0m\u001b[0m__name__\u001b[0m \u001b[0;34m=\u001b[0m \u001b[0mname\u001b[0m\u001b[0;34m\u001b[0m\u001b[0m\n",
      "\u001b[0;32m/usr/local/lib/python3.6/site-packages/pandas/io/parsers.py\u001b[0m in \u001b[0;36m_read\u001b[0;34m(filepath_or_buffer, kwds)\u001b[0m\n\u001b[1;32m    403\u001b[0m \u001b[0;34m\u001b[0m\u001b[0m\n\u001b[1;32m    404\u001b[0m     \u001b[0;31m# Create the parser.\u001b[0m\u001b[0;34m\u001b[0m\u001b[0;34m\u001b[0m\u001b[0m\n\u001b[0;32m--> 405\u001b[0;31m     \u001b[0mparser\u001b[0m \u001b[0;34m=\u001b[0m \u001b[0mTextFileReader\u001b[0m\u001b[0;34m(\u001b[0m\u001b[0mfilepath_or_buffer\u001b[0m\u001b[0;34m,\u001b[0m \u001b[0;34m**\u001b[0m\u001b[0mkwds\u001b[0m\u001b[0;34m)\u001b[0m\u001b[0;34m\u001b[0m\u001b[0m\n\u001b[0m\u001b[1;32m    406\u001b[0m \u001b[0;34m\u001b[0m\u001b[0m\n\u001b[1;32m    407\u001b[0m     \u001b[0;32mif\u001b[0m \u001b[0mchunksize\u001b[0m \u001b[0;32mor\u001b[0m \u001b[0miterator\u001b[0m\u001b[0;34m:\u001b[0m\u001b[0;34m\u001b[0m\u001b[0m\n",
      "\u001b[0;32m/usr/local/lib/python3.6/site-packages/pandas/io/parsers.py\u001b[0m in \u001b[0;36m__init__\u001b[0;34m(self, f, engine, **kwds)\u001b[0m\n\u001b[1;32m    762\u001b[0m             \u001b[0mself\u001b[0m\u001b[0;34m.\u001b[0m\u001b[0moptions\u001b[0m\u001b[0;34m[\u001b[0m\u001b[0;34m'has_index_names'\u001b[0m\u001b[0;34m]\u001b[0m \u001b[0;34m=\u001b[0m \u001b[0mkwds\u001b[0m\u001b[0;34m[\u001b[0m\u001b[0;34m'has_index_names'\u001b[0m\u001b[0;34m]\u001b[0m\u001b[0;34m\u001b[0m\u001b[0m\n\u001b[1;32m    763\u001b[0m \u001b[0;34m\u001b[0m\u001b[0m\n\u001b[0;32m--> 764\u001b[0;31m         \u001b[0mself\u001b[0m\u001b[0;34m.\u001b[0m\u001b[0m_make_engine\u001b[0m\u001b[0;34m(\u001b[0m\u001b[0mself\u001b[0m\u001b[0;34m.\u001b[0m\u001b[0mengine\u001b[0m\u001b[0;34m)\u001b[0m\u001b[0;34m\u001b[0m\u001b[0m\n\u001b[0m\u001b[1;32m    765\u001b[0m \u001b[0;34m\u001b[0m\u001b[0m\n\u001b[1;32m    766\u001b[0m     \u001b[0;32mdef\u001b[0m \u001b[0mclose\u001b[0m\u001b[0;34m(\u001b[0m\u001b[0mself\u001b[0m\u001b[0;34m)\u001b[0m\u001b[0;34m:\u001b[0m\u001b[0;34m\u001b[0m\u001b[0m\n",
      "\u001b[0;32m/usr/local/lib/python3.6/site-packages/pandas/io/parsers.py\u001b[0m in \u001b[0;36m_make_engine\u001b[0;34m(self, engine)\u001b[0m\n\u001b[1;32m    983\u001b[0m     \u001b[0;32mdef\u001b[0m \u001b[0m_make_engine\u001b[0m\u001b[0;34m(\u001b[0m\u001b[0mself\u001b[0m\u001b[0;34m,\u001b[0m \u001b[0mengine\u001b[0m\u001b[0;34m=\u001b[0m\u001b[0;34m'c'\u001b[0m\u001b[0;34m)\u001b[0m\u001b[0;34m:\u001b[0m\u001b[0;34m\u001b[0m\u001b[0m\n\u001b[1;32m    984\u001b[0m         \u001b[0;32mif\u001b[0m \u001b[0mengine\u001b[0m \u001b[0;34m==\u001b[0m \u001b[0;34m'c'\u001b[0m\u001b[0;34m:\u001b[0m\u001b[0;34m\u001b[0m\u001b[0m\n\u001b[0;32m--> 985\u001b[0;31m             \u001b[0mself\u001b[0m\u001b[0;34m.\u001b[0m\u001b[0m_engine\u001b[0m \u001b[0;34m=\u001b[0m \u001b[0mCParserWrapper\u001b[0m\u001b[0;34m(\u001b[0m\u001b[0mself\u001b[0m\u001b[0;34m.\u001b[0m\u001b[0mf\u001b[0m\u001b[0;34m,\u001b[0m \u001b[0;34m**\u001b[0m\u001b[0mself\u001b[0m\u001b[0;34m.\u001b[0m\u001b[0moptions\u001b[0m\u001b[0;34m)\u001b[0m\u001b[0;34m\u001b[0m\u001b[0m\n\u001b[0m\u001b[1;32m    986\u001b[0m         \u001b[0;32melse\u001b[0m\u001b[0;34m:\u001b[0m\u001b[0;34m\u001b[0m\u001b[0m\n\u001b[1;32m    987\u001b[0m             \u001b[0;32mif\u001b[0m \u001b[0mengine\u001b[0m \u001b[0;34m==\u001b[0m \u001b[0;34m'python'\u001b[0m\u001b[0;34m:\u001b[0m\u001b[0;34m\u001b[0m\u001b[0m\n",
      "\u001b[0;32m/usr/local/lib/python3.6/site-packages/pandas/io/parsers.py\u001b[0m in \u001b[0;36m__init__\u001b[0;34m(self, src, **kwds)\u001b[0m\n\u001b[1;32m   1603\u001b[0m         \u001b[0mkwds\u001b[0m\u001b[0;34m[\u001b[0m\u001b[0;34m'allow_leading_cols'\u001b[0m\u001b[0;34m]\u001b[0m \u001b[0;34m=\u001b[0m \u001b[0mself\u001b[0m\u001b[0;34m.\u001b[0m\u001b[0mindex_col\u001b[0m \u001b[0;32mis\u001b[0m \u001b[0;32mnot\u001b[0m \u001b[0;32mFalse\u001b[0m\u001b[0;34m\u001b[0m\u001b[0m\n\u001b[1;32m   1604\u001b[0m \u001b[0;34m\u001b[0m\u001b[0m\n\u001b[0;32m-> 1605\u001b[0;31m         \u001b[0mself\u001b[0m\u001b[0;34m.\u001b[0m\u001b[0m_reader\u001b[0m \u001b[0;34m=\u001b[0m \u001b[0mparsers\u001b[0m\u001b[0;34m.\u001b[0m\u001b[0mTextReader\u001b[0m\u001b[0;34m(\u001b[0m\u001b[0msrc\u001b[0m\u001b[0;34m,\u001b[0m \u001b[0;34m**\u001b[0m\u001b[0mkwds\u001b[0m\u001b[0;34m)\u001b[0m\u001b[0;34m\u001b[0m\u001b[0m\n\u001b[0m\u001b[1;32m   1606\u001b[0m \u001b[0;34m\u001b[0m\u001b[0m\n\u001b[1;32m   1607\u001b[0m         \u001b[0;31m# XXX\u001b[0m\u001b[0;34m\u001b[0m\u001b[0;34m\u001b[0m\u001b[0m\n",
      "\u001b[0;32mpandas/_libs/parsers.pyx\u001b[0m in \u001b[0;36mpandas._libs.parsers.TextReader.__cinit__ (pandas/_libs/parsers.c:4209)\u001b[0;34m()\u001b[0m\n",
      "\u001b[0;32mpandas/_libs/parsers.pyx\u001b[0m in \u001b[0;36mpandas._libs.parsers.TextReader._setup_parser_source (pandas/_libs/parsers.c:8873)\u001b[0;34m()\u001b[0m\n",
      "\u001b[0;31mFileNotFoundError\u001b[0m: File b'mines' does not exist"
     ]
    }
   ],
   "source": [
    "mines_df = pd.read_csv('mines')\n",
    "mines_df.head()\n"
   ]
  },
  {
   "cell_type": "code",
   "execution_count": null,
   "metadata": {
    "collapsed": true
   },
   "outputs": [],
   "source": []
  }
 ],
 "metadata": {
  "kernelspec": {
   "display_name": "Python 3",
   "language": "python",
   "name": "python3"
  },
  "language_info": {
   "codemirror_mode": {
    "name": "ipython",
    "version": 3
   },
   "file_extension": ".py",
   "mimetype": "text/x-python",
   "name": "python",
   "nbconvert_exporter": "python",
   "pygments_lexer": "ipython3",
   "version": "3.6.1"
  }
 },
 "nbformat": 4,
 "nbformat_minor": 2
}
