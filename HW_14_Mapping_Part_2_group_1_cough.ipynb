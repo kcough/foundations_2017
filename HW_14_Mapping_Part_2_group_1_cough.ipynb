{
 "cells": [
  {
   "cell_type": "markdown",
   "metadata": {},
   "source": [
    "# Homework 14 \n",
    "## Mapping Part 2 : Group 1\n",
    "\n",
    "\n",
    "### Kate Cough\n",
    "### Due: July 15 2017\n"
   ]
  },
  {
   "cell_type": "code",
   "execution_count": 1,
   "metadata": {
    "collapsed": true
   },
   "outputs": [],
   "source": [
    "import pandas as pd\n",
    "import geopandas as gpd\n",
    "from shapely.geometry import Point\n",
    "import matplotlib.pyplot as plt\n",
    "import pysal as ps\n",
    "\n",
    "\n",
    "%matplotlib inline"
   ]
  },
  {
   "cell_type": "code",
   "execution_count": 2,
   "metadata": {},
   "outputs": [
    {
     "data": {
      "text/html": [
       "<div>\n",
       "<style>\n",
       "    .dataframe thead tr:only-child th {\n",
       "        text-align: right;\n",
       "    }\n",
       "\n",
       "    .dataframe thead th {\n",
       "        text-align: left;\n",
       "    }\n",
       "\n",
       "    .dataframe tbody tr th {\n",
       "        vertical-align: top;\n",
       "    }\n",
       "</style>\n",
       "<table border=\"1\" class=\"dataframe\">\n",
       "  <thead>\n",
       "    <tr style=\"text-align: right;\">\n",
       "      <th></th>\n",
       "      <th>Plant_Code</th>\n",
       "      <th>Plant_Name</th>\n",
       "      <th>Utility_Na</th>\n",
       "      <th>Utility_ID</th>\n",
       "      <th>sector_nam</th>\n",
       "      <th>City</th>\n",
       "      <th>County</th>\n",
       "      <th>Zip</th>\n",
       "      <th>Street_Add</th>\n",
       "      <th>PrimSource</th>\n",
       "      <th>...</th>\n",
       "      <th>Solar_MW</th>\n",
       "      <th>Wind_MW</th>\n",
       "      <th>Geo_MW</th>\n",
       "      <th>Other_MW</th>\n",
       "      <th>source_des</th>\n",
       "      <th>tech_desc</th>\n",
       "      <th>Source</th>\n",
       "      <th>Period</th>\n",
       "      <th>Latitude</th>\n",
       "      <th>Longitude</th>\n",
       "    </tr>\n",
       "  </thead>\n",
       "  <tbody>\n",
       "    <tr>\n",
       "      <th>0</th>\n",
       "      <td>2</td>\n",
       "      <td>Bankhead Dam</td>\n",
       "      <td>Alabama Power Co</td>\n",
       "      <td>195</td>\n",
       "      <td>Electric Utility</td>\n",
       "      <td>Northport</td>\n",
       "      <td>Tuscaloosa</td>\n",
       "      <td>35476</td>\n",
       "      <td>19001 Lock 17 Road</td>\n",
       "      <td>hydroelectric</td>\n",
       "      <td>...</td>\n",
       "      <td>0.0</td>\n",
       "      <td>0.0</td>\n",
       "      <td>NaN</td>\n",
       "      <td>NaN</td>\n",
       "      <td>Hydroelectric = 56 MW</td>\n",
       "      <td>Conventional Hydroelectric</td>\n",
       "      <td>EIA-860, EIA-860M and EIA-923</td>\n",
       "      <td>201607</td>\n",
       "      <td>33.458665</td>\n",
       "      <td>-87.356823</td>\n",
       "    </tr>\n",
       "    <tr>\n",
       "      <th>1</th>\n",
       "      <td>3</td>\n",
       "      <td>Barry</td>\n",
       "      <td>Alabama Power Co</td>\n",
       "      <td>195</td>\n",
       "      <td>Electric Utility</td>\n",
       "      <td>Bucks</td>\n",
       "      <td>Mobile</td>\n",
       "      <td>36512</td>\n",
       "      <td>North Highway 43</td>\n",
       "      <td>coal</td>\n",
       "      <td>...</td>\n",
       "      <td>0.0</td>\n",
       "      <td>0.0</td>\n",
       "      <td>NaN</td>\n",
       "      <td>NaN</td>\n",
       "      <td>Coal = 1088.5 MW, Natural Gas = 1072 MW</td>\n",
       "      <td>Conventional Steam Coal; Natural Gas Fired Com...</td>\n",
       "      <td>EIA-860, EIA-860M and EIA-923</td>\n",
       "      <td>201607</td>\n",
       "      <td>31.006900</td>\n",
       "      <td>-88.010300</td>\n",
       "    </tr>\n",
       "  </tbody>\n",
       "</table>\n",
       "<p>2 rows × 28 columns</p>\n",
       "</div>"
      ],
      "text/plain": [
       "   Plant_Code    Plant_Name        Utility_Na  Utility_ID        sector_nam  \\\n",
       "0           2  Bankhead Dam  Alabama Power Co         195  Electric Utility   \n",
       "1           3         Barry  Alabama Power Co         195  Electric Utility   \n",
       "\n",
       "        City      County    Zip          Street_Add     PrimSource    ...      \\\n",
       "0  Northport  Tuscaloosa  35476  19001 Lock 17 Road  hydroelectric    ...       \n",
       "1      Bucks      Mobile  36512    North Highway 43           coal    ...       \n",
       "\n",
       "   Solar_MW  Wind_MW  Geo_MW  Other_MW  \\\n",
       "0       0.0      0.0     NaN       NaN   \n",
       "1       0.0      0.0     NaN       NaN   \n",
       "\n",
       "                                source_des  \\\n",
       "0                    Hydroelectric = 56 MW   \n",
       "1  Coal = 1088.5 MW, Natural Gas = 1072 MW   \n",
       "\n",
       "                                           tech_desc  \\\n",
       "0                         Conventional Hydroelectric   \n",
       "1  Conventional Steam Coal; Natural Gas Fired Com...   \n",
       "\n",
       "                          Source  Period   Latitude  Longitude  \n",
       "0  EIA-860, EIA-860M and EIA-923  201607  33.458665 -87.356823  \n",
       "1  EIA-860, EIA-860M and EIA-923  201607  31.006900 -88.010300  \n",
       "\n",
       "[2 rows x 28 columns]"
      ]
     },
     "execution_count": 2,
     "metadata": {},
     "output_type": "execute_result"
    }
   ],
   "source": [
    "powerplants = pd.read_csv('/Users/kaitlincough/Documents/Lede/foundation/14-homework-powerplants/powerplants.csv')\n",
    "powerplants.head(2)"
   ]
  },
  {
   "cell_type": "code",
   "execution_count": null,
   "metadata": {},
   "outputs": [],
   "source": [
    "#import the files we need and look at them. just powerplants for now.\n",
    "powerplants = pd.read_csv('/Users/kaitlincough/Documents/Lede/foundation/14-homework-powerplants/powerplants.csv')\n",
    "#apply the function to each row of powerplants to turn it into a geodatafram\n",
    "points = powerplants.apply(lambda row: Point(row.Longitude, row.Latitude), axis=1)\n",
    "#actually make it a geodataframe\n",
    "powerplants = gpd.GeoDataFrame(powerplants, geometry=points)\n",
    "#set the crs so we're not sad later\n",
    "powerplants.crs = {'init':'epsg:5070'}\n",
    "powerplants.head(2)"
   ]
  },
  {
   "cell_type": "code",
   "execution_count": null,
   "metadata": {},
   "outputs": [],
   "source": [
    "#always a good idea to plot it, just to see right. \n",
    "#and to make it not totally awful so our eyes don't burn\n",
    "#alpha is for opacity, markeredgewidth and sizes are just \n",
    "#to change the dot sizes\n",
    "#keep the axis for now so we can see the lat/long\n",
    "\n",
    "powerplants.plot(figsize=(20,10), color='#3498DB', markeredgewidth=0, markersize=5, alpha=0.5)\n"
   ]
  },
  {
   "cell_type": "markdown",
   "metadata": {},
   "source": [
    "Lesson: there are a LOT of powerplants in the US. "
   ]
  },
  {
   "cell_type": "code",
   "execution_count": null,
   "metadata": {},
   "outputs": [],
   "source": [
    "#let's plot it without the axis and set the x,y limits\n",
    "#so we can just focus on the continental us\n",
    "ax = powerplants.plot(figsize=(20,10), color='#3498DB', markeredgewidth=0, markersize=5, alpha=0.5)\n",
    "# ax.axis('off')\n",
    "\n",
    "#set the limits so it stays within these lat/long.\n",
    "#we know the limits we want to use by looking at the map above\n",
    "ax.set_xlim([-130,-60])\n",
    "ax.set_ylim([25,50])"
   ]
  },
  {
   "cell_type": "code",
   "execution_count": null,
   "metadata": {},
   "outputs": [],
   "source": [
    "#import the shape file. remember it's reading EVERYTHING in the folder, not just the .shp\n",
    "#but we only import the .shp\n",
    "\n",
    "states = gpd.read_file('/Users/kaitlincough/Documents/Lede/foundation/14-homework-powerplants/cb_2016_us_state_500k/cb_2016_us_state_500k.shp')\n",
    "#change the crs to match the one above, use the conus albers one\n",
    "#which is good for the united states but sad for other places\n",
    "states.crs = {'init':'epsg:5070'}\n",
    "states.head(2)"
   ]
  },
  {
   "cell_type": "code",
   "execution_count": null,
   "metadata": {},
   "outputs": [],
   "source": [
    "#plot the states, turn off the axis, make the colors not horrendous\n",
    "\n",
    "ax = states.plot(figsize=(20,10), color='lightgrey', edgecolor='white')\n",
    "# ax.axis('off')"
   ]
  },
  {
   "cell_type": "code",
   "execution_count": null,
   "metadata": {},
   "outputs": [],
   "source": [
    "ax = states.plot(figsize=(20,10), color='lightgrey', edgecolor='white')\n",
    "powerplants.plot(figsize=(20,10), ax=ax, color='#3498DB', markeredgewidth=0, markersize=5, alpha=0.5)\n",
    "ax.set_xlim([-130,-60])\n",
    "ax.set_ylim([25,50])\n",
    "# ax.axis('off')"
   ]
  },
  {
   "cell_type": "markdown",
   "metadata": {},
   "source": [
    "### 1. Make a map of power plants in the US, color coded by type\n"
   ]
  },
  {
   "cell_type": "code",
   "execution_count": null,
   "metadata": {},
   "outputs": [],
   "source": [
    "#first let's remember what's in there:\n",
    "powerplants.head(1)"
   ]
  },
  {
   "cell_type": "code",
   "execution_count": null,
   "metadata": {},
   "outputs": [],
   "source": [
    "#use a nice color map: https://matplotlib.org/users/colormaps.html\n",
    "#have it pay attention to the column PrimSource\n",
    "\n",
    "ax = powerplants.plot(column='PrimSource', cmap='GnBu', figsize=(20,20), markersize=5, alpha=0.5)\n",
    "# ax.axis('off')"
   ]
  },
  {
   "cell_type": "code",
   "execution_count": null,
   "metadata": {},
   "outputs": [],
   "source": [
    "#we can make this look nicer by plotting it on top\n",
    "#of the state's geometry\n",
    "\n",
    "ax = states.plot(figsize=(20,10), color='lightgrey', edgecolor='white')\n",
    "powerplants.plot(ax=ax, column='PrimSource', cmap='GnBu', figsize=(20,20), markersize=5, alpha=0.5)\n",
    "\n",
    "ax.set_xlim([-130,-60])\n",
    "ax.set_ylim([25,50])\n",
    "# ax.axis('off')"
   ]
  },
  {
   "cell_type": "markdown",
   "metadata": {},
   "source": [
    "### 2. Make a map of air quality stations, color coded by average air quality\n"
   ]
  },
  {
   "cell_type": "code",
   "execution_count": null,
   "metadata": {},
   "outputs": [],
   "source": [
    "#we need this file with the air quality monitoring info\n",
    "\n",
    "airqual = pd.read_csv('/Users/kaitlincough/Documents/Lede/foundation/14-homework-powerplants/annual_conc_by_monitor_2017.csv')\n",
    "airqual.head(2)"
   ]
  },
  {
   "cell_type": "code",
   "execution_count": null,
   "metadata": {},
   "outputs": [],
   "source": [
    "#turn the airqual into a geodataframe \n",
    "#read in only useful columns\n",
    "\n",
    "airqual = pd.read_csv('/Users/kaitlincough/Documents/Lede/foundation/14-homework-powerplants/pm25_annual_fixed.csv', usecols = ['Latitude', 'Longitude', 'Datum', 'Arithmetic Mean', '1st Max Value', 'State Name', 'County Name', 'City Name'])\n",
    "points = airqual.apply(lambda row: Point(row.Longitude, row.Latitude), axis=1)\n",
    "airqual = gpd.GeoDataFrame(airqual, geometry=points)\n",
    "airqual.crs = {'init':'epsg:5070'}\n",
    "airqual.head()"
   ]
  },
  {
   "cell_type": "code",
   "execution_count": null,
   "metadata": {},
   "outputs": [],
   "source": [
    "ax = states.plot(figsize=(20,10), color='lightgrey', edgecolor='white')\n",
    "\n",
    "airqual.plot(ax=ax, column='Arithmetic Mean', cmap='Blues', figsize=(20,10))\n",
    "#focus on the continental US\n",
    "ax.set_xlim([-130,-60])\n",
    "ax.set_ylim([25,50])"
   ]
  },
  {
   "cell_type": "markdown",
   "metadata": {},
   "source": [
    "### 3. Make a map of air quality stations, color coded by worst air quality ever \n"
   ]
  },
  {
   "cell_type": "code",
   "execution_count": null,
   "metadata": {},
   "outputs": [],
   "source": [
    "ax = states.plot(figsize=(20,10), color='lightgrey', edgecolor='white')\n",
    "\n",
    "\n",
    "airqual.plot(ax=ax, column='1st Max Value', cmap='Greens')\n",
    "\n",
    "ax.set_xlim([-130,-60])\n",
    "ax.set_ylim([25,50])"
   ]
  },
  {
   "cell_type": "markdown",
   "metadata": {},
   "source": [
    "### 4. Map the power plants owned by the top 5 most common energy companies as red. Map the rest of the plants as dark grey."
   ]
  },
  {
   "cell_type": "code",
   "execution_count": null,
   "metadata": {
    "collapsed": true
   },
   "outputs": [],
   "source": [
    "powerplants.head(2)"
   ]
  },
  {
   "cell_type": "code",
   "execution_count": null,
   "metadata": {
    "collapsed": true
   },
   "outputs": [],
   "source": [
    "#here's the series with the parameter\n",
    "powerplants['Utility_Na'].value_counts().head().index"
   ]
  },
  {
   "cell_type": "code",
   "execution_count": null,
   "metadata": {
    "collapsed": true
   },
   "outputs": [],
   "source": [
    "#save it in a variable\n",
    "top_five = powerplants['Utility_Na'].value_counts().head().index\n",
    "top_five"
   ]
  },
  {
   "cell_type": "code",
   "execution_count": null,
   "metadata": {
    "collapsed": true
   },
   "outputs": [],
   "source": [
    "#save it to a list\n",
    "top_list = top_five.tolist()\n",
    "top_list"
   ]
  },
  {
   "cell_type": "code",
   "execution_count": null,
   "metadata": {
    "collapsed": true
   },
   "outputs": [],
   "source": [
    "#check to see if a plant is in the list.\n",
    "#if it is, make it red, if not, grey\n",
    "powerplants[powerplants['Utility_Na'].isin(top_list)].plot(markersize=3, alpha=0.5, color='red')"
   ]
  },
  {
   "cell_type": "code",
   "execution_count": null,
   "metadata": {
    "collapsed": true
   },
   "outputs": [],
   "source": [
    "#create a separate data frame plot those in red, and then you plot them on top of one another\n",
    "ax = states.plot(figsize=(20,20), color = 'lightgray', edgecolor = 'white')\n",
    "# ax.axis('off')\n",
    "powerplants[~powerplants['Utility_Na'].isin(top_list)].plot(markersize=3, alpha=0.5, color='darkgrey', ax=ax, figsize=(20,20))\n",
    "powerplants[powerplants['Utility_Na'].isin(top_list)].plot(markersize=3, alpha=0.5, color='red', ax=ax, figsize=(20,20))"
   ]
  },
  {
   "cell_type": "markdown",
   "metadata": {},
   "source": [
    "### 5. Map all of the nuclear power plants in red, with the rest of the plants as dark grey.\n"
   ]
  },
  {
   "cell_type": "code",
   "execution_count": null,
   "metadata": {
    "collapsed": true
   },
   "outputs": [],
   "source": [
    "powerplants.PrimSource.value_counts()"
   ]
  },
  {
   "cell_type": "code",
   "execution_count": null,
   "metadata": {
    "collapsed": true
   },
   "outputs": [],
   "source": [
    "nuclear = powerplants[(powerplants['PrimSource'] == 'nuclear')]\n",
    "nuclear.plot(color='red')\n"
   ]
  },
  {
   "cell_type": "code",
   "execution_count": null,
   "metadata": {
    "collapsed": true
   },
   "outputs": [],
   "source": [
    "non_nuclear = powerplants[(powerplants['PrimSource'] != 'nuclear')]\n",
    "non_nuclear.plot(color='darkgrey')"
   ]
  },
  {
   "cell_type": "code",
   "execution_count": null,
   "metadata": {
    "collapsed": true
   },
   "outputs": [],
   "source": [
    "ax = states.plot(figsize=(20,20), color = 'lightgray', edgecolor = 'white')\n",
    "# ax.axis('off')\n",
    "\n",
    "nuclear.plot(ax=ax, color='red')\n",
    "non_nuclear.plot(ax=ax, color='darkgrey', alpha=0.5)\n",
    "\n",
    "ax.set_xlim([-130,-60])\n",
    "ax.set_ylim([25,50])"
   ]
  },
  {
   "cell_type": "code",
   "execution_count": null,
   "metadata": {
    "collapsed": true
   },
   "outputs": [],
   "source": []
  },
  {
   "cell_type": "markdown",
   "metadata": {},
   "source": [
    "### 6. Map power plants that produce energy through both natural gas and oil."
   ]
  },
  {
   "cell_type": "code",
   "execution_count": null,
   "metadata": {
    "collapsed": true
   },
   "outputs": [],
   "source": [
    "powerplants['tech_desc'].value_counts()"
   ]
  },
  {
   "cell_type": "code",
   "execution_count": null,
   "metadata": {
    "collapsed": true
   },
   "outputs": [],
   "source": [
    "#find the powerplants, using string contains,\n",
    "#that use natural gas or petroleum\n",
    "\n",
    "gas_oil = powerplants[powerplants['source_des'].str.contains('Natural Gas|Petroleum')]\n",
    "gas_oil.plot(color='green')"
   ]
  },
  {
   "cell_type": "code",
   "execution_count": null,
   "metadata": {
    "collapsed": true
   },
   "outputs": [],
   "source": [
    "#plot them on the original map\n",
    "ax = states.plot(color='lightgrey', edgecolor='white', figsize = (20,20))\n",
    "# ax.axis('off')\n",
    "\n",
    "gas_oil.plot(color='green', figsize=(20,20), ax=ax)"
   ]
  }
 ],
 "metadata": {
  "kernelspec": {
   "display_name": "Python 3",
   "language": "python",
   "name": "python3"
  },
  "language_info": {
   "codemirror_mode": {
    "name": "ipython",
    "version": 3
   },
   "file_extension": ".py",
   "mimetype": "text/x-python",
   "name": "python",
   "nbconvert_exporter": "python",
   "pygments_lexer": "ipython3",
   "version": "3.6.1"
  }
 },
 "nbformat": 4,
 "nbformat_minor": 2
}
